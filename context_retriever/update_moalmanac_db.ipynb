{
 "cells": [
  {
   "cell_type": "markdown",
   "id": "e3e538b9",
   "metadata": {},
   "source": [
    "## Loads"
   ]
  },
  {
   "cell_type": "code",
   "execution_count": null,
   "id": "34fe19df",
   "metadata": {},
   "outputs": [],
   "source": [
    "os.chdir(root_dir)\n",
    "os.getcwd()"
   ]
  },
  {
   "cell_type": "code",
   "execution_count": 20,
   "id": "27924ce5",
   "metadata": {},
   "outputs": [],
   "source": [
    "import sys\n",
    "import os\n",
    "script_dir = os.getcwd()\n",
    "root_dir = os.path.join(os.path.dirname(os.path.abspath(script_dir)))\n",
    "sys.path.append(os.path.join(os.path.dirname(os.path.abspath(script_dir))))\n",
    "\n",
    "import json\n",
    "import pandas as pd\n",
    "import numpy as np\n",
    "from utils.io import load_object, save_object\n",
    "from collections import Counter\n",
    "import requests\n",
    "import random\n",
    "import math"
   ]
  },
  {
   "cell_type": "markdown",
   "id": "f66f9ad7",
   "metadata": {},
   "source": [
    "All functions used in this notebook"
   ]
  },
  {
   "cell_type": "code",
   "execution_count": 4,
   "id": "7f624b55",
   "metadata": {},
   "outputs": [
    {
     "name": "stdout",
     "output_type": "stream",
     "text": [
      "2025-09-04\n"
     ]
    }
   ],
   "source": [
    "#local db version\n",
    "CACHE_FILE = \"db_version_cache.json\"\n",
    "\n",
    "def get_remote_version():\n",
    "    agents = requests.get('https://api.moalmanac.org/agents').json()\n",
    "    return agents['service']['last_updated']\n",
    "\n",
    "def get_local_version():\n",
    "    if os.path.exists(CACHE_FILE):\n",
    "        with open(CACHE_FILE) as f:\n",
    "            return json.load(f).get(\"version\")\n",
    "    return None\n",
    "\n",
    "def save_local_version(version):\n",
    "    with open(CACHE_FILE, \"w\") as f:\n",
    "        json.dump({\"version\": version}, f)\n",
    "\n",
    "\n",
    "#split ranges for testing on small batches\n",
    "def split_ranges(max_int, num_ranges, samples=None, seed=42):\n",
    "    random.seed(seed)\n",
    "    step = math.ceil(max_int / num_ranges)\n",
    "    ranges = [(i*step+1, min((i+1)*step, max_int)) for i in range(num_ranges)]\n",
    "    \n",
    "    if samples is None:\n",
    "        return ranges\n",
    "    \n",
    "    # split samples evenly across ranges\n",
    "    n_per_range = samples // num_ranges\n",
    "    remainder = samples % num_ranges\n",
    "    \n",
    "    result = []\n",
    "    for i, r in enumerate(ranges):\n",
    "        count = n_per_range + (1 if i < remainder else 0)\n",
    "        result.extend(random.randint(r[0], r[1]) for _ in range(count))\n",
    "    \n",
    "    return result\n",
    "\n",
    "\n",
    "# function to subset FDA statements\n",
    "def subset_db_statements(statements, organization='fda'):\n",
    "    # subset statements\n",
    "    subset=[statement for statement in statements if statement['reportedIn'][0]['organization']['id'] == organization]\n",
    "    return subset\n",
    "\n",
    "\n",
    "# function to ensure list\n",
    "def ensure_list(x):\n",
    "    return x if isinstance(x, list) else [x]\n",
    "\n",
    "\n",
    "# function to extract biomarker from statement\n",
    "def extract_biomarker_info(stmt):\n",
    "    # extract biomarkers from the statement\n",
    "    biomarkers_list = []\n",
    "    for i in range(len(stmt['proposition']['biomarkers'])):\n",
    "        biomarker = stmt[\"proposition\"][\"biomarkers\"][i][\"name\"]\n",
    "        extensions_dict = {item['name']: item['value'] for item in stmt['proposition']['biomarkers'][i]['extensions']}\n",
    "        presence = extensions_dict.get('present', '')\n",
    "        biomarkers_list.append(biomarker)\n",
    "        \n",
    "        # extract presence information\n",
    "        if presence == True:\n",
    "            biomarker += \" [present]\"\n",
    "        else:   \n",
    "            biomarker += \" [not present]\"\n",
    "        if i == 0:\n",
    "            biomarkers_str = biomarker\n",
    "        else:\n",
    "            biomarkers_str += f\", {biomarker}\"\n",
    "    \n",
    "    extracted_info = {\n",
    "        \"str\": biomarkers_str, \n",
    "        \"list\": biomarkers_list\n",
    "    }\n",
    "    \n",
    "    return extracted_info\n",
    "\n",
    "\n",
    "# function to extract therapy info from statement\n",
    "def extract_therapy_info(stmt):\n",
    "    # extract membership operator\n",
    "    obj = stmt.get('proposition', {}).get('objectTherapeutic', {})\n",
    "    operator = obj.get('membership_operator', None)\n",
    "    \n",
    "    # extract therapy approach, type, and names\n",
    "    if operator == 'AND':\n",
    "        approach = 'Combination therapy'\n",
    "        therapy_strategyList = []\n",
    "        therapy_typeList = []\n",
    "        for therapy in obj.get('therapies', []):\n",
    "            extensions_dict = {item['name']: item['value'] for item in therapy['extensions']}\n",
    "            therapy_strategyList.extend(ensure_list(extensions_dict['therapy_strategy']))\n",
    "            therapy_typeList.extend(ensure_list(extensions_dict['therapy_type']))\n",
    "        drugList = [drug.get('name', None) for drug in obj.get('therapies', [])]\n",
    "        \n",
    "    else:\n",
    "        approach = 'Monotherapy'\n",
    "        therapy_strategyList = []\n",
    "        therapy_typeList = []\n",
    "        extensions_dict = {item['name']: item['value'] for item in obj['extensions']}\n",
    "        therapy_strategyList.extend(ensure_list(extensions_dict['therapy_strategy']))\n",
    "        therapy_typeList.extend(ensure_list(extensions_dict['therapy_type']))\n",
    "        drugList = [obj.get('name', None)]\n",
    "    \n",
    "    # sanity check for drugList\n",
    "    if any(d is None for d in drugList):\n",
    "        raise ValueError(f\"Found None in drugList for statement {stmt['id']}\")\n",
    "    \n",
    "    drug_str = \" + \".join([d for d in drugList if d is not None])\n",
    "    therapy_strategy_str = \" + \".join([s for s in therapy_strategyList if s is not None])\n",
    "    therapy_type_str = \" + \".join([t for t in therapy_typeList if t is not None])\n",
    "    \n",
    "    extracted_info = {\n",
    "        \"str\": {\n",
    "            \"drug_str\": drug_str, \n",
    "            \"therapy_approach\": approach,\n",
    "            \"therapy_strategy_str\": therapy_strategy_str, \n",
    "            \"therapy_type_str\": therapy_type_str\n",
    "                }, \n",
    "        \"list\": {\n",
    "            \"drugList\": drugList, \n",
    "            \"therapy_approach\": approach,\n",
    "            \"therapy_strategyList\": therapy_strategyList, \n",
    "            \"therapy_typeList\": therapy_typeList\n",
    "            }\n",
    "        }\n",
    "    \n",
    "    return extracted_info\n",
    "\n",
    "\n",
    "# function to flatten statement into summary text to include in context\n",
    "def flatten_statements(stmt: dict) -> str:\n",
    "    \n",
    "    statement_id = stmt.get(\"id\")\n",
    "    \n",
    "    # approval status\n",
    "    approval_status = stmt.get(\"reportedIn\", [{}])[0].get(\"subtype\", \"None\")\n",
    "    approval_org = stmt.get(\"reportedIn\", [{}])[0].get(\"organization\", {}).get(\"id\", \"Unknown organization\")\n",
    "    approval_url = stmt.get(\"reportedIn\", [{}])[0].get(\"url\", \"Unknown URL\")\n",
    "    approval_date = stmt.get(\"reportedIn\", [{}])[0].get(\"publication_date\", \"Unknown date\")\n",
    "    \n",
    "    # description and indication\n",
    "    description = stmt.get(\"description\", \"None\")\n",
    "    indication = stmt.get(\"indication\", {}).get(\"indication\", \"None\")\n",
    "    \n",
    "    # cancer type\n",
    "    cancer_type = stmt.get(\"proposition\", {}).get(\"conditionQualifier\", {}).get(\"name\", \"Unknown cancer\")\n",
    "    \n",
    "    # biomarkers\n",
    "    biomarker = extract_biomarker_info(stmt)\n",
    "    \n",
    "    # therapy\n",
    "    therapy_info = extract_therapy_info(stmt)\n",
    "    \n",
    "    # create summary text\n",
    "    summary = (\n",
    "        f\"Indication: {indication}\\n\"\n",
    "        f\"Cancer type: {cancer_type}\\n\"\n",
    "        f\"Biomarkers: {biomarker['str']}\\n\"\n",
    "        f\"Therapy: {therapy_info['str']['drug_str']}\\n\"\n",
    "        f\"Therapy approach: {therapy_info['str']['therapy_approach']}\\n\"\n",
    "        f\"Therapy strategy: {therapy_info['str']['therapy_strategy_str']}\\n\"\n",
    "        f\"Therapy type: {therapy_info['str']['therapy_type_str']}\\n\"\n",
    "        f\"Description: {description}\\n\"\n",
    "        f\"Approval status: {approval_status} ({approval_org})\\n\"\n",
    "        f\"Approval url: {approval_url}\\n\"\n",
    "        f\"Publication date: {approval_date}\"\n",
    "    )\n",
    "    \n",
    "    # create row to add to dataframe\n",
    "    row = {\n",
    "        \"statement_id\": statement_id,\n",
    "        \"approval_status\": approval_status,\n",
    "        \"approval_org\": approval_org,\n",
    "        \"description\": description,\n",
    "        \"indication\": indication,\n",
    "        \"cancer_type\": cancer_type,\n",
    "        \"biomarker\": biomarker['list'],\n",
    "        \"therapy_drug\": therapy_info['list']['drugList'],\n",
    "        \"therapy_approach\": therapy_info['list']['therapy_approach'],\n",
    "        \"therapy_strategy\": therapy_info['list']['therapy_strategyList'],\n",
    "        \"therapy_type\": therapy_info['list']['therapy_typeList'],\n",
    "        \"approval_url\": approval_url,\n",
    "        \"publication_date\": approval_date,\n",
    "        \"context\": summary\n",
    "    }\n",
    "    \n",
    "    return summary, row\n",
    "\n",
    "_VERSION = get_local_version()\n",
    "print(_VERSION)"
   ]
  },
  {
   "cell_type": "markdown",
   "id": "9d40070d",
   "metadata": {},
   "source": [
    "## Examine latest DB fields"
   ]
  },
  {
   "cell_type": "markdown",
   "id": "14f4492b",
   "metadata": {},
   "source": [
    "### Load latest MOAlamanc DB"
   ]
  },
  {
   "cell_type": "code",
   "execution_count": null,
   "id": "5bedc854",
   "metadata": {},
   "outputs": [
    {
     "name": "stdout",
     "output_type": "stream",
     "text": [
      "--2025-08-18 20:50:03--  https://raw.githubusercontent.com/vanallenlab/moalmanac-db/refs/heads/main/moalmanac-draft.dereferenced.json\n",
      "Resolving raw.githubusercontent.com (raw.githubusercontent.com)... 185.199.108.133, 185.199.109.133, 185.199.110.133, ...\n",
      "Connecting to raw.githubusercontent.com (raw.githubusercontent.com)|185.199.108.133|:443... connected.\n",
      "HTTP request sent, awaiting response... 200 OK\n",
      "Length: 7382022 (7.0M) [text/plain]\n",
      "Saving to: ‘/home/helenajun/rag-llm-cancer-paper/data/latest_db/moalmanac-draft.dereferenced.json’\n",
      "\n",
      "moalmanac-draft.der 100%[===================>]   7.04M  --.-KB/s    in 0.1s    \n",
      "\n",
      "2025-08-18 20:50:03 (69.5 MB/s) - ‘/home/helenajun/rag-llm-cancer-paper/data/latest_db/moalmanac-draft.dereferenced.json’ saved [7382022/7382022]\n",
      "\n"
     ]
    }
   ],
   "source": [
    "!wget https://raw.githubusercontent.com/vanallenlab/moalmanac-db/refs/heads/main/moalmanac-draft.dereferenced.json -P $root_dir/data/latest_db"
   ]
  },
  {
   "cell_type": "code",
   "execution_count": null,
   "id": "7dd46c61",
   "metadata": {},
   "outputs": [
    {
     "name": "stdout",
     "output_type": "stream",
     "text": [
      "--2025-08-18 20:54:12--  https://github.com/vanallenlab/moalmanac-db/blob/main/molecular-oncology-almanac.json\n",
      "Resolving github.com (github.com)... 140.82.114.3\n",
      "Connecting to github.com (github.com)|140.82.114.3|:443... connected.\n",
      "HTTP request sent, awaiting response... 200 OK\n",
      "Length: unspecified [text/html]\n",
      "Saving to: ‘/home/helenajun/rag-llm-cancer-paper/data/latest_db/molecular-oncology-almanac.json’\n",
      "\n",
      "molecular-oncology-     [ <=>                ]   2.18M  12.4MB/s    in 0.2s    \n",
      "\n",
      "2025-08-18 20:54:12 (12.4 MB/s) - ‘/home/helenajun/rag-llm-cancer-paper/data/latest_db/molecular-oncology-almanac.json’ saved [2289110]\n",
      "\n"
     ]
    }
   ],
   "source": [
    "! wget https://github.com/vanallenlab/moalmanac-db/blob/main/molecular-oncology-almanac.json -P $root_dir/data/latest_db"
   ]
  },
  {
   "cell_type": "markdown",
   "id": "efeb1a06",
   "metadata": {},
   "source": [
    "Key Fields (Brendan):\n",
    "- biomarkers: statement > proposition > biomarkers > and then the \"name\" key for each biomarker. You can access the biomarker type from the list element \"biomarker_type\" in the \"extensions\" key for each biomarker. I am going to refactor this soonish (i hope) but also FYI there is an extension with the name \"present\" with the value \"true\" or \"false\", which represents if the biomarker is expected to be present or absent.\n",
    "- cancer types: statement > proposition > conditionQualifier > name\n",
    "\n",
    "Standardization:\n",
    "- The names have been standardized to oncotree and, if not applicable, the NCI thesaurus. All therapy names are standardized to NCI thesaurus, too.\n",
    "\n",
    "Database expansion:\n",
    "- The indications.json in the GitHub also has Canadian ones. The EU/Irish will be on the GitHub hopefully by the end of the week (Aug 22nd)! We need to migrate the rest of the database before I leave for the second half of parental leave, but it's been low priority since we are not going to be involving those in upcoming papers"
   ]
  },
  {
   "cell_type": "code",
   "execution_count": 59,
   "id": "83e5e368",
   "metadata": {},
   "outputs": [
    {
     "name": "stdout",
     "output_type": "stream",
     "text": [
      "628\n",
      "False\n",
      "['description', 'indication', 'proposition']\n"
     ]
    }
   ],
   "source": [
    "with open(f'{root_dir}/data/latest_db/moalmanac-draft.dereferenced.json') as f:\n",
    "    d = json.load(f)\n",
    "    print(len(d['content']))\n",
    "    entity1 = d['content'][606] \n",
    "    entity2 = d['content'][32]\n",
    "    print(entity1 == entity2)\n",
    "    diff_keys = [k for k in entity1 if k != \"id\" and entity1.get(k) != entity2.get(k)]\n",
    "    print(diff_keys)\n",
    "    \n",
    "    # print(d['content'][i]['proposition'].keys()) #dict_keys(['id', 'type', 'predicate', 'biomarkers', 'subjectVariant', 'conditionQualifier', 'objectTherapeutic'])\n",
    "    # print(d['content'][i]['proposition']['objectTherapeutic'].keys()) #dict_keys(['id', 'membershipOperator', 'therapies'])\n",
    "    # print(d['content'][i]['proposition']['conditionQualifier'].keys()) #dict_keys(['id', 'conceptType', 'name', 'mappings', 'extensions', 'primaryCoding'])\n",
    "    # print(d['content'][i]['proposition']['biomarkers'][0]['name'])\n",
    "    # print(d['content'][i]['proposition']['biomarkers'][0]['extensions'])\n",
    "    # print(d['content'][i]['reportedIn'][0]['organization']['id'])\n",
    "    \n",
    "    fda_urls = []\n",
    "    prop_type=[]\n",
    "    prop_predicate=[]\n",
    "    prop_biomarkers_len=[]\n",
    "    prop_conditionQualifier=[]\n",
    "    prop_subjectVariant=[]\n",
    "    prop_objectTherapeutic=[]\n",
    "    for i in range(len(d['content'])):\n",
    "        if d['content'][i]['reportedIn'][0]['subtype'] == \"Regulatory approval\":\n",
    "            fda_urls.append(d['content'][i]['reportedIn'][0]['url'])\n",
    "        \n",
    "        # print(d['content'][i]['proposition']['conditionQualifier']['name'])\n",
    "        # print(d['content'][i]['proposition']['conditionQualifier']['extensions'])\n",
    "        prop_biomarkers_len.append(len(d['content'][i]['proposition']['biomarkers']))\n",
    "        prop_type.append(d['content'][i]['proposition']['type'])\n",
    "        prop_predicate.append(d['content'][i]['proposition']['predicate'])\n",
    "        prop_subjectVariant.append(d['content'][i]['proposition']['subjectVariant'])\n",
    "        prop_conditionQualifier.append(d['content'][i]['proposition']['conditionQualifier'])\n",
    "        prop_objectTherapeutic.append(d['content'][i]['proposition']['objectTherapeutic'])\n",
    "\n",
    "        # for j in range(len(d['content'][i]['proposition']['biomarkers'])):\n",
    "        #     print(d['content'][i]['proposition']['biomarkers'][j]['type'])\n",
    "        #     print(d['content'][i]['proposition']['biomarkers'][j]['name'])\n",
    "        #     print(d['content'][i]['proposition']['biomarkers'][j]['extensions'])\n",
    "            \n",
    "    # print(len(fda_urls))\n",
    "    # print(Counter(prop_type))\n",
    "    # print(Counter(prop_predicate))\n",
    "    # print(np.median(prop_biomarkers_len))\n",
    "#     Counter(prop_biomarkers)\n",
    "#     Counter(prop_subjectVariant)\n",
    "#     Counter(prop_conditionQualifier)\n",
    "#     Counter(prop_objectTherapeutic)\n",
    "\n",
    "# # len(Counter(fda_urls).keys()) #vs. 56 fda urls in previous version of moalamanc db"
   ]
  },
  {
   "cell_type": "markdown",
   "id": "41dc25d4",
   "metadata": {},
   "source": [
    "### Create and update context db"
   ]
  },
  {
   "cell_type": "code",
   "execution_count": 3,
   "id": "d22fe3e1",
   "metadata": {},
   "outputs": [],
   "source": [
    "# function to load moalmanac db and filter for FDA-reported statements\n",
    "def load_db_statements(db_path):\n",
    "    with open(db_path) as f:\n",
    "        d = json.load(f)\n",
    "    \n",
    "    # filter for FDA-reported statements\n",
    "    filtered = []\n",
    "    for stmt in d.get('content', []): \n",
    "        try:\n",
    "            if stmt['reportedIn'][0]['organization']['id'].lower() == 'fda':\n",
    "                filtered.append(stmt)\n",
    "        except (KeyError, IndexError, TypeError):\n",
    "            continue\n",
    "    \n",
    "    return filtered\n",
    "\n",
    "# function to ensure list\n",
    "def ensure_list(x):\n",
    "    return x if isinstance(x, list) else [x]\n",
    "\n",
    "# function to extract biomarker from statement\n",
    "def extract_biomarker_info(stmt):\n",
    "    # extract biomarkers from the statement\n",
    "    for i in range(len(stmt.get(\"proposition\", {}).get(\"biomarkers\", []))):\n",
    "        if not stmt[\"proposition\"][\"biomarkers\"][i].get(\"name\"):\n",
    "            continue\n",
    "        biomarker = stmt[\"proposition\"][\"biomarkers\"][i][\"name\"]\n",
    "        extensions_dict = {item['name']: item['value'] for item in stmt['proposition']['biomarkers'][i]['extensions']}\n",
    "        presence = extensions_dict['_present']\n",
    "        \n",
    "        # extract presence information\n",
    "        if presence == True:\n",
    "            biomarker += \" [present]\"\n",
    "        else:   \n",
    "            biomarker += \" [not present]\"\n",
    "        \n",
    "        # append to string\n",
    "        if i == 0:\n",
    "            biomarkers_str = biomarker\n",
    "        else:\n",
    "            biomarkers_str += f\", {biomarker}\"\n",
    "    \n",
    "    return biomarkers_str\n",
    "\n",
    "# function to extract therapy info from statement\n",
    "def extract_therapy_info(stmt):\n",
    "    # extract membership operator\n",
    "    obj = stmt.get('proposition', {}).get('objectTherapeutic', {})\n",
    "    operator = obj.get('membershipOperator', None)\n",
    "    \n",
    "    # extract therapy approach, type, and names\n",
    "    if operator == 'AND':\n",
    "        approach = 'Combination therapy'\n",
    "        therapy_strategyList = []\n",
    "        therapy_typeList = []\n",
    "        for therapy in obj.get('therapies', []):\n",
    "            extensions_dict = {item['name']: item['value'] for item in therapy['extensions']}\n",
    "            therapy_strategyList.extend(ensure_list(extensions_dict['therapy_strategy']))\n",
    "            therapy_typeList.extend(ensure_list(extensions_dict['therapy_type']))\n",
    "        drugList = [drug.get('name', None) for drug in obj.get('therapies', [])]\n",
    "        \n",
    "    else:\n",
    "        approach = 'Monotherapy'\n",
    "        therapy_strategyList = []\n",
    "        therapy_typeList = []\n",
    "        extensions_dict = {item['name']: item['value'] for item in obj['extensions']}\n",
    "        therapy_strategyList.extend(ensure_list(extensions_dict['therapy_strategy']))\n",
    "        therapy_typeList.extend(ensure_list(extensions_dict['therapy_type']))\n",
    "        drugList = [obj.get('name', None)]\n",
    "    \n",
    "    # sanity check for drugList\n",
    "    if any(d is None for d in drugList):\n",
    "        raise ValueError(f\"Found None in drugList for statement {stmt['id']}\")\n",
    "    \n",
    "    drug_str = \" + \".join([d for d in drugList if d is not None])\n",
    "    therapy_strategy_str = \" + \".join([s for s in therapy_strategyList if s is not None])\n",
    "    therapy_type_str = \" + \".join([t for t in therapy_typeList if t is not None])\n",
    "    \n",
    "    extracted_info = {\n",
    "        \"str\": {\n",
    "            \"drug_str\": drug_str, \n",
    "            \"therapy_approach\": approach,\n",
    "            \"therapy_strategy_str\": therapy_strategy_str, \n",
    "            \"therapy_type_str\": therapy_type_str\n",
    "                }, \n",
    "        \"list\": {\n",
    "            \"drugList\": drugList, \n",
    "            \"therapy_approach\": approach,\n",
    "            \"therapy_strategyList\": therapy_strategyList, \n",
    "            \"therapy_typeList\": therapy_typeList\n",
    "            }\n",
    "        }\n",
    "    \n",
    "    return extracted_info\n",
    "\n",
    "# function to flatten statement into summary text to include in context\n",
    "def flatten_statements(stmt: dict) -> str:\n",
    "    \n",
    "    statement_id = stmt.get(\"id\")\n",
    "    \n",
    "    # approval status\n",
    "    approval_status = stmt.get(\"reportedIn\", [{}])[0].get(\"subtype\", \"None\")\n",
    "    approval_org = stmt.get(\"reportedIn\", [{}])[0].get(\"organization\", {}).get(\"id\", \"Unknown organization\")\n",
    "    approval_url = stmt.get(\"reportedIn\", [{}])[0].get(\"url\", \"Unknown URL\")\n",
    "    approval_date = stmt.get(\"reportedIn\", [{}])[0].get(\"publication_date\", \"Unknown date\")\n",
    "    \n",
    "    # description and indication\n",
    "    description = stmt.get(\"description\", \"None\")\n",
    "    indication = stmt.get(\"indication\", {}).get(\"indication\", \"None\")\n",
    "    \n",
    "    # cancer type\n",
    "    cancer_type = stmt.get(\"proposition\", {}).get(\"conditionQualifier\", {}).get(\"name\", \"Unknown cancer\")\n",
    "    \n",
    "    # biomarkers\n",
    "    biomarker = extract_biomarker_info(stmt)\n",
    "    \n",
    "    # therapy\n",
    "    therapy_info = extract_therapy_info(stmt)\n",
    "    \n",
    "    # create summary text\n",
    "    summary = (\n",
    "        f\"Approval status: {approval_status} ({approval_org})\\n\"\n",
    "        f\"Description: {description}\\n\"\n",
    "        f\"Indication: {indication}\\n\"\n",
    "        f\"Cancer type: {cancer_type}\\n\"\n",
    "        f\"Biomarkers: {biomarker}\\n\"\n",
    "        f\"Therapy: {therapy_info['str']['drug_str']}\\n\"\n",
    "        f\"Therapy approach: {therapy_info['str']['therapy_approach']}\\n\"\n",
    "        f\"Therapy strategy: {therapy_info['str']['therapy_strategy_str']}\\n\"\n",
    "        f\"Therapy type: {therapy_info['str']['therapy_type_str']}\\n\"\n",
    "        f\"Approval url: {approval_url}\\n\"\n",
    "        f\"Publication date: {approval_date}\"\n",
    "    )\n",
    "    \n",
    "    # create row to add to dataframe\n",
    "    row = {\n",
    "        \"statement_id\": statement_id,\n",
    "        \"approval_status\": approval_status,\n",
    "        \"approval_org\": approval_org,\n",
    "        \"description\": description,\n",
    "        \"indication\": indication,\n",
    "        \"cancer_type\": cancer_type,\n",
    "        \"biomarker\": biomarker,\n",
    "        \"therapy_drug\": therapy_info['list']['drugList'],\n",
    "        \"therapy_approach\": therapy_info['list']['therapy_approach'],\n",
    "        \"therapy_strategy\": therapy_info['list']['therapy_strategyList'],\n",
    "        \"therapy_type\": therapy_info['list']['therapy_typeList'],\n",
    "        \"approval_url\": approval_url,\n",
    "        \"publication_date\": approval_date,\n",
    "        \"context\": summary\n",
    "    }\n",
    "    \n",
    "    return summary, row\n"
   ]
  },
  {
   "cell_type": "code",
   "execution_count": 4,
   "id": "aa5bd96c",
   "metadata": {},
   "outputs": [],
   "source": [
    "# load filtered statement\n",
    "statements = load_db_statements(f'{root_dir}/data/latest_db/moalmanac-draft.dereferenced.json')"
   ]
  },
  {
   "cell_type": "code",
   "execution_count": 95,
   "id": "a1558aa4",
   "metadata": {},
   "outputs": [],
   "source": [
    "# iterate through all statements and flatten\n",
    "flattened_rows = []\n",
    "for stmt in statements:\n",
    "    _, row = flatten_statements(stmt)\n",
    "    flattened_rows.append(row)"
   ]
  },
  {
   "cell_type": "code",
   "execution_count": 96,
   "id": "c05082b2",
   "metadata": {},
   "outputs": [],
   "source": [
    "# output to csv file\n",
    "import csv\n",
    "\n",
    "csv_columns = [\n",
    "    \"statement_id\",\n",
    "    \"approval_status\",\n",
    "    \"approval_org\",\n",
    "    \"description\",\n",
    "    \"indication\",\n",
    "    \"cancer_type\",\n",
    "    \"biomarker\",\n",
    "    \"therapy_drug\",\n",
    "    \"therapy_approach\",\n",
    "    \"therapy_strategy\",\n",
    "    \"therapy_type\",\n",
    "    \"approval_url\",\n",
    "    \"publication_date\",\n",
    "    \"context\"\n",
    "]\n",
    "\n",
    "with open(f\"{root_dir}/data/latest_db/moalmanac-draft.dereferenced.context_db.csv\", \"w\", newline=\"\", encoding=\"utf-8\") as f:\n",
    "    writer = csv.DictWriter(f, fieldnames=csv_columns)\n",
    "    writer.writeheader()\n",
    "    for data in flattened_rows:\n",
    "        writer.writerow(data)"
   ]
  },
  {
   "cell_type": "markdown",
   "id": "efa1f45b",
   "metadata": {},
   "source": [
    "#### Context duplicates"
   ]
  },
  {
   "cell_type": "code",
   "execution_count": 44,
   "id": "d654d2c9",
   "metadata": {},
   "outputs": [
    {
     "data": {
      "application/vnd.microsoft.datawrangler.viewer.v0+json": {
       "columns": [
        {
         "name": "index",
         "rawType": "int64",
         "type": "integer"
        },
        {
         "name": "statement_id",
         "rawType": "int64",
         "type": "integer"
        },
        {
         "name": "approval_status",
         "rawType": "object",
         "type": "string"
        },
        {
         "name": "approval_org",
         "rawType": "object",
         "type": "string"
        },
        {
         "name": "description",
         "rawType": "object",
         "type": "string"
        },
        {
         "name": "indication",
         "rawType": "object",
         "type": "string"
        },
        {
         "name": "cancer_type",
         "rawType": "object",
         "type": "string"
        },
        {
         "name": "biomarker",
         "rawType": "object",
         "type": "string"
        },
        {
         "name": "therapy_drug",
         "rawType": "object",
         "type": "string"
        },
        {
         "name": "therapy_approach",
         "rawType": "object",
         "type": "string"
        },
        {
         "name": "therapy_strategy",
         "rawType": "object",
         "type": "string"
        },
        {
         "name": "therapy_type",
         "rawType": "object",
         "type": "string"
        },
        {
         "name": "approval_url",
         "rawType": "object",
         "type": "string"
        },
        {
         "name": "publication_date",
         "rawType": "object",
         "type": "string"
        },
        {
         "name": "context",
         "rawType": "object",
         "type": "string"
        }
       ],
       "ref": "80621736-79c6-4c97-947f-fbb7e6261fba",
       "rows": [
        [
         "0",
         "0",
         "Regulatory approval",
         "fda",
         "The U.S. Food and Drug Administration (FDA) granted approval to abemaciclib in combination with endocrine therapy (tamoxifen or an aromatase inhibitor) for the adjuvant treatment of adult patients with hormone receptor (HR)-positive, human epidermal growth factor 2 (HER2)-negative, node positive, early breast cancer at high risk of recurrence. This indication is based on the monarchE (NCT03155997) clinical trial, which was a randomized (1:1), open-label, two cohort, multicenter study. Initial endocrine therapy received by patients included letrozole (39%), tamoxifen (31%), anastrozole (22%), or exemestane (8%).",
         "Verzenio is a kinase inhibitor indicated in combination with endocrine therapy (tamoxifen or an aromatase inhibitor) for the adjuvant treatment of adult patients with hormone receptor (HR)-positive, human epidermal growth factor receptor 2 (HER2)-negative, node positive, early breast cancer at high risk of recurrence.",
         "Invasive Breast Carcinoma",
         "ER positive [present], HER2-negative [present]",
         "['Abemaciclib', 'Tamoxifen']",
         "Combination therapy",
         "['CDK4/6 inhibition', 'Estrogen receptor inhibition']",
         "['Targeted therapy', 'Hormone therapy']",
         "https://www.accessdata.fda.gov/drugsatfda_docs/label/2023/208716s010s011lbl.pdf",
         "2023-03-03",
         "Approval status: Regulatory approval (fda)\nDescription: The U.S. Food and Drug Administration (FDA) granted approval to abemaciclib in combination with endocrine therapy (tamoxifen or an aromatase inhibitor) for the adjuvant treatment of adult patients with hormone receptor (HR)-positive, human epidermal growth factor 2 (HER2)-negative, node positive, early breast cancer at high risk of recurrence. This indication is based on the monarchE (NCT03155997) clinical trial, which was a randomized (1:1), open-label, two cohort, multicenter study. Initial endocrine therapy received by patients included letrozole (39%), tamoxifen (31%), anastrozole (22%), or exemestane (8%).\nIndication: Verzenio is a kinase inhibitor indicated in combination with endocrine therapy (tamoxifen or an aromatase inhibitor) for the adjuvant treatment of adult patients with hormone receptor (HR)-positive, human epidermal growth factor receptor 2 (HER2)-negative, node positive, early breast cancer at high risk of recurrence.\nCancer type: Invasive Breast Carcinoma\nBiomarkers: ER positive [present], HER2-negative [present]\nTherapy: Abemaciclib + Tamoxifen\nTherapy approach: Combination therapy\nTherapy strategy: CDK4/6 inhibition + Estrogen receptor inhibition\nTherapy type: Targeted therapy + Hormone therapy\nApproval url: https://www.accessdata.fda.gov/drugsatfda_docs/label/2023/208716s010s011lbl.pdf\nPublication date: 2023-03-03"
        ],
        [
         "1",
         "1",
         "Regulatory approval",
         "fda",
         "The U.S. Food and Drug Administration (FDA) granted approval to abemaciclib in combination with endocrine therapy (tamoxifen or an aromatase inhibitor) for the adjuvant treatment of adult patients with hormone receptor (HR)-positive, human epidermal growth factor 2 (HER2)-negative, node positive, early breast cancer at high risk of recurrence. This indication is based on the monarchE (NCT03155997) clinical trial, which was a randomized (1:1), open-label, two cohort, multicenter study. Initial endocrine therapy received by patients included letrozole (39%), tamoxifen (31%), anastrozole (22%), or exemestane (8%).",
         "Verzenio is a kinase inhibitor indicated in combination with endocrine therapy (tamoxifen or an aromatase inhibitor) for the adjuvant treatment of adult patients with hormone receptor (HR)-positive, human epidermal growth factor receptor 2 (HER2)-negative, node positive, early breast cancer at high risk of recurrence.",
         "Invasive Breast Carcinoma",
         "HER2-negative [present], PR positive [present]",
         "['Abemaciclib', 'Tamoxifen']",
         "Combination therapy",
         "['CDK4/6 inhibition', 'Estrogen receptor inhibition']",
         "['Targeted therapy', 'Hormone therapy']",
         "https://www.accessdata.fda.gov/drugsatfda_docs/label/2023/208716s010s011lbl.pdf",
         "2023-03-03",
         "Approval status: Regulatory approval (fda)\nDescription: The U.S. Food and Drug Administration (FDA) granted approval to abemaciclib in combination with endocrine therapy (tamoxifen or an aromatase inhibitor) for the adjuvant treatment of adult patients with hormone receptor (HR)-positive, human epidermal growth factor 2 (HER2)-negative, node positive, early breast cancer at high risk of recurrence. This indication is based on the monarchE (NCT03155997) clinical trial, which was a randomized (1:1), open-label, two cohort, multicenter study. Initial endocrine therapy received by patients included letrozole (39%), tamoxifen (31%), anastrozole (22%), or exemestane (8%).\nIndication: Verzenio is a kinase inhibitor indicated in combination with endocrine therapy (tamoxifen or an aromatase inhibitor) for the adjuvant treatment of adult patients with hormone receptor (HR)-positive, human epidermal growth factor receptor 2 (HER2)-negative, node positive, early breast cancer at high risk of recurrence.\nCancer type: Invasive Breast Carcinoma\nBiomarkers: HER2-negative [present], PR positive [present]\nTherapy: Abemaciclib + Tamoxifen\nTherapy approach: Combination therapy\nTherapy strategy: CDK4/6 inhibition + Estrogen receptor inhibition\nTherapy type: Targeted therapy + Hormone therapy\nApproval url: https://www.accessdata.fda.gov/drugsatfda_docs/label/2023/208716s010s011lbl.pdf\nPublication date: 2023-03-03"
        ],
        [
         "2",
         "2",
         "Regulatory approval",
         "fda",
         "The U.S. Food and Drug Administration (FDA) granted approval to abemaciclib in combination with endocrine therapy (tamoxifen or an aromatase inhibitor) for the adjuvant treatment of adult patients with hormone receptor (HR)-positive, human epidermal growth factor 2 (HER2)-negative, node positive, early breast cancer at high risk of recurrence. This indication is based on the monarchE (NCT03155997) clinical trial, which was a randomized (1:1), open-label, two cohort, multicenter study. Initial endocrine therapy received by patients included letrozole (39%), tamoxifen (31%), anastrozole (22%), or exemestane (8%).",
         "Verzenio is a kinase inhibitor indicated in combination with endocrine therapy (tamoxifen or an aromatase inhibitor) for the adjuvant treatment of adult patients with hormone receptor (HR)-positive, human epidermal growth factor receptor 2 (HER2)-negative, node positive, early breast cancer at high risk of recurrence.",
         "Invasive Breast Carcinoma",
         "ER positive [present], HER2-negative [present], PR positive [present]",
         "['Abemaciclib', 'Tamoxifen']",
         "Combination therapy",
         "['CDK4/6 inhibition', 'Estrogen receptor inhibition']",
         "['Targeted therapy', 'Hormone therapy']",
         "https://www.accessdata.fda.gov/drugsatfda_docs/label/2023/208716s010s011lbl.pdf",
         "2023-03-03",
         "Approval status: Regulatory approval (fda)\nDescription: The U.S. Food and Drug Administration (FDA) granted approval to abemaciclib in combination with endocrine therapy (tamoxifen or an aromatase inhibitor) for the adjuvant treatment of adult patients with hormone receptor (HR)-positive, human epidermal growth factor 2 (HER2)-negative, node positive, early breast cancer at high risk of recurrence. This indication is based on the monarchE (NCT03155997) clinical trial, which was a randomized (1:1), open-label, two cohort, multicenter study. Initial endocrine therapy received by patients included letrozole (39%), tamoxifen (31%), anastrozole (22%), or exemestane (8%).\nIndication: Verzenio is a kinase inhibitor indicated in combination with endocrine therapy (tamoxifen or an aromatase inhibitor) for the adjuvant treatment of adult patients with hormone receptor (HR)-positive, human epidermal growth factor receptor 2 (HER2)-negative, node positive, early breast cancer at high risk of recurrence.\nCancer type: Invasive Breast Carcinoma\nBiomarkers: ER positive [present], HER2-negative [present], PR positive [present]\nTherapy: Abemaciclib + Tamoxifen\nTherapy approach: Combination therapy\nTherapy strategy: CDK4/6 inhibition + Estrogen receptor inhibition\nTherapy type: Targeted therapy + Hormone therapy\nApproval url: https://www.accessdata.fda.gov/drugsatfda_docs/label/2023/208716s010s011lbl.pdf\nPublication date: 2023-03-03"
        ],
        [
         "3",
         "3",
         "Regulatory approval",
         "fda",
         "The U.S. Food and Drug Administration (FDA) granted approval to abemaciclib in combination with an aromatase inhibitor as an initial endocrine-based therapy for the treatment of adult patients with hormone receptor (HR)-positive, human epidermal growth factor 2 (HER2)-negative advanced or metastatic breast cancer. This indication is based on the MONARCH 3 (NCT02246621) clinical trial, which was a randomized (2:1), double-blinded, placebo-controlled, multicenter study. A total of 493 patients were randomized to receive 150 mg abemaciclib or placebo orally twice daily, plus physician's choice of letrozole (80% of patients) or anastrozole (20%).",
         "Verzenio is a kinase inhibitor indicated in combination with an aromatase inhibitor as initial endocrine-based therapy for the treatment of adult patients with hormone receptor (HR)-positive, human epidermal growth factor receptor 2 (HER2)-negative advanced or metastatic breast cancer.",
         "Invasive Breast Carcinoma",
         "ER positive [present], HER2-negative [present]",
         "['Anastrozole', 'Abemaciclib']",
         "Combination therapy",
         "['Aromatase inhibition', 'CDK4/6 inhibition']",
         "['Hormone therapy', 'Targeted therapy']",
         "https://www.accessdata.fda.gov/drugsatfda_docs/label/2023/208716s010s011lbl.pdf",
         "2023-03-03",
         "Approval status: Regulatory approval (fda)\nDescription: The U.S. Food and Drug Administration (FDA) granted approval to abemaciclib in combination with an aromatase inhibitor as an initial endocrine-based therapy for the treatment of adult patients with hormone receptor (HR)-positive, human epidermal growth factor 2 (HER2)-negative advanced or metastatic breast cancer. This indication is based on the MONARCH 3 (NCT02246621) clinical trial, which was a randomized (2:1), double-blinded, placebo-controlled, multicenter study. A total of 493 patients were randomized to receive 150 mg abemaciclib or placebo orally twice daily, plus physician's choice of letrozole (80% of patients) or anastrozole (20%).\nIndication: Verzenio is a kinase inhibitor indicated in combination with an aromatase inhibitor as initial endocrine-based therapy for the treatment of adult patients with hormone receptor (HR)-positive, human epidermal growth factor receptor 2 (HER2)-negative advanced or metastatic breast cancer.\nCancer type: Invasive Breast Carcinoma\nBiomarkers: ER positive [present], HER2-negative [present]\nTherapy: Anastrozole + Abemaciclib\nTherapy approach: Combination therapy\nTherapy strategy: Aromatase inhibition + CDK4/6 inhibition\nTherapy type: Hormone therapy + Targeted therapy\nApproval url: https://www.accessdata.fda.gov/drugsatfda_docs/label/2023/208716s010s011lbl.pdf\nPublication date: 2023-03-03"
        ],
        [
         "4",
         "4",
         "Regulatory approval",
         "fda",
         "The U.S. Food and Drug Administration (FDA) granted approval to abemaciclib in combination with an aromatase inhibitor as an initial endocrine-based therapy for the treatment of adult patients with hormone receptor (HR)-positive, human epidermal growth factor 2 (HER2)-negative advanced or metastatic breast cancer. This indication is based on the MONARCH 3 (NCT02246621) clinical trial, which was a randomized (2:1), double-blinded, placebo-controlled, multicenter study. A total of 493 patients were randomized to receive 150 mg abemaciclib or placebo orally twice daily, plus physician's choice of letrozole (80% of patients) or anastrozole (20%).",
         "Verzenio is a kinase inhibitor indicated in combination with an aromatase inhibitor as initial endocrine-based therapy for the treatment of adult patients with hormone receptor (HR)-positive, human epidermal growth factor receptor 2 (HER2)-negative advanced or metastatic breast cancer.",
         "Invasive Breast Carcinoma",
         "HER2-negative [present], PR positive [present]",
         "['Anastrozole', 'Abemaciclib']",
         "Combination therapy",
         "['Aromatase inhibition', 'CDK4/6 inhibition']",
         "['Hormone therapy', 'Targeted therapy']",
         "https://www.accessdata.fda.gov/drugsatfda_docs/label/2023/208716s010s011lbl.pdf",
         "2023-03-03",
         "Approval status: Regulatory approval (fda)\nDescription: The U.S. Food and Drug Administration (FDA) granted approval to abemaciclib in combination with an aromatase inhibitor as an initial endocrine-based therapy for the treatment of adult patients with hormone receptor (HR)-positive, human epidermal growth factor 2 (HER2)-negative advanced or metastatic breast cancer. This indication is based on the MONARCH 3 (NCT02246621) clinical trial, which was a randomized (2:1), double-blinded, placebo-controlled, multicenter study. A total of 493 patients were randomized to receive 150 mg abemaciclib or placebo orally twice daily, plus physician's choice of letrozole (80% of patients) or anastrozole (20%).\nIndication: Verzenio is a kinase inhibitor indicated in combination with an aromatase inhibitor as initial endocrine-based therapy for the treatment of adult patients with hormone receptor (HR)-positive, human epidermal growth factor receptor 2 (HER2)-negative advanced or metastatic breast cancer.\nCancer type: Invasive Breast Carcinoma\nBiomarkers: HER2-negative [present], PR positive [present]\nTherapy: Anastrozole + Abemaciclib\nTherapy approach: Combination therapy\nTherapy strategy: Aromatase inhibition + CDK4/6 inhibition\nTherapy type: Hormone therapy + Targeted therapy\nApproval url: https://www.accessdata.fda.gov/drugsatfda_docs/label/2023/208716s010s011lbl.pdf\nPublication date: 2023-03-03"
        ]
       ],
       "shape": {
        "columns": 14,
        "rows": 5
       }
      },
      "text/html": [
       "<div>\n",
       "<style scoped>\n",
       "    .dataframe tbody tr th:only-of-type {\n",
       "        vertical-align: middle;\n",
       "    }\n",
       "\n",
       "    .dataframe tbody tr th {\n",
       "        vertical-align: top;\n",
       "    }\n",
       "\n",
       "    .dataframe thead th {\n",
       "        text-align: right;\n",
       "    }\n",
       "</style>\n",
       "<table border=\"1\" class=\"dataframe\">\n",
       "  <thead>\n",
       "    <tr style=\"text-align: right;\">\n",
       "      <th></th>\n",
       "      <th>statement_id</th>\n",
       "      <th>approval_status</th>\n",
       "      <th>approval_org</th>\n",
       "      <th>description</th>\n",
       "      <th>indication</th>\n",
       "      <th>cancer_type</th>\n",
       "      <th>biomarker</th>\n",
       "      <th>therapy_drug</th>\n",
       "      <th>therapy_approach</th>\n",
       "      <th>therapy_strategy</th>\n",
       "      <th>therapy_type</th>\n",
       "      <th>approval_url</th>\n",
       "      <th>publication_date</th>\n",
       "      <th>context</th>\n",
       "    </tr>\n",
       "  </thead>\n",
       "  <tbody>\n",
       "    <tr>\n",
       "      <th>0</th>\n",
       "      <td>0</td>\n",
       "      <td>Regulatory approval</td>\n",
       "      <td>fda</td>\n",
       "      <td>The U.S. Food and Drug Administration (FDA) gr...</td>\n",
       "      <td>Verzenio is a kinase inhibitor indicated in co...</td>\n",
       "      <td>Invasive Breast Carcinoma</td>\n",
       "      <td>ER positive [present], HER2-negative [present]</td>\n",
       "      <td>['Abemaciclib', 'Tamoxifen']</td>\n",
       "      <td>Combination therapy</td>\n",
       "      <td>['CDK4/6 inhibition', 'Estrogen receptor inhib...</td>\n",
       "      <td>['Targeted therapy', 'Hormone therapy']</td>\n",
       "      <td>https://www.accessdata.fda.gov/drugsatfda_docs...</td>\n",
       "      <td>2023-03-03</td>\n",
       "      <td>Approval status: Regulatory approval (fda)\\nDe...</td>\n",
       "    </tr>\n",
       "    <tr>\n",
       "      <th>1</th>\n",
       "      <td>1</td>\n",
       "      <td>Regulatory approval</td>\n",
       "      <td>fda</td>\n",
       "      <td>The U.S. Food and Drug Administration (FDA) gr...</td>\n",
       "      <td>Verzenio is a kinase inhibitor indicated in co...</td>\n",
       "      <td>Invasive Breast Carcinoma</td>\n",
       "      <td>HER2-negative [present], PR positive [present]</td>\n",
       "      <td>['Abemaciclib', 'Tamoxifen']</td>\n",
       "      <td>Combination therapy</td>\n",
       "      <td>['CDK4/6 inhibition', 'Estrogen receptor inhib...</td>\n",
       "      <td>['Targeted therapy', 'Hormone therapy']</td>\n",
       "      <td>https://www.accessdata.fda.gov/drugsatfda_docs...</td>\n",
       "      <td>2023-03-03</td>\n",
       "      <td>Approval status: Regulatory approval (fda)\\nDe...</td>\n",
       "    </tr>\n",
       "    <tr>\n",
       "      <th>2</th>\n",
       "      <td>2</td>\n",
       "      <td>Regulatory approval</td>\n",
       "      <td>fda</td>\n",
       "      <td>The U.S. Food and Drug Administration (FDA) gr...</td>\n",
       "      <td>Verzenio is a kinase inhibitor indicated in co...</td>\n",
       "      <td>Invasive Breast Carcinoma</td>\n",
       "      <td>ER positive [present], HER2-negative [present]...</td>\n",
       "      <td>['Abemaciclib', 'Tamoxifen']</td>\n",
       "      <td>Combination therapy</td>\n",
       "      <td>['CDK4/6 inhibition', 'Estrogen receptor inhib...</td>\n",
       "      <td>['Targeted therapy', 'Hormone therapy']</td>\n",
       "      <td>https://www.accessdata.fda.gov/drugsatfda_docs...</td>\n",
       "      <td>2023-03-03</td>\n",
       "      <td>Approval status: Regulatory approval (fda)\\nDe...</td>\n",
       "    </tr>\n",
       "    <tr>\n",
       "      <th>3</th>\n",
       "      <td>3</td>\n",
       "      <td>Regulatory approval</td>\n",
       "      <td>fda</td>\n",
       "      <td>The U.S. Food and Drug Administration (FDA) gr...</td>\n",
       "      <td>Verzenio is a kinase inhibitor indicated in co...</td>\n",
       "      <td>Invasive Breast Carcinoma</td>\n",
       "      <td>ER positive [present], HER2-negative [present]</td>\n",
       "      <td>['Anastrozole', 'Abemaciclib']</td>\n",
       "      <td>Combination therapy</td>\n",
       "      <td>['Aromatase inhibition', 'CDK4/6 inhibition']</td>\n",
       "      <td>['Hormone therapy', 'Targeted therapy']</td>\n",
       "      <td>https://www.accessdata.fda.gov/drugsatfda_docs...</td>\n",
       "      <td>2023-03-03</td>\n",
       "      <td>Approval status: Regulatory approval (fda)\\nDe...</td>\n",
       "    </tr>\n",
       "    <tr>\n",
       "      <th>4</th>\n",
       "      <td>4</td>\n",
       "      <td>Regulatory approval</td>\n",
       "      <td>fda</td>\n",
       "      <td>The U.S. Food and Drug Administration (FDA) gr...</td>\n",
       "      <td>Verzenio is a kinase inhibitor indicated in co...</td>\n",
       "      <td>Invasive Breast Carcinoma</td>\n",
       "      <td>HER2-negative [present], PR positive [present]</td>\n",
       "      <td>['Anastrozole', 'Abemaciclib']</td>\n",
       "      <td>Combination therapy</td>\n",
       "      <td>['Aromatase inhibition', 'CDK4/6 inhibition']</td>\n",
       "      <td>['Hormone therapy', 'Targeted therapy']</td>\n",
       "      <td>https://www.accessdata.fda.gov/drugsatfda_docs...</td>\n",
       "      <td>2023-03-03</td>\n",
       "      <td>Approval status: Regulatory approval (fda)\\nDe...</td>\n",
       "    </tr>\n",
       "  </tbody>\n",
       "</table>\n",
       "</div>"
      ],
      "text/plain": [
       "   statement_id      approval_status approval_org  \\\n",
       "0             0  Regulatory approval          fda   \n",
       "1             1  Regulatory approval          fda   \n",
       "2             2  Regulatory approval          fda   \n",
       "3             3  Regulatory approval          fda   \n",
       "4             4  Regulatory approval          fda   \n",
       "\n",
       "                                         description  \\\n",
       "0  The U.S. Food and Drug Administration (FDA) gr...   \n",
       "1  The U.S. Food and Drug Administration (FDA) gr...   \n",
       "2  The U.S. Food and Drug Administration (FDA) gr...   \n",
       "3  The U.S. Food and Drug Administration (FDA) gr...   \n",
       "4  The U.S. Food and Drug Administration (FDA) gr...   \n",
       "\n",
       "                                          indication  \\\n",
       "0  Verzenio is a kinase inhibitor indicated in co...   \n",
       "1  Verzenio is a kinase inhibitor indicated in co...   \n",
       "2  Verzenio is a kinase inhibitor indicated in co...   \n",
       "3  Verzenio is a kinase inhibitor indicated in co...   \n",
       "4  Verzenio is a kinase inhibitor indicated in co...   \n",
       "\n",
       "                 cancer_type  \\\n",
       "0  Invasive Breast Carcinoma   \n",
       "1  Invasive Breast Carcinoma   \n",
       "2  Invasive Breast Carcinoma   \n",
       "3  Invasive Breast Carcinoma   \n",
       "4  Invasive Breast Carcinoma   \n",
       "\n",
       "                                           biomarker  \\\n",
       "0     ER positive [present], HER2-negative [present]   \n",
       "1     HER2-negative [present], PR positive [present]   \n",
       "2  ER positive [present], HER2-negative [present]...   \n",
       "3     ER positive [present], HER2-negative [present]   \n",
       "4     HER2-negative [present], PR positive [present]   \n",
       "\n",
       "                     therapy_drug     therapy_approach  \\\n",
       "0    ['Abemaciclib', 'Tamoxifen']  Combination therapy   \n",
       "1    ['Abemaciclib', 'Tamoxifen']  Combination therapy   \n",
       "2    ['Abemaciclib', 'Tamoxifen']  Combination therapy   \n",
       "3  ['Anastrozole', 'Abemaciclib']  Combination therapy   \n",
       "4  ['Anastrozole', 'Abemaciclib']  Combination therapy   \n",
       "\n",
       "                                    therapy_strategy  \\\n",
       "0  ['CDK4/6 inhibition', 'Estrogen receptor inhib...   \n",
       "1  ['CDK4/6 inhibition', 'Estrogen receptor inhib...   \n",
       "2  ['CDK4/6 inhibition', 'Estrogen receptor inhib...   \n",
       "3      ['Aromatase inhibition', 'CDK4/6 inhibition']   \n",
       "4      ['Aromatase inhibition', 'CDK4/6 inhibition']   \n",
       "\n",
       "                              therapy_type  \\\n",
       "0  ['Targeted therapy', 'Hormone therapy']   \n",
       "1  ['Targeted therapy', 'Hormone therapy']   \n",
       "2  ['Targeted therapy', 'Hormone therapy']   \n",
       "3  ['Hormone therapy', 'Targeted therapy']   \n",
       "4  ['Hormone therapy', 'Targeted therapy']   \n",
       "\n",
       "                                        approval_url publication_date  \\\n",
       "0  https://www.accessdata.fda.gov/drugsatfda_docs...       2023-03-03   \n",
       "1  https://www.accessdata.fda.gov/drugsatfda_docs...       2023-03-03   \n",
       "2  https://www.accessdata.fda.gov/drugsatfda_docs...       2023-03-03   \n",
       "3  https://www.accessdata.fda.gov/drugsatfda_docs...       2023-03-03   \n",
       "4  https://www.accessdata.fda.gov/drugsatfda_docs...       2023-03-03   \n",
       "\n",
       "                                             context  \n",
       "0  Approval status: Regulatory approval (fda)\\nDe...  \n",
       "1  Approval status: Regulatory approval (fda)\\nDe...  \n",
       "2  Approval status: Regulatory approval (fda)\\nDe...  \n",
       "3  Approval status: Regulatory approval (fda)\\nDe...  \n",
       "4  Approval status: Regulatory approval (fda)\\nDe...  "
      ]
     },
     "execution_count": 44,
     "metadata": {},
     "output_type": "execute_result"
    }
   ],
   "source": [
    "moalmanac_new_draft = pd.read_csv(f\"{root_dir}/data/latest_db/moalmanac-draft.dereferenced.context_db.csv\")\n",
    "moalmanac_new_draft.head()"
   ]
  },
  {
   "cell_type": "code",
   "execution_count": 110,
   "id": "8018c83d",
   "metadata": {},
   "outputs": [
    {
     "name": "stdout",
     "output_type": "stream",
     "text": [
      "(83, 14)\n"
     ]
    }
   ],
   "source": [
    "moalmanac_new_draft_duplicated = moalmanac_new_draft.iloc[moalmanac_new_draft['context'].duplicated(keep=False).values, :]\n",
    "print(moalmanac_new_draft_duplicated.shape)\n",
    "moalmanac_new_draft_duplicated.to_csv(f\"{root_dir}/data/latest_db/moalmanac-draft.dereferenced.duplicated.context_db.csv\", index=False)"
   ]
  },
  {
   "cell_type": "code",
   "execution_count": 111,
   "id": "b16173f9",
   "metadata": {},
   "outputs": [
    {
     "name": "stdout",
     "output_type": "stream",
     "text": [
      "(584, 14)\n"
     ]
    }
   ],
   "source": [
    "moalmanac_new_draft_unique = moalmanac_new_draft.drop_duplicates(subset=['context'], keep='first')\n",
    "print(moalmanac_new_draft_unique.shape)\n",
    "moalmanac_new_draft_unique.to_csv(f\"{root_dir}/data/latest_db/moalmanac-draft.dereferenced.unique.context_db.csv\", index=False)"
   ]
  },
  {
   "cell_type": "code",
   "execution_count": 109,
   "id": "0e38e7bf",
   "metadata": {},
   "outputs": [
    {
     "data": {
      "text/plain": [
       "39"
      ]
     },
     "execution_count": 109,
     "metadata": {},
     "output_type": "execute_result"
    }
   ],
   "source": [
    "duplicated_rows = moalmanac_new_draft[moalmanac_new_draft['context'].duplicated(keep=False)]\n",
    "grouped_duplicates = duplicated_rows.groupby('context')\n",
    "# for ctx, group in grouped_duplicates:\n",
    "#     print(ctx)\n",
    "#     print(group)\n",
    "len(grouped_duplicates.groups)"
   ]
  },
  {
   "cell_type": "markdown",
   "id": "f3eac3f6",
   "metadata": {},
   "source": [
    "#### Context statistics"
   ]
  },
  {
   "cell_type": "code",
   "execution_count": 67,
   "id": "1f6f8241",
   "metadata": {},
   "outputs": [],
   "source": [
    "import tiktoken\n",
    "encoding = tiktoken.encoding_for_model(\"gpt-4o\")  # or \"gpt-4\", \"gpt-3.5-turbo\", etc."
   ]
  },
  {
   "cell_type": "code",
   "execution_count": 112,
   "id": "da2bd658",
   "metadata": {},
   "outputs": [
    {
     "name": "stdout",
     "output_type": "stream",
     "text": [
      "# chunks: 584\n",
      "Min: 176\n",
      "Max: 509\n",
      "Mean: 294.7157534246575\n",
      "Median: 289.0\n",
      "IQR: 235.5-338.25\n"
     ]
    }
   ],
   "source": [
    "def calc_iqr(chunk_size_list):\n",
    "    q1 = np.percentile(chunk_size_list, 25)\n",
    "    q3 = np.percentile(chunk_size_list, 75)\n",
    "    iqr = f'{q1}-{q3}'\n",
    "    return(iqr)\n",
    "\n",
    "struc_context_size = [len(encoding.encode(context)) for context in moalmanac_new_draft_unique['context']]\n",
    "print(\"# chunks: \"+str(len(struc_context_size)))\n",
    "print(\"Min: \"+str(np.min(struc_context_size)))\n",
    "print(\"Max: \"+str(np.max(struc_context_size)))\n",
    "print(\"Mean: \"+str(np.mean(struc_context_size)))\n",
    "print(\"Median: \"+str(np.median(struc_context_size)))\n",
    "print(\"IQR: \"+str(calc_iqr(struc_context_size)))\n"
   ]
  },
  {
   "cell_type": "markdown",
   "id": "71fc695c",
   "metadata": {},
   "source": [
    "## Load DB from API for automation"
   ]
  },
  {
   "cell_type": "markdown",
   "id": "c28e1ef4",
   "metadata": {},
   "source": [
    "### Cache DB version"
   ]
  },
  {
   "cell_type": "code",
   "execution_count": 7,
   "id": "ab3ab25d",
   "metadata": {},
   "outputs": [],
   "source": [
    "CACHE_FILE = \"db_version_cache.json\"\n",
    "\n",
    "def get_remote_version():\n",
    "    agents = requests.get('https://api.moalmanac.org/agents').json()\n",
    "    return agents['service']['last_updated']\n",
    "\n",
    "def get_local_version():\n",
    "    if os.path.exists(CACHE_FILE):\n",
    "        with open(CACHE_FILE) as f:\n",
    "            return json.load(f).get(\"version\")\n",
    "    return None\n",
    "\n",
    "def save_local_version(version):\n",
    "    with open(CACHE_FILE, \"w\") as f:\n",
    "        json.dump({\"version\": version}, f)\n",
    "        \n",
    "# def update_db_files():\n",
    "#   update cancer type and biomarker entities\n",
    "#   update context db\n",
    "#   update context db faiss index\n",
    "\n",
    "# def sync_db():\n",
    "#     remote = get_remote_version()\n",
    "#     local = get_local_version()\n",
    "#     if local != remote:\n",
    "#         update_db_files()\n",
    "#         save_local_version(remote)\n",
    "#     else:\n",
    "#         print(f\"DB is already up to date (version={local})\")\n",
    "\n",
    "# sync_db()"
   ]
  },
  {
   "cell_type": "code",
   "execution_count": 10,
   "id": "e50b5615",
   "metadata": {},
   "outputs": [
    {
     "name": "stdout",
     "output_type": "stream",
     "text": [
      "2025-09-04\n"
     ]
    }
   ],
   "source": [
    "version=get_remote_version()\n",
    "print(version)"
   ]
  },
  {
   "cell_type": "code",
   "execution_count": 9,
   "id": "20ca10d9",
   "metadata": {},
   "outputs": [
    {
     "data": {
      "text/plain": [
       "'2025-09-04'"
      ]
     },
     "execution_count": 9,
     "metadata": {},
     "output_type": "execute_result"
    }
   ],
   "source": [
    "version=get_local_version()\n",
    "version"
   ]
  },
  {
   "cell_type": "code",
   "execution_count": 11,
   "id": "b430ee58",
   "metadata": {},
   "outputs": [
    {
     "name": "stdout",
     "output_type": "stream",
     "text": [
      "1784\n"
     ]
    }
   ],
   "source": [
    "statements = requests.get('https://api.moalmanac.org/statements').json()['data']\n",
    "print(len(statements))"
   ]
  },
  {
   "cell_type": "code",
   "execution_count": 14,
   "id": "1591d2b9",
   "metadata": {},
   "outputs": [
    {
     "name": "stdout",
     "output_type": "stream",
     "text": [
      "642\n"
     ]
    }
   ],
   "source": [
    "fda_statements=subset_db_statements(statements, organization='fda')\n",
    "print(len(fda_statements))"
   ]
  },
  {
   "cell_type": "markdown",
   "id": "9ee30ad2",
   "metadata": {},
   "source": [
    "### Extract cancer types, biomarkers, and therapies from the latest DB"
   ]
  },
  {
   "cell_type": "code",
   "execution_count": 16,
   "id": "4c46e12d",
   "metadata": {},
   "outputs": [
    {
     "data": {
      "text/plain": [
       "'2025-09-04'"
      ]
     },
     "execution_count": 16,
     "metadata": {},
     "output_type": "execute_result"
    }
   ],
   "source": [
    "_VERSION=get_local_version()\n",
    "_VERSION"
   ]
  },
  {
   "cell_type": "code",
   "execution_count": 16,
   "id": "fc4f60de",
   "metadata": {},
   "outputs": [
    {
     "data": {
      "text/plain": [
       "642"
      ]
     },
     "execution_count": 16,
     "metadata": {},
     "output_type": "execute_result"
    }
   ],
   "source": [
    "with open(f\"data/latest_db/fda_statements__{_VERSION}.json\", \"r\") as f:\n",
    "    fda_statements = json.load(f)\n",
    "len(fda_statements)"
   ]
  },
  {
   "cell_type": "markdown",
   "id": "8f1cc0d5",
   "metadata": {},
   "source": [
    "#### Extract common clinical modifers from raw cancer types"
   ]
  },
  {
   "cell_type": "code",
   "execution_count": null,
   "id": "b32e0257",
   "metadata": {},
   "outputs": [],
   "source": [
    "standardized_cancer = []\n",
    "raw_cancer = []\n",
    "biomarker = []\n",
    "therapy = []\n",
    "for stmt in fda_statements:\n",
    "    standardized_cancer_i = stmt.get(\"proposition\", {}).get(\"conditionQualifier\", {}).get(\"name\", \"Unknown cancer\")\n",
    "    raw_cancer_i = stmt['indication']['raw_cancer_type']\n",
    "    standardized_cancer.append(standardized_cancer_i)\n",
    "    raw_cancer.append(raw_cancer_i)\n",
    "    biomarker.append(extract_biomarker_info(stmt)['str'])\n",
    "    therapy.append(extract_therapy_info(stmt)['str']['drug_str'])\n",
    "    \n",
    "raw_cancer_unique_counts = Counter(raw_cancer)\n",
    "standardized_cancer_unique_counts = Counter(standardized_cancer)"
   ]
  },
  {
   "cell_type": "code",
   "execution_count": null,
   "id": "d2b4bc38",
   "metadata": {},
   "outputs": [],
   "source": [
    "standardized_to_raw_mapping = pd.DataFrame({\"standardized_cancer\": standardized_cancer, \"raw_cancer\": raw_cancer, \"biomarker\": biomarker, \"therapy\": therapy})\n",
    "standardized_to_raw_mapping.to_csv(\"data/latest_db/standardized_to_raw_cancer_biomarker_mapping.csv\", index=False)\n",
    "standardized_to_raw_mapping.drop_duplicates(subset=['standardized_cancer', 'raw_cancer']).to_csv(\"data/latest_db/standardized_to_raw_cancer_mapping.csv\", index=False)"
   ]
  },
  {
   "cell_type": "markdown",
   "id": "4889767e",
   "metadata": {},
   "source": [
    "Create a list of all modifiers from the DB"
   ]
  },
  {
   "cell_type": "code",
   "execution_count": null,
   "id": "f93690ef",
   "metadata": {},
   "outputs": [],
   "source": [
    "modifiers = [\n",
    "    'early', 'advanced or metastatic', 'metastatic', 'metastatic castration-resistant', 'locally advanced or metastatic', \n",
    "    'low-risk', 'philadelphia chromosome-positive', 'non-squamous', 'unresectable or metastatic', 'systemic', 'cutaneous',\n",
    "    'unresectable, recurrent, or refractory', 'chronic, accelerated, or myeloid or lymphoid blast phase ph+', \n",
    "    'primary advanced or recurrent', 'recurrent or advanced', 'relapsed or refractory', 'unresectable, locally or metastatic',\n",
    "    'unresectable and/or metastatic maligant', 'unresectable locally advanced or metastatic', 'b-cell precursor',\n",
    "    'metastatic or recurrent', 'transfusion-dependent anemia due to low- or intermediate-1-risk', 'early-stage',\n",
    "    'chronic phase or accelerated phase ph+', 'recurrent', 'advanced', 'relapsed', 'high risk early', \n",
    "    'metastatic or unresectable, recurrent', 'locally advanced unresectable or metastatic', 'persistent, recurrent, or metastatic',\n",
    "    'recurrent or metastatic', 'high-risk early-stage triple-negative', 'locally recurrent unresectable or metastatic triple-negative',\n",
    "    'locally advanced, inflammatory, or early stage', 'early stage', 'b-cell', 'diffuse large b-cell', 'mature B-cell',\n",
    "    'previously untreated, advanced stage, cd20-positive', 'unresectable locally advanced or metastatic triple-negative',\n",
    "    'metastatic non-squamous'\n",
    "]\n",
    "modifiers = [mod.lower() for mod in modifiers]\n",
    "with open(f\"data/latest_db/disease_modifiers__{_VERSION}.json\", \"w\") as f:\n",
    "    json.dump(modifiers, f)"
   ]
  },
  {
   "cell_type": "markdown",
   "id": "6c661058",
   "metadata": {},
   "source": [
    "Append modifiers to standardized cancer names to add context"
   ]
  },
  {
   "cell_type": "code",
   "execution_count": 23,
   "id": "4378f5c6",
   "metadata": {},
   "outputs": [],
   "source": [
    "def extract_clinical_modifiers(raw_cancer_type, standardized_cancer_type, modifiers):\n",
    "    raw_cancer_type_lower = raw_cancer_type.lower()\n",
    "    extracted_modifiers = [mod for mod in modifiers if mod in raw_cancer_type_lower and mod not in standardized_cancer_type.lower()]\n",
    "    if not extracted_modifiers:\n",
    "        return None\n",
    "    if len(extracted_modifiers) > 1:\n",
    "        return max(extracted_modifiers, key=len)\n",
    "    return extracted_modifiers[0]\n",
    "\n",
    "statement_id = []\n",
    "standardized_cancer = []\n",
    "raw_cancer = []\n",
    "modified_standardized_cancer = []\n",
    "biomarker = []\n",
    "therapy = []\n",
    "for stmt in fda_statements:\n",
    "    standardized_cancer_i = stmt.get(\"proposition\", {}).get(\"conditionQualifier\", {}).get(\"name\", \"Unknown cancer\")\n",
    "    raw_cancer_i = stmt['indication']['raw_cancer_type']\n",
    "    extracted_modifiers = extract_clinical_modifiers(raw_cancer_i, standardized_cancer_i, modifiers)\n",
    "    if extracted_modifiers:\n",
    "        modified_standardized_cancer_i = f\"{extract_clinical_modifiers(raw_cancer_i, standardized_cancer_i, modifiers)} {standardized_cancer_i.lower()}\"\n",
    "    else:\n",
    "        modified_standardized_cancer_i = standardized_cancer_i.lower()\n",
    "    statement_id.append(stmt.get('id'))\n",
    "    standardized_cancer.append(standardized_cancer_i)\n",
    "    raw_cancer.append(raw_cancer_i)\n",
    "    modified_standardized_cancer.append(modified_standardized_cancer_i)\n",
    "    biomarker.append(extract_biomarker_info(stmt)['list'])\n",
    "    therapy.append(extract_therapy_info(stmt)['list']['drugList'])\n",
    "    "
   ]
  },
  {
   "cell_type": "markdown",
   "id": "c05eda10",
   "metadata": {},
   "source": [
    "Create a DB core dataframe with:\n",
    "- standardized cancer name -> later used for entity matching\n",
    "- raw cancer name \n",
    "- modified standardized cancer name -> later used for context DB\n",
    "- biomarker -> later used for entity matching\n",
    "- therapy -> later used for ground-truth mapping during validation on synthetic queries"
   ]
  },
  {
   "cell_type": "code",
   "execution_count": 24,
   "id": "d7365a3c",
   "metadata": {},
   "outputs": [
    {
     "data": {
      "application/vnd.microsoft.datawrangler.viewer.v0+json": {
       "columns": [
        {
         "name": "index",
         "rawType": "int64",
         "type": "integer"
        },
        {
         "name": "statement_id",
         "rawType": "int64",
         "type": "integer"
        },
        {
         "name": "standardized_cancer",
         "rawType": "object",
         "type": "string"
        },
        {
         "name": "raw_cancer",
         "rawType": "object",
         "type": "string"
        },
        {
         "name": "modified_standardized_cancer",
         "rawType": "object",
         "type": "string"
        },
        {
         "name": "biomarker",
         "rawType": "object",
         "type": "unknown"
        },
        {
         "name": "therapy",
         "rawType": "object",
         "type": "unknown"
        }
       ],
       "ref": "1cb65515-13b7-41db-9803-b41f04789e95",
       "rows": [
        [
         "0",
         "0",
         "Invasive Breast Carcinoma",
         "early breast cancer",
         "early invasive breast carcinoma",
         "['HER2-negative', 'ER positive']",
         "['Tamoxifen', 'Abemaciclib']"
        ],
        [
         "1",
         "1",
         "Invasive Breast Carcinoma",
         "early breast cancer",
         "early invasive breast carcinoma",
         "['PR positive', 'HER2-negative']",
         "['Tamoxifen', 'Abemaciclib']"
        ],
        [
         "2",
         "2",
         "Invasive Breast Carcinoma",
         "early breast cancer",
         "early invasive breast carcinoma",
         "['PR positive', 'HER2-negative', 'ER positive']",
         "['Tamoxifen', 'Abemaciclib']"
        ],
        [
         "3",
         "3",
         "Invasive Breast Carcinoma",
         "advanced or metastatic breast cancer",
         "advanced or metastatic invasive breast carcinoma",
         "['HER2-negative', 'ER positive']",
         "['Anastrozole', 'Abemaciclib']"
        ],
        [
         "4",
         "4",
         "Invasive Breast Carcinoma",
         "advanced or metastatic breast cancer",
         "advanced or metastatic invasive breast carcinoma",
         "['PR positive', 'HER2-negative']",
         "['Anastrozole', 'Abemaciclib']"
        ],
        [
         "5",
         "5",
         "Invasive Breast Carcinoma",
         "advanced or metastatic breast cancer",
         "advanced or metastatic invasive breast carcinoma",
         "['PR positive', 'HER2-negative', 'ER positive']",
         "['Anastrozole', 'Abemaciclib']"
        ],
        [
         "6",
         "6",
         "Invasive Breast Carcinoma",
         "advanced or metastatic breast cancer",
         "advanced or metastatic invasive breast carcinoma",
         "['HER2-negative', 'ER positive']",
         "['Abemaciclib', 'Letrozole']"
        ],
        [
         "7",
         "7",
         "Invasive Breast Carcinoma",
         "advanced or metastatic breast cancer",
         "advanced or metastatic invasive breast carcinoma",
         "['PR positive', 'HER2-negative']",
         "['Abemaciclib', 'Letrozole']"
        ],
        [
         "8",
         "8",
         "Invasive Breast Carcinoma",
         "advanced or metastatic breast cancer",
         "advanced or metastatic invasive breast carcinoma",
         "['PR positive', 'HER2-negative', 'ER positive']",
         "['Abemaciclib', 'Letrozole']"
        ],
        [
         "9",
         "9",
         "Invasive Breast Carcinoma",
         "advanced or metastatic breast cancer",
         "advanced or metastatic invasive breast carcinoma",
         "['HER2-negative', 'ER positive']",
         "['Fulvestrant', 'Abemaciclib']"
        ],
        [
         "10",
         "10",
         "Invasive Breast Carcinoma",
         "advanced or metastatic breast cancer",
         "advanced or metastatic invasive breast carcinoma",
         "['PR positive', 'HER2-negative']",
         "['Fulvestrant', 'Abemaciclib']"
        ],
        [
         "11",
         "11",
         "Invasive Breast Carcinoma",
         "advanced or metastatic breast cancer",
         "advanced or metastatic invasive breast carcinoma",
         "['PR positive', 'HER2-negative', 'ER positive']",
         "['Fulvestrant', 'Abemaciclib']"
        ],
        [
         "12",
         "12",
         "Invasive Breast Carcinoma",
         "advanced or metastatic breast cancer",
         "advanced or metastatic invasive breast carcinoma",
         "['HER2-negative', 'ER positive']",
         "['Abemaciclib']"
        ],
        [
         "13",
         "13",
         "Invasive Breast Carcinoma",
         "advanced or metastatic breast cancer",
         "advanced or metastatic invasive breast carcinoma",
         "['PR positive', 'HER2-negative']",
         "['Abemaciclib']"
        ],
        [
         "14",
         "14",
         "Invasive Breast Carcinoma",
         "advanced or metastatic breast cancer",
         "advanced or metastatic invasive breast carcinoma",
         "['PR positive', 'HER2-negative', 'ER positive']",
         "['Abemaciclib']"
        ],
        [
         "15",
         "15",
         "Prostate Adenocarcinoma",
         "metastatic castration-resistant prostate cancer",
         "metastatic castration-resistant prostate adenocarcinoma",
         "['BARD1 oncogenic variants']",
         "['Prednisone', 'Niraparib', 'Abiraterone acetate']"
        ],
        [
         "16",
         "16",
         "Prostate Adenocarcinoma",
         "metastatic castration-resistant prostate cancer",
         "metastatic castration-resistant prostate adenocarcinoma",
         "['BRIP1 oncogenic variants']",
         "['Prednisone', 'Niraparib', 'Abiraterone acetate']"
        ],
        [
         "17",
         "17",
         "Prostate Adenocarcinoma",
         "metastatic castration-resistant prostate cancer",
         "metastatic castration-resistant prostate adenocarcinoma",
         "['BRIP1 pathogenic variants']",
         "['Prednisone', 'Niraparib', 'Abiraterone acetate']"
        ],
        [
         "18",
         "18",
         "Prostate Adenocarcinoma",
         "metastatic castration-resistant prostate cancer",
         "metastatic castration-resistant prostate adenocarcinoma",
         "['CDK12 pathogenic variants']",
         "['Prednisone', 'Niraparib', 'Abiraterone acetate']"
        ],
        [
         "19",
         "19",
         "Non-Small Cell Lung Cancer",
         "locally advanced or metastatic non-small cell lung cancer",
         "locally advanced or metastatic non-small cell lung cancer",
         "['KRAS p.G12C']",
         "['Adagrasib']"
        ],
        [
         "20",
         "20",
         "Invasive Breast Carcinoma",
         "metastatic breast cancer",
         "metastatic invasive breast carcinoma",
         "['HER2-positive']",
         "['Trastuzumab emtansine']"
        ],
        [
         "21",
         "21",
         "Invasive Breast Carcinoma",
         "early breast cancer",
         "early invasive breast carcinoma",
         "['HER2-positive']",
         "['Trastuzumab emtansine']"
        ],
        [
         "22",
         "22",
         "Non-Small Cell Lung Cancer",
         "metastatic non-small cell lung cancer",
         "metastatic non-small cell lung cancer",
         "['EGFR somatic variants']",
         "['Afatinib']"
        ],
        [
         "23",
         "23",
         "Non-Small Cell Lung Cancer",
         "non-small cell lung cancer",
         "non-small cell lung cancer",
         "['v::ALK']",
         "['Alectinib']"
        ],
        [
         "24",
         "24",
         "Non-Small Cell Lung Cancer",
         "metastatic non-small cell lung cancer",
         "metastatic non-small cell lung cancer",
         "['v::ALK']",
         "['Alectinib']"
        ],
        [
         "25",
         "25",
         "Invasive Breast Carcinoma",
         "advanced or metastatic breast cancer",
         "advanced or metastatic invasive breast carcinoma",
         "['HER2-negative', 'ER positive', 'PIK3CA somatic variants']",
         "['Fulvestrant', 'Alpelisib']"
        ],
        [
         "26",
         "26",
         "Invasive Breast Carcinoma",
         "advanced or metastatic breast cancer",
         "advanced or metastatic invasive breast carcinoma",
         "['PR positive', 'HER2-negative', 'PIK3CA somatic variants']",
         "['Fulvestrant', 'Alpelisib']"
        ],
        [
         "27",
         "27",
         "Invasive Breast Carcinoma",
         "advanced or metastatic breast cancer",
         "advanced or metastatic invasive breast carcinoma",
         "['PR positive', 'HER2-negative', 'ER positive', 'PIK3CA somatic variants']",
         "['Fulvestrant', 'Alpelisib']"
        ],
        [
         "28",
         "28",
         "Non-Small Cell Lung Cancer",
         "locally advanced or metastatic non-small cell lung cancer",
         "locally advanced or metastatic non-small cell lung cancer",
         "['EGFR Exon 20 (Insertion)']",
         "['Carboplatin', 'Amivantamab', 'Pemetrexed']"
        ],
        [
         "29",
         "29",
         "Non-Small Cell Lung Cancer",
         "locally advanced or metastatic non-small cell lung cancer",
         "locally advanced or metastatic non-small cell lung cancer",
         "['EGFR Exon 20 (Insertion)']",
         "['Amivantamab']"
        ],
        [
         "30",
         "30",
         "APL with PML-RARA",
         "low-risk acute promyelocytic leukemia (APL)",
         "low-risk apl with pml-rara",
         "['PML::RARA']",
         "['Arsenic trioxide']"
        ],
        [
         "31",
         "31",
         "APL with PML-RARA",
         "acute promyelocytic leukemia (APL)",
         "apl with pml-rara",
         "['PML::RARA']",
         "['Arsenic trioxide']"
        ],
        [
         "32",
         "32",
         "Chronic Myelogenous Leukemia",
         "philadelphia chromosome-positive chronic myeloid leukemia (Ph+ CML)",
         "philadelphia chromosome-positive chronic myelogenous leukemia",
         "['BCR::ABL1']",
         "['Asciminib']"
        ],
        [
         "33",
         "33",
         "Chronic Myelogenous Leukemia",
         "philadelphia chromosome-positive chronic myeloid leukemia (Ph+ CML)",
         "philadelphia chromosome-positive chronic myelogenous leukemia",
         "['ABL1 p.T315I', 'BCR::ABL1']",
         "['Asciminib']"
        ],
        [
         "34",
         "34",
         "Non-Small Cell Lung Cancer",
         "non-small cell lung cancer",
         "non-small cell lung cancer",
         "['PD-L1 >= 1%']",
         "['Atezolizumab']"
        ],
        [
         "35",
         "35",
         "Non-Small Cell Lung Cancer",
         "metastatic non-small cell lung cancer",
         "metastatic non-small cell lung cancer",
         "['PD-L1 >= 50%']",
         "['Atezolizumab']"
        ],
        [
         "36",
         "36",
         "Non-Small Cell Lung Cancer",
         "metastatic non-small cell lung cancer",
         "metastatic non-small cell lung cancer",
         "['PD-L1 >= 10% TIIC']",
         "['Atezolizumab']"
        ],
        [
         "37",
         "37",
         "Non-Small Cell Lung Cancer",
         "metastatic non-squamous non-small cell lung cancer",
         "metastatic non-squamous non-small cell lung cancer",
         "['Wild type EGFR', 'Wild type ALK']",
         "['Carboplatin', 'Paclitaxel', 'Bevacizumab', 'Atezolizumab']"
        ],
        [
         "38",
         "38",
         "Non-Small Cell Lung Cancer",
         "metastatic non-squamous non-small cell lung cancer",
         "metastatic non-squamous non-small cell lung cancer",
         "['Wild type EGFR', 'Wild type ALK']",
         "['Carboplatin', 'Paclitaxel', 'Atezolizumab']"
        ],
        [
         "39",
         "39",
         "Non-Small Cell Lung Cancer",
         "metastatic non-small cell lung cancer",
         "metastatic non-small cell lung cancer",
         "['EGFR somatic variants']",
         "['Atezolizumab']"
        ],
        [
         "40",
         "40",
         "Non-Small Cell Lung Cancer",
         "metastatic non-small cell lung cancer",
         "metastatic non-small cell lung cancer",
         "['v::ALK']",
         "['Atezolizumab']"
        ],
        [
         "41",
         "41",
         "Melanoma",
         "unresectable or metastatic melanoma",
         "unresectable or metastatic melanoma",
         "['BRAF p.V600E']",
         "['Vemurafenib', 'Cobimetinib', 'Atezolizumab']"
        ],
        [
         "42",
         "42",
         "Melanoma",
         "unresectable or metastatic melanoma",
         "unresectable or metastatic melanoma",
         "['BRAF p.V600K']",
         "['Vemurafenib', 'Cobimetinib', 'Atezolizumab']"
        ],
        [
         "43",
         "43",
         "Gastrointestinal Stromal Tumor",
         "unresectable or metastatic GIST",
         "unresectable or metastatic gastrointestinal stromal tumor",
         "['PDGFRA p.D842V']",
         "['Avapritinib']"
        ],
        [
         "44",
         "44",
         "Melanoma",
         "unresectable or metastatic melanoma",
         "unresectable or metastatic melanoma",
         "['BRAF p.V600E']",
         "['Binimetinib', 'Encorafenib']"
        ],
        [
         "45",
         "45",
         "Melanoma",
         "unresectable or metastatic melanoma",
         "unresectable or metastatic melanoma",
         "['BRAF p.V600K']",
         "['Binimetinib', 'Encorafenib']"
        ],
        [
         "46",
         "46",
         "Non-Small Cell Lung Cancer",
         "metastatic non-small cell lung cancer",
         "metastatic non-small cell lung cancer",
         "['BRAF p.V600E']",
         "['Binimetinib', 'Encorafenib']"
        ],
        [
         "47",
         "47",
         "Invasive Breast Carcinoma",
         "early breast cancer",
         "early invasive breast carcinoma",
         "['PR positive', 'HER2-negative', 'ER positive']",
         "['Abemaciclib', 'Letrozole']"
        ],
        [
         "48",
         "48",
         "Acute Lymphoid Leukemia",
         "b-cell precursor acute lymphoblastic leukemia (ALL)",
         "b-cell precursor acute lymphoid leukemia",
         "['CD19 +']",
         "['Blinatumomab']"
        ],
        [
         "49",
         "49",
         "Acute Lymphoid Leukemia",
         "b-cell precursor acute lymphoblastic leukemia (ALL)",
         "b-cell precursor acute lymphoid leukemia",
         "['CD19 +']",
         "['Blinatumomab']"
        ]
       ],
       "shape": {
        "columns": 6,
        "rows": 642
       }
      },
      "text/html": [
       "<div>\n",
       "<style scoped>\n",
       "    .dataframe tbody tr th:only-of-type {\n",
       "        vertical-align: middle;\n",
       "    }\n",
       "\n",
       "    .dataframe tbody tr th {\n",
       "        vertical-align: top;\n",
       "    }\n",
       "\n",
       "    .dataframe thead th {\n",
       "        text-align: right;\n",
       "    }\n",
       "</style>\n",
       "<table border=\"1\" class=\"dataframe\">\n",
       "  <thead>\n",
       "    <tr style=\"text-align: right;\">\n",
       "      <th></th>\n",
       "      <th>statement_id</th>\n",
       "      <th>standardized_cancer</th>\n",
       "      <th>raw_cancer</th>\n",
       "      <th>modified_standardized_cancer</th>\n",
       "      <th>biomarker</th>\n",
       "      <th>therapy</th>\n",
       "    </tr>\n",
       "  </thead>\n",
       "  <tbody>\n",
       "    <tr>\n",
       "      <th>0</th>\n",
       "      <td>0</td>\n",
       "      <td>Invasive Breast Carcinoma</td>\n",
       "      <td>early breast cancer</td>\n",
       "      <td>early invasive breast carcinoma</td>\n",
       "      <td>[HER2-negative, ER positive]</td>\n",
       "      <td>[Tamoxifen, Abemaciclib]</td>\n",
       "    </tr>\n",
       "    <tr>\n",
       "      <th>1</th>\n",
       "      <td>1</td>\n",
       "      <td>Invasive Breast Carcinoma</td>\n",
       "      <td>early breast cancer</td>\n",
       "      <td>early invasive breast carcinoma</td>\n",
       "      <td>[PR positive, HER2-negative]</td>\n",
       "      <td>[Tamoxifen, Abemaciclib]</td>\n",
       "    </tr>\n",
       "    <tr>\n",
       "      <th>2</th>\n",
       "      <td>2</td>\n",
       "      <td>Invasive Breast Carcinoma</td>\n",
       "      <td>early breast cancer</td>\n",
       "      <td>early invasive breast carcinoma</td>\n",
       "      <td>[PR positive, HER2-negative, ER positive]</td>\n",
       "      <td>[Tamoxifen, Abemaciclib]</td>\n",
       "    </tr>\n",
       "    <tr>\n",
       "      <th>3</th>\n",
       "      <td>3</td>\n",
       "      <td>Invasive Breast Carcinoma</td>\n",
       "      <td>advanced or metastatic breast cancer</td>\n",
       "      <td>advanced or metastatic invasive breast carcinoma</td>\n",
       "      <td>[HER2-negative, ER positive]</td>\n",
       "      <td>[Anastrozole, Abemaciclib]</td>\n",
       "    </tr>\n",
       "    <tr>\n",
       "      <th>4</th>\n",
       "      <td>4</td>\n",
       "      <td>Invasive Breast Carcinoma</td>\n",
       "      <td>advanced or metastatic breast cancer</td>\n",
       "      <td>advanced or metastatic invasive breast carcinoma</td>\n",
       "      <td>[PR positive, HER2-negative]</td>\n",
       "      <td>[Anastrozole, Abemaciclib]</td>\n",
       "    </tr>\n",
       "    <tr>\n",
       "      <th>...</th>\n",
       "      <td>...</td>\n",
       "      <td>...</td>\n",
       "      <td>...</td>\n",
       "      <td>...</td>\n",
       "      <td>...</td>\n",
       "      <td>...</td>\n",
       "    </tr>\n",
       "    <tr>\n",
       "      <th>637</th>\n",
       "      <td>641</td>\n",
       "      <td>Invasive Breast Carcinoma</td>\n",
       "      <td>breast cancer</td>\n",
       "      <td>invasive breast carcinoma</td>\n",
       "      <td>[HER2-negative, ER positive]</td>\n",
       "      <td>[Datopotamab deruxtecan]</td>\n",
       "    </tr>\n",
       "    <tr>\n",
       "      <th>638</th>\n",
       "      <td>642</td>\n",
       "      <td>Non-Small Cell Lung Cancer</td>\n",
       "      <td>breast cancer</td>\n",
       "      <td>non-small cell lung cancer</td>\n",
       "      <td>[PR positive, HER2-negative]</td>\n",
       "      <td>[Datopotamab deruxtecan]</td>\n",
       "    </tr>\n",
       "    <tr>\n",
       "      <th>639</th>\n",
       "      <td>643</td>\n",
       "      <td>Invasive Breast Carcinoma</td>\n",
       "      <td>breast cancer</td>\n",
       "      <td>invasive breast carcinoma</td>\n",
       "      <td>[PR positive, HER2-negative, ER positive]</td>\n",
       "      <td>[Datopotamab deruxtecan]</td>\n",
       "    </tr>\n",
       "    <tr>\n",
       "      <th>640</th>\n",
       "      <td>644</td>\n",
       "      <td>Non-Small Cell Lung Cancer</td>\n",
       "      <td>non-small cell lung cancer (NSCLC)</td>\n",
       "      <td>non-small cell lung cancer</td>\n",
       "      <td>[EGFR Exon 20 (Insertion)]</td>\n",
       "      <td>[Sunvozertinib]</td>\n",
       "    </tr>\n",
       "    <tr>\n",
       "      <th>641</th>\n",
       "      <td>645</td>\n",
       "      <td>Lung Non-Squamous Non-Small Cell Carcinoma</td>\n",
       "      <td>non-squamous non-small cell lung cancer</td>\n",
       "      <td>lung non-squamous non-small cell carcinoma</td>\n",
       "      <td>[ERBB2 TKD activating variants]</td>\n",
       "      <td>[Zongertinib]</td>\n",
       "    </tr>\n",
       "  </tbody>\n",
       "</table>\n",
       "<p>642 rows × 6 columns</p>\n",
       "</div>"
      ],
      "text/plain": [
       "     statement_id                         standardized_cancer  \\\n",
       "0               0                   Invasive Breast Carcinoma   \n",
       "1               1                   Invasive Breast Carcinoma   \n",
       "2               2                   Invasive Breast Carcinoma   \n",
       "3               3                   Invasive Breast Carcinoma   \n",
       "4               4                   Invasive Breast Carcinoma   \n",
       "..            ...                                         ...   \n",
       "637           641                   Invasive Breast Carcinoma   \n",
       "638           642                  Non-Small Cell Lung Cancer   \n",
       "639           643                   Invasive Breast Carcinoma   \n",
       "640           644                  Non-Small Cell Lung Cancer   \n",
       "641           645  Lung Non-Squamous Non-Small Cell Carcinoma   \n",
       "\n",
       "                                  raw_cancer  \\\n",
       "0                        early breast cancer   \n",
       "1                        early breast cancer   \n",
       "2                        early breast cancer   \n",
       "3       advanced or metastatic breast cancer   \n",
       "4       advanced or metastatic breast cancer   \n",
       "..                                       ...   \n",
       "637                            breast cancer   \n",
       "638                            breast cancer   \n",
       "639                            breast cancer   \n",
       "640       non-small cell lung cancer (NSCLC)   \n",
       "641  non-squamous non-small cell lung cancer   \n",
       "\n",
       "                         modified_standardized_cancer  \\\n",
       "0                     early invasive breast carcinoma   \n",
       "1                     early invasive breast carcinoma   \n",
       "2                     early invasive breast carcinoma   \n",
       "3    advanced or metastatic invasive breast carcinoma   \n",
       "4    advanced or metastatic invasive breast carcinoma   \n",
       "..                                                ...   \n",
       "637                         invasive breast carcinoma   \n",
       "638                        non-small cell lung cancer   \n",
       "639                         invasive breast carcinoma   \n",
       "640                        non-small cell lung cancer   \n",
       "641        lung non-squamous non-small cell carcinoma   \n",
       "\n",
       "                                     biomarker                     therapy  \n",
       "0                 [HER2-negative, ER positive]    [Tamoxifen, Abemaciclib]  \n",
       "1                 [PR positive, HER2-negative]    [Tamoxifen, Abemaciclib]  \n",
       "2    [PR positive, HER2-negative, ER positive]    [Tamoxifen, Abemaciclib]  \n",
       "3                 [HER2-negative, ER positive]  [Anastrozole, Abemaciclib]  \n",
       "4                 [PR positive, HER2-negative]  [Anastrozole, Abemaciclib]  \n",
       "..                                         ...                         ...  \n",
       "637               [HER2-negative, ER positive]    [Datopotamab deruxtecan]  \n",
       "638               [PR positive, HER2-negative]    [Datopotamab deruxtecan]  \n",
       "639  [PR positive, HER2-negative, ER positive]    [Datopotamab deruxtecan]  \n",
       "640                 [EGFR Exon 20 (Insertion)]             [Sunvozertinib]  \n",
       "641            [ERBB2 TKD activating variants]               [Zongertinib]  \n",
       "\n",
       "[642 rows x 6 columns]"
      ]
     },
     "execution_count": 24,
     "metadata": {},
     "output_type": "execute_result"
    }
   ],
   "source": [
    "standardized_to_raw_mapping = pd.DataFrame({\n",
    "    \"statement_id\": statement_id,\n",
    "    \"standardized_cancer\": standardized_cancer, \n",
    "    \"raw_cancer\": raw_cancer, \n",
    "    \"modified_standardized_cancer\": modified_standardized_cancer,\n",
    "    \"biomarker\": biomarker, \n",
    "    \"therapy\": therapy\n",
    "    })\n",
    "standardized_to_raw_mapping"
   ]
  },
  {
   "cell_type": "code",
   "execution_count": null,
   "id": "a2cdf794",
   "metadata": {},
   "outputs": [],
   "source": [
    "standardized_to_raw_mapping.to_csv(f\"data/latest_db/moalmanac_core__{_VERSION}.csv\", index=False)"
   ]
  },
  {
   "cell_type": "code",
   "execution_count": null,
   "id": "0a4d3dee",
   "metadata": {},
   "outputs": [],
   "source": [
    "#for manual inspection of modifiers\n",
    "standardized_to_raw_mapping.drop_duplicates(subset=['standardized_cancer', 'raw_cancer']).to_csv(\"data/latest_db/standardized_to_raw_cancer_mapping.csv\", index=False)"
   ]
  }
 ],
 "metadata": {
  "kernelspec": {
   "display_name": "base",
   "language": "python",
   "name": "python3"
  },
  "language_info": {
   "codemirror_mode": {
    "name": "ipython",
    "version": 3
   },
   "file_extension": ".py",
   "mimetype": "text/x-python",
   "name": "python",
   "nbconvert_exporter": "python",
   "pygments_lexer": "ipython3",
   "version": "3.10.14"
  }
 },
 "nbformat": 4,
 "nbformat_minor": 5
}
