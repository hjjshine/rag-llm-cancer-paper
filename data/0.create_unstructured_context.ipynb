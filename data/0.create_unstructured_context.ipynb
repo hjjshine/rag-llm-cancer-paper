{
 "cells": [
  {
   "cell_type": "code",
   "execution_count": 1,
   "id": "a35e88cf",
   "metadata": {},
   "outputs": [],
   "source": [
    "import sys\n",
    "import os\n",
    "script_dir = os.getcwd()\n",
    "root_dir = os.path.join(os.path.dirname(os.path.abspath(script_dir)))\n",
    "sys.path.append(root_dir)\n",
    "os.chdir(root_dir)"
   ]
  },
  {
   "cell_type": "code",
   "execution_count": null,
   "id": "140e727d",
   "metadata": {},
   "outputs": [
    {
     "data": {
      "text/plain": [
       "'2025-09-04'"
      ]
     },
     "execution_count": 3,
     "metadata": {},
     "output_type": "execute_result"
    }
   ],
   "source": [
    "import json\n",
    "import pandas as pd\n",
    "import numpy as np\n",
    "import requests\n",
    "import faiss\n",
    "from openai import OpenAI\n",
    "from utils.embedding import index_context_db\n",
    "from dotenv import load_dotenv\n",
    "from utils.check_db_version import get_local_version\n",
    "from utils.flatten_statement import flatten_statements\n",
    "from tqdm import tqdm\n",
    "from tika import parser\n",
    "_VERSION=get_local_version()\n",
    "_VERSION"
   ]
  },
  {
   "cell_type": "code",
   "execution_count": 4,
   "id": "566c16ee",
   "metadata": {},
   "outputs": [
    {
     "data": {
      "text/plain": [
       "642"
      ]
     },
     "execution_count": 4,
     "metadata": {},
     "output_type": "execute_result"
    }
   ],
   "source": [
    "with open(f\"data/latest_db/fda_statements__{_VERSION}.json\", \"r\") as f:\n",
    "    fda_statements=json.load(f)\n",
    "len(fda_statements)"
   ]
  },
  {
   "cell_type": "markdown",
   "id": "6f77e08d",
   "metadata": {},
   "source": [
    "## Access and download FDA labels"
   ]
  },
  {
   "cell_type": "code",
   "execution_count": 5,
   "id": "7814d896",
   "metadata": {},
   "outputs": [],
   "source": [
    "download_path=f\"data/latest_db/fda_labels__{_VERSION}\"\n",
    "os.makedirs(download_path, exist_ok=True)"
   ]
  },
  {
   "cell_type": "code",
   "execution_count": 6,
   "id": "72bd3f60",
   "metadata": {},
   "outputs": [
    {
     "data": {
      "text/plain": [
       "102"
      ]
     },
     "execution_count": 6,
     "metadata": {},
     "output_type": "execute_result"
    }
   ],
   "source": [
    "fda_label_urls={stmt.get(\"reportedIn\", [{}])[0].get(\"url\", None) for stmt in fda_statements}\n",
    "len(fda_label_urls)"
   ]
  },
  {
   "cell_type": "code",
   "execution_count": 91,
   "id": "9101852b",
   "metadata": {},
   "outputs": [
    {
     "name": "stderr",
     "output_type": "stream",
     "text": [
      "100%|██████████| 102/102 [00:23<00:00,  4.28it/s]\n"
     ]
    }
   ],
   "source": [
    "headers = {\n",
    "    \"User-Agent\": \"Mozilla/5.0 (Windows NT 10.0; Win64; x64) \"\n",
    "                  \"AppleWebKit/537.36 (KHTML, like Gecko) \"\n",
    "                  \"Chrome/116.0.0.0 Safari/537.36\",\n",
    "    \"Accept\": \"application/pdf\"\n",
    "}\n",
    "\n",
    "for url in tqdm(fda_label_urls):\n",
    "    response = requests.get(url, headers=headers, timeout=20)\n",
    "    filename = os.path.join(download_path, url.replace(\"https://\",\"\").replace(\"/\",\"_\"))\n",
    "    with open(filename, \"wb\") as f:\n",
    "        f.write(response.content)"
   ]
  },
  {
   "cell_type": "markdown",
   "id": "30151cc7",
   "metadata": {},
   "source": [
    "## Extract indication and usage section"
   ]
  },
  {
   "cell_type": "markdown",
   "id": "d5197771",
   "metadata": {},
   "source": [
    "### Functions"
   ]
  },
  {
   "cell_type": "code",
   "execution_count": 11,
   "id": "52b03db0",
   "metadata": {},
   "outputs": [
    {
     "name": "stdout",
     "output_type": "stream",
     "text": [
      "INDICATIONS AND USAGE --------------------------\n",
      "TAZVERIK is a methyltransferase inhibitor indicated for the treatment of: \n",
      " Adults and pediatric patients aged 16 years and older with metastatic or \n",
      "locally advanced epithelioid sarcoma not eligible for complete resection. \n",
      "(1.1) \n",
      " Adult patients with relapsed or refractory follicular lymphoma whose \n",
      "tumors are positive for an EZH2 mutation as detected by an \n",
      "FDA-approved test and who have received at least 2 prior systemic \n",
      "therapies. (1.2) \n",
      " Adult patients with relapsed or refractory follicular lymphoma who have \n",
      "no satisfactory alternative treatment options. (1.2) \n",
      "These indications are approved under accelerated approval based on overall \n",
      "response rate and duration of response. Continued approval for these \n",
      "indications may be contingent upon verification and description of clinical \n",
      "benefit in a confirmatory trial(s). \n",
      "-----------------------\n"
     ]
    }
   ],
   "source": [
    "def extract_section(\n",
    "    file_path, \n",
    "    start_text=\"INDICATIONS AND USAGE\",\n",
    "    end_text=\"DOSAGE AND ADMINISTRATION\"\n",
    "    ):\n",
    "    raw=parser.from_file(file_path)\n",
    "    section=raw['content']\n",
    "\n",
    "    #1) remove empty lines and convert letter to lower case\n",
    "    section=os.linesep.join([s for s in section.splitlines() if s.strip()])\n",
    "\n",
    "    #2) extract text between two headers\n",
    "    if start_text in section and end_text in section:\n",
    "        start_ind=section.index(start_text)\n",
    "        end_ind=section.index(end_text)\n",
    "        final_chunk=section[start_ind:end_ind].strip()\n",
    "        return final_chunk\n",
    "    else:\n",
    "        return None\n",
    "\n",
    "file_path = f\"data/latest_db/fda_labels__{_VERSION}/www.accessdata.fda.gov_drugsatfda_docs_label_2023_211723s004lbl.pdf\"\n",
    "final_chunk = extract_section(file_path)\n",
    "print(final_chunk)"
   ]
  },
  {
   "cell_type": "code",
   "execution_count": 22,
   "id": "b58e9baa",
   "metadata": {},
   "outputs": [
    {
     "data": {
      "text/plain": [
       "'tazverik is a methyltransferase inhibitor indicated for the treatment of:  adults and pediatric patients aged 16 years and older with metastatic or locally advanced epithelioid sarcoma not eligible for complete resection. (1.1)  adult patients with relapsed or refractory follicular lymphoma whose tumors are positive for an ezh2 mutation as detected by an fda-approved test and who have received at least 2 prior systemic therapies. (1.2)  adult patients with relapsed or refractory follicular lymphoma who have no satisfactory alternative treatment options. (1.2) these indications are approved under accelerated approval based on overall response rate and duration of response. continued approval for these indications may be contingent upon verification and description of clinical benefit in a confirmatory trial(s).'"
      ]
     },
     "execution_count": 22,
     "metadata": {},
     "output_type": "execute_result"
    }
   ],
   "source": [
    "import re\n",
    "import unicodedata\n",
    "\n",
    "def clean_fda_text(text, section_name=\"INDICATIONS AND USAGE\"):\n",
    "    lines = text.splitlines()\n",
    "    cleaned_lines = []\n",
    "\n",
    "    for i, line in enumerate(lines):\n",
    "        line = line.strip()\n",
    "        if not line:\n",
    "            continue\n",
    "        #1) skip empty lines that are mostly dashes\n",
    "        if not line or re.fullmatch(r'-{3,}', line):\n",
    "            continue\n",
    "        #2) skip the section header line itself\n",
    "        if i == 0 and line.upper().startswith(section_name):\n",
    "            continue\n",
    "        #3) normalize unicode and remove non-printable characters\n",
    "        line = unicodedata.normalize(\"NFKD\", line)\n",
    "        line = \"\".join([c for c in line if c.isprintable()]) \n",
    "        cleaned_lines.append(line)\n",
    "\n",
    "    return \" \".join(cleaned_lines).lower()\n",
    "\n",
    "clean_fda_text(final_chunk)"
   ]
  },
  {
   "cell_type": "markdown",
   "id": "97fa8382",
   "metadata": {},
   "source": [
    "### Extract for all PDFs"
   ]
  },
  {
   "cell_type": "code",
   "execution_count": 28,
   "id": "1c7de867",
   "metadata": {},
   "outputs": [],
   "source": [
    "fda_label_path = f\"data/latest_db/fda_labels__{_VERSION}\"\n",
    "\n",
    "all_files = os.listdir(fda_label_path)\n",
    "\n",
    "unstructured_contexts=[]\n",
    "for f in all_files:\n",
    "    section_chunk=extract_section(os.path.join(fda_label_path, f))\n",
    "    cleaned_chunk=clean_fda_text(section_chunk)\n",
    "    unstructured_contexts.append(cleaned_chunk)\n",
    "    "
   ]
  },
  {
   "cell_type": "code",
   "execution_count": 31,
   "id": "876bb88b",
   "metadata": {},
   "outputs": [
    {
     "data": {
      "text/plain": [
       "102"
      ]
     },
     "execution_count": 31,
     "metadata": {},
     "output_type": "execute_result"
    }
   ],
   "source": [
    "len({ctx for ctx in unstructured_contexts})"
   ]
  },
  {
   "cell_type": "markdown",
   "id": "040f6bef",
   "metadata": {},
   "source": [
    "## Save and index context"
   ]
  },
  {
   "cell_type": "code",
   "execution_count": 33,
   "id": "350cbdde",
   "metadata": {},
   "outputs": [],
   "source": [
    "load_dotenv()\n",
    "api_key = os.getenv(\"OPENAI_API_KEY\")\n",
    "_CLIENT = OpenAI(api_key=api_key)\n",
    "_MODEL_EMBED = \"text-embedding-3-small\"\n",
    "\n",
    "def _cache_paths(output_dir: str, embed_name: str, name: str, version: str = \"v1\"):\n",
    "    os.makedirs(output_dir, exist_ok=True)\n",
    "    return (\n",
    "        f\"{output_dir}/{embed_name}_{name}__{version}.faiss\",\n",
    "        f\"{output_dir}/{embed_name}_{name}__{version}.json\",\n",
    "    )\n",
    "    \n",
    "index_path, ctx_path = _cache_paths(\"data/latest_db/indexes\", _MODEL_EMBED, \"unstructured_context\", version=_VERSION)\n",
    "\n",
    "_INDEX = index_context_db(unstructured_contexts, _CLIENT, _MODEL_EMBED)\n",
    "faiss.write_index(_INDEX, index_path)\n",
    "with open(ctx_path, \"w\") as f:\n",
    "    json.dump(unstructured_contexts, f)"
   ]
  }
 ],
 "metadata": {
  "kernelspec": {
   "display_name": "base",
   "language": "python",
   "name": "python3"
  },
  "language_info": {
   "codemirror_mode": {
    "name": "ipython",
    "version": 3
   },
   "file_extension": ".py",
   "mimetype": "text/x-python",
   "name": "python",
   "nbconvert_exporter": "python",
   "pygments_lexer": "ipython3",
   "version": "3.10.14"
  }
 },
 "nbformat": 4,
 "nbformat_minor": 5
}
