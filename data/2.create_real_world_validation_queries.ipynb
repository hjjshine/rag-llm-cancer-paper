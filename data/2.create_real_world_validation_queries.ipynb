{
 "cells": [
  {
   "cell_type": "code",
   "execution_count": 2,
   "id": "161bf749",
   "metadata": {},
   "outputs": [],
   "source": [
    "import sys\n",
    "import os\n",
    "script_dir = os.getcwd()\n",
    "root_dir = os.path.join(os.path.dirname(os.path.abspath(script_dir)))\n",
    "sys.path.append(os.path.join(os.path.dirname(os.path.abspath(script_dir))))\n",
    "os.chdir(root_dir)"
   ]
  },
  {
   "cell_type": "code",
   "execution_count": 197,
   "id": "54d06a22",
   "metadata": {},
   "outputs": [],
   "source": [
    "from utils.io import save_object, load_object\n",
    "import pandas as pd\n",
    "from sklearn.model_selection import train_test_split\n",
    "import json\n",
    "_VERSION=\"v1\""
   ]
  },
  {
   "cell_type": "code",
   "execution_count": 63,
   "id": "3fcffb2d",
   "metadata": {},
   "outputs": [
    {
     "data": {
      "application/vnd.microsoft.datawrangler.viewer.v0+json": {
       "columns": [
        {
         "name": "index",
         "rawType": "int64",
         "type": "integer"
        },
        {
         "name": "prompt",
         "rawType": "object",
         "type": "string"
        },
        {
         "name": "cancer_category",
         "rawType": "object",
         "type": "string"
        },
        {
         "name": "cancer_type",
         "rawType": "object",
         "type": "string"
        },
        {
         "name": "biomarker",
         "rawType": "object",
         "type": "string"
        }
       ],
       "ref": "6b123e22-7fb9-4da4-8fe0-70901c899612",
       "rows": [
        [
         "0",
         "what is the first-line treatment of metastatic urothelial carcinoma with fgfr3 s249c mutation?",
         "GU",
         "['urothelial carcinoma', 'metastatic']",
         "['fgfr3']"
        ],
        [
         "1",
         "are parp inhibitors used for patients with leiomyosarcoma who have mutations in dna damage repair genes?",
         "Sarcoma",
         "['leiomyosarcoma']",
         "['dna', 'parp']"
        ],
        [
         "2",
         "are alk inhibitors approved for use in tfcp2 fusion positive rhabdomyosarcoma?",
         "Sarcoma",
         "['rhabdomyosarcoma']",
         "['alk', 'tfcp2']"
        ],
        [
         "3",
         "for a patient with cancer metastatic prostate cancer, advanced stage (most often stage iv, but some stage iii or earlier potentially) and with brca2 mutation, what drugs approved?",
         "GU",
         "['prostate cancer', 'cancer']",
         "['brca2']"
        ],
        [
         "4",
         "for a patient with her2+ breast cancer after neoadjvuant chemotherapy + trastuzumab then surgery, if residual disease at time of surgery, what treatment options are approved afterwards?",
         "Breast",
         "['breast cancer', 'disease']",
         "['her2']"
        ]
       ],
       "shape": {
        "columns": 4,
        "rows": 5
       }
      },
      "text/html": [
       "<div>\n",
       "<style scoped>\n",
       "    .dataframe tbody tr th:only-of-type {\n",
       "        vertical-align: middle;\n",
       "    }\n",
       "\n",
       "    .dataframe tbody tr th {\n",
       "        vertical-align: top;\n",
       "    }\n",
       "\n",
       "    .dataframe thead th {\n",
       "        text-align: right;\n",
       "    }\n",
       "</style>\n",
       "<table border=\"1\" class=\"dataframe\">\n",
       "  <thead>\n",
       "    <tr style=\"text-align: right;\">\n",
       "      <th></th>\n",
       "      <th>prompt</th>\n",
       "      <th>cancer_category</th>\n",
       "      <th>cancer_type</th>\n",
       "      <th>biomarker</th>\n",
       "    </tr>\n",
       "  </thead>\n",
       "  <tbody>\n",
       "    <tr>\n",
       "      <th>0</th>\n",
       "      <td>what is the first-line treatment of metastatic...</td>\n",
       "      <td>GU</td>\n",
       "      <td>['urothelial carcinoma', 'metastatic']</td>\n",
       "      <td>['fgfr3']</td>\n",
       "    </tr>\n",
       "    <tr>\n",
       "      <th>1</th>\n",
       "      <td>are parp inhibitors used for patients with lei...</td>\n",
       "      <td>Sarcoma</td>\n",
       "      <td>['leiomyosarcoma']</td>\n",
       "      <td>['dna', 'parp']</td>\n",
       "    </tr>\n",
       "    <tr>\n",
       "      <th>2</th>\n",
       "      <td>are alk inhibitors approved for use in tfcp2 f...</td>\n",
       "      <td>Sarcoma</td>\n",
       "      <td>['rhabdomyosarcoma']</td>\n",
       "      <td>['alk', 'tfcp2']</td>\n",
       "    </tr>\n",
       "    <tr>\n",
       "      <th>3</th>\n",
       "      <td>for a patient with cancer metastatic prostate ...</td>\n",
       "      <td>GU</td>\n",
       "      <td>['prostate cancer', 'cancer']</td>\n",
       "      <td>['brca2']</td>\n",
       "    </tr>\n",
       "    <tr>\n",
       "      <th>4</th>\n",
       "      <td>for a patient with her2+ breast cancer after n...</td>\n",
       "      <td>Breast</td>\n",
       "      <td>['breast cancer', 'disease']</td>\n",
       "      <td>['her2']</td>\n",
       "    </tr>\n",
       "  </tbody>\n",
       "</table>\n",
       "</div>"
      ],
      "text/plain": [
       "                                              prompt cancer_category  \\\n",
       "0  what is the first-line treatment of metastatic...              GU   \n",
       "1  are parp inhibitors used for patients with lei...         Sarcoma   \n",
       "2  are alk inhibitors approved for use in tfcp2 f...         Sarcoma   \n",
       "3  for a patient with cancer metastatic prostate ...              GU   \n",
       "4  for a patient with her2+ breast cancer after n...          Breast   \n",
       "\n",
       "                              cancer_type         biomarker  \n",
       "0  ['urothelial carcinoma', 'metastatic']         ['fgfr3']  \n",
       "1                      ['leiomyosarcoma']   ['dna', 'parp']  \n",
       "2                    ['rhabdomyosarcoma']  ['alk', 'tfcp2']  \n",
       "3           ['prostate cancer', 'cancer']         ['brca2']  \n",
       "4            ['breast cancer', 'disease']          ['her2']  "
      ]
     },
     "execution_count": 63,
     "metadata": {},
     "output_type": "execute_result"
    }
   ],
   "source": [
    "real_world_db_entity_mapped=pd.read_csv(f\"data/real_world_db/real_world_db_entity_mapped_cancerAnnot__{_VERSION}.csv\", index_col=0)\n",
    "real_world_db_entity_mapped.head()"
   ]
  },
  {
   "cell_type": "code",
   "execution_count": null,
   "id": "03a6ebe7",
   "metadata": {},
   "outputs": [],
   "source": [
    "val, test = train_test_split(\n",
    "    real_world_db_entity_mapped,\n",
    "    test_size=0.75,\n",
    "    stratify=real_world_db_entity_mapped['cancer_category'],\n",
    "    random_state=42\n",
    ")"
   ]
  },
  {
   "cell_type": "code",
   "execution_count": 175,
   "id": "68648c49",
   "metadata": {},
   "outputs": [
    {
     "data": {
      "application/vnd.microsoft.datawrangler.viewer.v0+json": {
       "columns": [
        {
         "name": "dataset",
         "rawType": "object",
         "type": "string"
        },
        {
         "name": "count",
         "rawType": "int64",
         "type": "integer"
        }
       ],
       "ref": "ce5f00d5-a025-4ab1-9986-bb3d77e53d53",
       "rows": [
        [
         "test",
         "77"
        ],
        [
         "validation",
         "25"
        ]
       ],
       "shape": {
        "columns": 1,
        "rows": 2
       }
      },
      "text/plain": [
       "dataset\n",
       "test          77\n",
       "validation    25\n",
       "Name: count, dtype: int64"
      ]
     },
     "execution_count": 175,
     "metadata": {},
     "output_type": "execute_result"
    }
   ],
   "source": [
    "real_world_db_entity_mapped['dataset'] = None\n",
    "real_world_db_entity_mapped.loc[val.index, 'dataset'] = 'validation'\n",
    "real_world_db_entity_mapped.loc[test.index, 'dataset'] = 'test'\n",
    "real_world_db_entity_mapped.dataset.value_counts()"
   ]
  },
  {
   "cell_type": "code",
   "execution_count": 59,
   "id": "3b887254",
   "metadata": {},
   "outputs": [
    {
     "name": "stdout",
     "output_type": "stream",
     "text": [
      "Validation\n",
      "cancer_category\n",
      "GU             0.20\n",
      "GI             0.20\n",
      "Hematologic    0.12\n",
      "Breast         0.08\n",
      "CNS            0.08\n",
      "Sarcoma        0.08\n",
      "Lung           0.08\n",
      "Other          0.04\n",
      "Skin           0.04\n",
      "Endocrine      0.04\n",
      "Unspecified    0.04\n",
      "Name: proportion, dtype: float64\n",
      "\n",
      "Test\n",
      "cancer_category\n",
      "GU             0.220779\n",
      "GI             0.207792\n",
      "Hematologic    0.116883\n",
      "Breast         0.103896\n",
      "CNS            0.090909\n",
      "Lung           0.064935\n",
      "Sarcoma        0.064935\n",
      "Endocrine      0.051948\n",
      "GYN            0.025974\n",
      "Unspecified    0.025974\n",
      "Other          0.012987\n",
      "Skin           0.012987\n",
      "Name: proportion, dtype: float64\n",
      "\n"
     ]
    }
   ],
   "source": [
    "for split_name, split_df in zip(['Validation','Test'], [val,test]):\n",
    "    print(split_name)\n",
    "    print(split_df['cancer_category'].value_counts(normalize=True))\n",
    "    print()"
   ]
  },
  {
   "cell_type": "code",
   "execution_count": 60,
   "id": "19e1bcea",
   "metadata": {},
   "outputs": [
    {
     "data": {
      "image/png": "[encoded data removed]",
      "text/plain": [
       "<Figure size 400x400 with 1 Axes>"
      ]
     },
     "metadata": {},
     "output_type": "display_data"
    }
   ],
   "source": [
    "import matplotlib.pyplot as plt\n",
    "import seaborn as sns\n",
    "\n",
    "categories=real_world_db_entity_mapped['cancer_category'].unique()\n",
    "palette = sns.color_palette(\"tab20\", n_colors=len(categories))  # qualitative, up to 20 colors\n",
    "\n",
    "counts = pd.DataFrame({\n",
    "    'Validation': val['cancer_category'].value_counts(),\n",
    "    'Test': test['cancer_category'].value_counts()\n",
    "}).fillna(0)\n",
    "\n",
    "counts.T.plot(kind='bar', stacked=True, color=palette, figsize=(4,4), width=0.3)\n",
    "plt.ylabel(\"Number of queries\")\n",
    "plt.title(\"Cancer type distribution across splits\")\n",
    "plt.legend(loc='center left', bbox_to_anchor=(1, 0.5))\n",
    "plt.show()"
   ]
  },
  {
   "cell_type": "code",
   "execution_count": 179,
   "id": "934ccf2a",
   "metadata": {},
   "outputs": [
    {
     "data": {
      "application/vnd.microsoft.datawrangler.viewer.v0+json": {
       "columns": [
        {
         "name": "index",
         "rawType": "int64",
         "type": "integer"
        },
        {
         "name": "prompt",
         "rawType": "object",
         "type": "string"
        },
        {
         "name": "cancer_category",
         "rawType": "object",
         "type": "string"
        },
        {
         "name": "cancer_type",
         "rawType": "object",
         "type": "string"
        },
        {
         "name": "biomarker",
         "rawType": "object",
         "type": "string"
        },
        {
         "name": "dataset",
         "rawType": "object",
         "type": "string"
        }
       ],
       "ref": "0eb022b4-2177-49bd-b165-6abf07a20911",
       "rows": [
        [
         "0",
         "what is the first-line treatment of metastatic urothelial carcinoma with fgfr3 s249c mutation?",
         "GU",
         "['urothelial carcinoma', 'metastatic']",
         "['fgfr3']",
         "test"
        ],
        [
         "1",
         "are parp inhibitors used for patients with leiomyosarcoma who have mutations in dna damage repair genes?",
         "Sarcoma",
         "['leiomyosarcoma']",
         "['dna', 'parp']",
         "test"
        ],
        [
         "2",
         "are alk inhibitors approved for use in tfcp2 fusion positive rhabdomyosarcoma?",
         "Sarcoma",
         "['rhabdomyosarcoma']",
         "['alk', 'tfcp2']",
         "validation"
        ],
        [
         "3",
         "for a patient with cancer metastatic prostate cancer, advanced stage (most often stage iv, but some stage iii or earlier potentially) and with brca2 mutation, what drugs approved?",
         "GU",
         "['prostate cancer', 'cancer']",
         "['brca2']",
         "test"
        ],
        [
         "4",
         "for a patient with her2+ breast cancer after neoadjvuant chemotherapy + trastuzumab then surgery, if residual disease at time of surgery, what treatment options are approved afterwards?",
         "Breast",
         "['breast cancer', 'disease']",
         "['her2']",
         "test"
        ]
       ],
       "shape": {
        "columns": 5,
        "rows": 5
       }
      },
      "text/html": [
       "<div>\n",
       "<style scoped>\n",
       "    .dataframe tbody tr th:only-of-type {\n",
       "        vertical-align: middle;\n",
       "    }\n",
       "\n",
       "    .dataframe tbody tr th {\n",
       "        vertical-align: top;\n",
       "    }\n",
       "\n",
       "    .dataframe thead th {\n",
       "        text-align: right;\n",
       "    }\n",
       "</style>\n",
       "<table border=\"1\" class=\"dataframe\">\n",
       "  <thead>\n",
       "    <tr style=\"text-align: right;\">\n",
       "      <th></th>\n",
       "      <th>prompt</th>\n",
       "      <th>cancer_category</th>\n",
       "      <th>cancer_type</th>\n",
       "      <th>biomarker</th>\n",
       "      <th>dataset</th>\n",
       "    </tr>\n",
       "  </thead>\n",
       "  <tbody>\n",
       "    <tr>\n",
       "      <th>0</th>\n",
       "      <td>what is the first-line treatment of metastatic...</td>\n",
       "      <td>GU</td>\n",
       "      <td>['urothelial carcinoma', 'metastatic']</td>\n",
       "      <td>['fgfr3']</td>\n",
       "      <td>test</td>\n",
       "    </tr>\n",
       "    <tr>\n",
       "      <th>1</th>\n",
       "      <td>are parp inhibitors used for patients with lei...</td>\n",
       "      <td>Sarcoma</td>\n",
       "      <td>['leiomyosarcoma']</td>\n",
       "      <td>['dna', 'parp']</td>\n",
       "      <td>test</td>\n",
       "    </tr>\n",
       "    <tr>\n",
       "      <th>2</th>\n",
       "      <td>are alk inhibitors approved for use in tfcp2 f...</td>\n",
       "      <td>Sarcoma</td>\n",
       "      <td>['rhabdomyosarcoma']</td>\n",
       "      <td>['alk', 'tfcp2']</td>\n",
       "      <td>validation</td>\n",
       "    </tr>\n",
       "    <tr>\n",
       "      <th>3</th>\n",
       "      <td>for a patient with cancer metastatic prostate ...</td>\n",
       "      <td>GU</td>\n",
       "      <td>['prostate cancer', 'cancer']</td>\n",
       "      <td>['brca2']</td>\n",
       "      <td>test</td>\n",
       "    </tr>\n",
       "    <tr>\n",
       "      <th>4</th>\n",
       "      <td>for a patient with her2+ breast cancer after n...</td>\n",
       "      <td>Breast</td>\n",
       "      <td>['breast cancer', 'disease']</td>\n",
       "      <td>['her2']</td>\n",
       "      <td>test</td>\n",
       "    </tr>\n",
       "  </tbody>\n",
       "</table>\n",
       "</div>"
      ],
      "text/plain": [
       "                                              prompt cancer_category  \\\n",
       "0  what is the first-line treatment of metastatic...              GU   \n",
       "1  are parp inhibitors used for patients with lei...         Sarcoma   \n",
       "2  are alk inhibitors approved for use in tfcp2 f...         Sarcoma   \n",
       "3  for a patient with cancer metastatic prostate ...              GU   \n",
       "4  for a patient with her2+ breast cancer after n...          Breast   \n",
       "\n",
       "                              cancer_type         biomarker     dataset  \n",
       "0  ['urothelial carcinoma', 'metastatic']         ['fgfr3']        test  \n",
       "1                      ['leiomyosarcoma']   ['dna', 'parp']        test  \n",
       "2                    ['rhabdomyosarcoma']  ['alk', 'tfcp2']  validation  \n",
       "3           ['prostate cancer', 'cancer']         ['brca2']        test  \n",
       "4            ['breast cancer', 'disease']          ['her2']        test  "
      ]
     },
     "execution_count": 179,
     "metadata": {},
     "output_type": "execute_result"
    }
   ],
   "source": [
    "real_world_db_entity_mapped.to_csv(f\"data/real_world_db/real_world_db_split__{_VERSION}.csv\")\n",
    "real_world_db_entity_mapped.head()"
   ]
  },
  {
   "cell_type": "code",
   "execution_count": 178,
   "id": "49b6da04",
   "metadata": {},
   "outputs": [],
   "source": [
    "with open(f\"data/real_world_db/real_world_validation_query__{_VERSION}.json\", \"w\") as f:\n",
    "    json.dump(val['prompt'].tolist(), f)\n",
    "\n",
    "with open(f\"data/real_world_db/real_world_test_query__{_VERSION}.json\", \"w\") as f:\n",
    "    json.dump(test['prompt'].tolist(), f)"
   ]
  },
  {
   "cell_type": "markdown",
   "id": "25270602",
   "metadata": {},
   "source": [
    "Create ground-truth answers"
   ]
  },
  {
   "cell_type": "code",
   "execution_count": 187,
   "id": "c1caf381",
   "metadata": {},
   "outputs": [],
   "source": [
    "real_world_db=pd.read_csv(f\"data/real_world_db/updated_real_world_queries_answers__{_VERSION}.csv\", index_col=0)\n",
    "real_world_db=real_world_db.dropna(subset='Questions').reset_index(drop=True)\n",
    "real_world_db_entity_mapped['All_onlabel_groundtruth_therapies_cleaned__v2'] = None"
   ]
  },
  {
   "cell_type": "code",
   "execution_count": 188,
   "id": "f2c339e6",
   "metadata": {},
   "outputs": [],
   "source": [
    "def parse_therapies(entry):\n",
    "    if isinstance(entry, str):\n",
    "        parts = entry.split(',')\n",
    "        if len(parts) > 1:\n",
    "            return [set(d.strip().split(' + ')) for d in parts]\n",
    "        else:\n",
    "            return [set(parts)]\n",
    "    else:\n",
    "        return []\n",
    "    \n",
    "real_world_db_entity_mapped['All_onlabel_groundtruth_therapies_cleaned__v2']=real_world_db['All_onlabel_groundtruth_therapies_cleaned__v1'].apply(parse_therapies)"
   ]
  },
  {
   "cell_type": "code",
   "execution_count": 189,
   "id": "4f8d804d",
   "metadata": {},
   "outputs": [
    {
     "data": {
      "application/vnd.microsoft.datawrangler.viewer.v0+json": {
       "columns": [
        {
         "name": "index",
         "rawType": "int64",
         "type": "integer"
        },
        {
         "name": "prompt",
         "rawType": "object",
         "type": "string"
        },
        {
         "name": "cancer_category",
         "rawType": "object",
         "type": "string"
        },
        {
         "name": "cancer_type",
         "rawType": "object",
         "type": "string"
        },
        {
         "name": "biomarker",
         "rawType": "object",
         "type": "string"
        },
        {
         "name": "dataset",
         "rawType": "object",
         "type": "string"
        },
        {
         "name": "All_onlabel_groundtruth_therapies_cleaned__v2",
         "rawType": "object",
         "type": "unknown"
        }
       ],
       "ref": "523c3cbe-d9f9-47c4-95ed-853a101c6069",
       "rows": [
        [
         "0",
         "what is the first-line treatment of metastatic urothelial carcinoma with fgfr3 s249c mutation?",
         "GU",
         "['urothelial carcinoma', 'metastatic']",
         "['fgfr3']",
         "test",
         "[{'erdafitinib'}]"
        ],
        [
         "1",
         "are parp inhibitors used for patients with leiomyosarcoma who have mutations in dna damage repair genes?",
         "Sarcoma",
         "['leiomyosarcoma']",
         "['dna', 'parp']",
         "test",
         "[]"
        ],
        [
         "2",
         "are alk inhibitors approved for use in tfcp2 fusion positive rhabdomyosarcoma?",
         "Sarcoma",
         "['rhabdomyosarcoma']",
         "['alk', 'tfcp2']",
         "validation",
         "[]"
        ],
        [
         "3",
         "for a patient with cancer metastatic prostate cancer, advanced stage (most often stage iv, but some stage iii or earlier potentially) and with brca2 mutation, what drugs approved?",
         "GU",
         "['prostate cancer', 'cancer']",
         "['brca2']",
         "test",
         "[{'abiraterone acetate', 'niraparib', 'prednisolone'}, {'abiraterone acetate', 'prednisolone', 'olaparib'}, {'enzalutamide', 'talazoparib'}, {'olaparib'}, {'rucaparib'}]"
        ],
        [
         "4",
         "for a patient with her2+ breast cancer after neoadjvuant chemotherapy + trastuzumab then surgery, if residual disease at time of surgery, what treatment options are approved afterwards?",
         "Breast",
         "['breast cancer', 'disease']",
         "['her2']",
         "test",
         "[{'trastuzumab emtansine'}]"
        ]
       ],
       "shape": {
        "columns": 6,
        "rows": 5
       }
      },
      "text/html": [
       "<div>\n",
       "<style scoped>\n",
       "    .dataframe tbody tr th:only-of-type {\n",
       "        vertical-align: middle;\n",
       "    }\n",
       "\n",
       "    .dataframe tbody tr th {\n",
       "        vertical-align: top;\n",
       "    }\n",
       "\n",
       "    .dataframe thead th {\n",
       "        text-align: right;\n",
       "    }\n",
       "</style>\n",
       "<table border=\"1\" class=\"dataframe\">\n",
       "  <thead>\n",
       "    <tr style=\"text-align: right;\">\n",
       "      <th></th>\n",
       "      <th>prompt</th>\n",
       "      <th>cancer_category</th>\n",
       "      <th>cancer_type</th>\n",
       "      <th>biomarker</th>\n",
       "      <th>dataset</th>\n",
       "      <th>All_onlabel_groundtruth_therapies_cleaned__v2</th>\n",
       "    </tr>\n",
       "  </thead>\n",
       "  <tbody>\n",
       "    <tr>\n",
       "      <th>0</th>\n",
       "      <td>what is the first-line treatment of metastatic...</td>\n",
       "      <td>GU</td>\n",
       "      <td>['urothelial carcinoma', 'metastatic']</td>\n",
       "      <td>['fgfr3']</td>\n",
       "      <td>test</td>\n",
       "      <td>[{erdafitinib}]</td>\n",
       "    </tr>\n",
       "    <tr>\n",
       "      <th>1</th>\n",
       "      <td>are parp inhibitors used for patients with lei...</td>\n",
       "      <td>Sarcoma</td>\n",
       "      <td>['leiomyosarcoma']</td>\n",
       "      <td>['dna', 'parp']</td>\n",
       "      <td>test</td>\n",
       "      <td>[]</td>\n",
       "    </tr>\n",
       "    <tr>\n",
       "      <th>2</th>\n",
       "      <td>are alk inhibitors approved for use in tfcp2 f...</td>\n",
       "      <td>Sarcoma</td>\n",
       "      <td>['rhabdomyosarcoma']</td>\n",
       "      <td>['alk', 'tfcp2']</td>\n",
       "      <td>validation</td>\n",
       "      <td>[]</td>\n",
       "    </tr>\n",
       "    <tr>\n",
       "      <th>3</th>\n",
       "      <td>for a patient with cancer metastatic prostate ...</td>\n",
       "      <td>GU</td>\n",
       "      <td>['prostate cancer', 'cancer']</td>\n",
       "      <td>['brca2']</td>\n",
       "      <td>test</td>\n",
       "      <td>[{abiraterone acetate, niraparib, prednisolone...</td>\n",
       "    </tr>\n",
       "    <tr>\n",
       "      <th>4</th>\n",
       "      <td>for a patient with her2+ breast cancer after n...</td>\n",
       "      <td>Breast</td>\n",
       "      <td>['breast cancer', 'disease']</td>\n",
       "      <td>['her2']</td>\n",
       "      <td>test</td>\n",
       "      <td>[{trastuzumab emtansine}]</td>\n",
       "    </tr>\n",
       "  </tbody>\n",
       "</table>\n",
       "</div>"
      ],
      "text/plain": [
       "                                              prompt cancer_category  \\\n",
       "0  what is the first-line treatment of metastatic...              GU   \n",
       "1  are parp inhibitors used for patients with lei...         Sarcoma   \n",
       "2  are alk inhibitors approved for use in tfcp2 f...         Sarcoma   \n",
       "3  for a patient with cancer metastatic prostate ...              GU   \n",
       "4  for a patient with her2+ breast cancer after n...          Breast   \n",
       "\n",
       "                              cancer_type         biomarker     dataset  \\\n",
       "0  ['urothelial carcinoma', 'metastatic']         ['fgfr3']        test   \n",
       "1                      ['leiomyosarcoma']   ['dna', 'parp']        test   \n",
       "2                    ['rhabdomyosarcoma']  ['alk', 'tfcp2']  validation   \n",
       "3           ['prostate cancer', 'cancer']         ['brca2']        test   \n",
       "4            ['breast cancer', 'disease']          ['her2']        test   \n",
       "\n",
       "       All_onlabel_groundtruth_therapies_cleaned__v2  \n",
       "0                                    [{erdafitinib}]  \n",
       "1                                                 []  \n",
       "2                                                 []  \n",
       "3  [{abiraterone acetate, niraparib, prednisolone...  \n",
       "4                          [{trastuzumab emtansine}]  "
      ]
     },
     "execution_count": 189,
     "metadata": {},
     "output_type": "execute_result"
    }
   ],
   "source": [
    "real_world_db_entity_mapped.head()"
   ]
  },
  {
   "cell_type": "code",
   "execution_count": null,
   "id": "24b511f8",
   "metadata": {},
   "outputs": [],
   "source": [
    "real_world_db_entity_mapped.to_csv(f\"data/real_world_db/real_world_db__{_VERSION}.csv\")"
   ]
  },
  {
   "cell_type": "code",
   "execution_count": 198,
   "id": "837733d4",
   "metadata": {},
   "outputs": [],
   "source": [
    "real_world_query_therapy_pair_dict= dict(zip(real_world_db_entity_mapped['prompt'], real_world_db_entity_mapped['All_onlabel_groundtruth_therapies_cleaned__v2']))\n",
    "\n",
    "save_object(real_world_query_therapy_pair_dict, f\"data/real_world_db/real_world_query_therapy_pair_dict.pkl\")"
   ]
  }
 ],
 "metadata": {
  "kernelspec": {
   "display_name": "base",
   "language": "python",
   "name": "python3"
  },
  "language_info": {
   "codemirror_mode": {
    "name": "ipython",
    "version": 3
   },
   "file_extension": ".py",
   "mimetype": "text/x-python",
   "name": "python",
   "nbconvert_exporter": "python",
   "pygments_lexer": "ipython3",
   "version": "3.10.14"
  }
 },
 "nbformat": 4,
 "nbformat_minor": 5
}
