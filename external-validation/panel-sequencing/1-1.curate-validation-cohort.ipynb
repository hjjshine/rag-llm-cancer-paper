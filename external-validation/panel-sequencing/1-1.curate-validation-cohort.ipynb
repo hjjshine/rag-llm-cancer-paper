{
 "cells": [
  {
   "cell_type": "code",
   "execution_count": 1,
   "id": "b9473175",
   "metadata": {},
   "outputs": [],
   "source": [
    "import pandas as pd\n",
    "import numpy as np\n",
    "from tqdm import tqdm\n",
    "import os\n",
    "import warnings\n",
    "warnings.filterwarnings('ignore')"
   ]
  },
  {
   "cell_type": "code",
   "execution_count": 2,
   "id": "6449cf1f",
   "metadata": {},
   "outputs": [],
   "source": [
    "from misc.extract_clinical_data import extract_clinical_data_minimum\n",
    "from misc.extract_molecular_data import extract_dna_variants, extract_cna, extract_structural_variants\n",
    "patient_data_path = 'msk_chord_2024/data_clinical_patient.txt'\n",
    "sample_data_path = 'msk_chord_2024/data_clinical_sample.txt'\n",
    "snv_data_path = 'msk_chord_2024/data_mutations.txt'\n",
    "cna_data_path = 'msk_chord_2024/data_cna.txt'\n",
    "sv_data_path = 'msk_chord_2024/data_sv.txt'"
   ]
  },
  {
   "cell_type": "markdown",
   "id": "4eba7995",
   "metadata": {},
   "source": [
    "----"
   ]
  },
  {
   "cell_type": "code",
   "execution_count": 8,
   "id": "0a3b8aaa",
   "metadata": {},
   "outputs": [
    {
     "name": "stdout",
     "output_type": "stream",
     "text": [
      "Number of unique patients receiving targeted therapy post test: 4202\n"
     ]
    }
   ],
   "source": [
    "patient = pd.read_csv('msk_chord_2024/data_clinical_patient.txt', sep='\\t', comment='#')\n",
    "treatment = pd.read_csv('msk_chord_2024/data_timeline_treatment.txt', sep='\\t', comment='#')\n",
    "sample = pd.read_csv('msk_chord_2024/data_clinical_sample.txt', sep='\\t', comment='#')\n",
    "\n",
    "targeted_tx_patients = treatment[\n",
    "    #select patients that have received targeted therapies after msk-impact\n",
    "    (treatment.SUBTYPE == 'Targeted')&(treatment.START_DATE > 0)&\n",
    "    #select patients that have only had one msk-impact test (for the sake of \"gold standard\", we'll think of ways to incorporate later)\n",
    "    (treatment['PATIENT_ID'].isin(sample['PATIENT_ID'].value_counts()[sample['PATIENT_ID'].value_counts() == 1].index))]\n",
    "print(f'Number of unique patients receiving targeted therapy post test: {len(targeted_tx_patients.PATIENT_ID.unique())}')"
   ]
  },
  {
   "cell_type": "code",
   "execution_count": 4,
   "id": "e87c37bf",
   "metadata": {},
   "outputs": [
    {
     "data": {
      "text/plain": [
       "PATIENT_ID\n",
       "P-0000036    1\n",
       "P-0044467    1\n",
       "P-0044824    1\n",
       "P-0044387    1\n",
       "P-0044848    1\n",
       "            ..\n",
       "P-0017422    1\n",
       "P-0017476    1\n",
       "P-0017466    1\n",
       "P-0017438    1\n",
       "P-0009406    1\n",
       "Name: count, Length: 4202, dtype: int64"
      ]
     },
     "execution_count": 4,
     "metadata": {},
     "output_type": "execute_result"
    }
   ],
   "source": [
    "#for now, it seems like we don't need to think about multiple samples per patient\n",
    "sample[sample.PATIENT_ID.isin(targeted_tx_patients.PATIENT_ID.unique())].PATIENT_ID.value_counts()"
   ]
  },
  {
   "cell_type": "code",
   "execution_count": 5,
   "id": "6e2478c7",
   "metadata": {},
   "outputs": [
    {
     "data": {
      "text/html": [
       "<div>\n",
       "<style scoped>\n",
       "    .dataframe tbody tr th:only-of-type {\n",
       "        vertical-align: middle;\n",
       "    }\n",
       "\n",
       "    .dataframe tbody tr th {\n",
       "        vertical-align: top;\n",
       "    }\n",
       "\n",
       "    .dataframe thead th {\n",
       "        text-align: right;\n",
       "    }\n",
       "</style>\n",
       "<table border=\"1\" class=\"dataframe\">\n",
       "  <thead>\n",
       "    <tr style=\"text-align: right;\">\n",
       "      <th></th>\n",
       "      <th>PATIENT_ID</th>\n",
       "      <th>START_DATE</th>\n",
       "      <th>STOP_DATE</th>\n",
       "      <th>EVENT_TYPE</th>\n",
       "      <th>SUBTYPE</th>\n",
       "      <th>AGENT</th>\n",
       "      <th>RX_INVESTIGATIVE</th>\n",
       "      <th>FLAG_OROTOPICAL</th>\n",
       "    </tr>\n",
       "  </thead>\n",
       "  <tbody>\n",
       "    <tr>\n",
       "      <th>30</th>\n",
       "      <td>P-0000036</td>\n",
       "      <td>22</td>\n",
       "      <td>931</td>\n",
       "      <td>Treatment</td>\n",
       "      <td>Targeted</td>\n",
       "      <td>CRIZOTINIB</td>\n",
       "      <td>N</td>\n",
       "      <td>1</td>\n",
       "    </tr>\n",
       "    <tr>\n",
       "      <th>31</th>\n",
       "      <td>P-0000036</td>\n",
       "      <td>931</td>\n",
       "      <td>3512</td>\n",
       "      <td>Treatment</td>\n",
       "      <td>Targeted</td>\n",
       "      <td>CRIZOTINIB</td>\n",
       "      <td>N</td>\n",
       "      <td>1</td>\n",
       "    </tr>\n",
       "    <tr>\n",
       "      <th>48</th>\n",
       "      <td>P-0000058</td>\n",
       "      <td>288</td>\n",
       "      <td>1255</td>\n",
       "      <td>Treatment</td>\n",
       "      <td>Biologic</td>\n",
       "      <td>ADO-TRASTUZUMAB EMTANSINE</td>\n",
       "      <td>N</td>\n",
       "      <td>0</td>\n",
       "    </tr>\n",
       "    <tr>\n",
       "      <th>49</th>\n",
       "      <td>P-0000058</td>\n",
       "      <td>624</td>\n",
       "      <td>708</td>\n",
       "      <td>Treatment</td>\n",
       "      <td>Bone Treatment</td>\n",
       "      <td>ZOLEDRONIC ACID</td>\n",
       "      <td>N</td>\n",
       "      <td>0</td>\n",
       "    </tr>\n",
       "    <tr>\n",
       "      <th>50</th>\n",
       "      <td>P-0000058</td>\n",
       "      <td>799</td>\n",
       "      <td>800</td>\n",
       "      <td>Treatment</td>\n",
       "      <td>Bone Treatment</td>\n",
       "      <td>ZOLEDRONIC ACID</td>\n",
       "      <td>N</td>\n",
       "      <td>0</td>\n",
       "    </tr>\n",
       "  </tbody>\n",
       "</table>\n",
       "</div>"
      ],
      "text/plain": [
       "   PATIENT_ID  START_DATE  STOP_DATE EVENT_TYPE         SUBTYPE  \\\n",
       "30  P-0000036          22        931  Treatment        Targeted   \n",
       "31  P-0000036         931       3512  Treatment        Targeted   \n",
       "48  P-0000058         288       1255  Treatment        Biologic   \n",
       "49  P-0000058         624        708  Treatment  Bone Treatment   \n",
       "50  P-0000058         799        800  Treatment  Bone Treatment   \n",
       "\n",
       "                        AGENT RX_INVESTIGATIVE  FLAG_OROTOPICAL  \n",
       "30                 CRIZOTINIB                N                1  \n",
       "31                 CRIZOTINIB                N                1  \n",
       "48  ADO-TRASTUZUMAB EMTANSINE                N                0  \n",
       "49            ZOLEDRONIC ACID                N                0  \n",
       "50            ZOLEDRONIC ACID                N                0  "
      ]
     },
     "execution_count": 5,
     "metadata": {},
     "output_type": "execute_result"
    }
   ],
   "source": [
    "treatment_filtered = treatment[(treatment.PATIENT_ID.isin(targeted_tx_patients.PATIENT_ID.unique()))&\n",
    "                               (treatment.START_DATE > 0)]\n",
    "treatment_filtered.head()"
   ]
  },
  {
   "cell_type": "code",
   "execution_count": 6,
   "id": "013150d7",
   "metadata": {},
   "outputs": [
    {
     "name": "stderr",
     "output_type": "stream",
     "text": [
      "100%|██████████| 4202/4202 [00:03<00:00, 1066.28it/s]\n"
     ]
    },
    {
     "name": "stdout",
     "output_type": "stream",
     "text": [
      "(4202, 6)\n"
     ]
    },
    {
     "data": {
      "text/html": [
       "<div>\n",
       "<style scoped>\n",
       "    .dataframe tbody tr th:only-of-type {\n",
       "        vertical-align: middle;\n",
       "    }\n",
       "\n",
       "    .dataframe tbody tr th {\n",
       "        vertical-align: top;\n",
       "    }\n",
       "\n",
       "    .dataframe thead th {\n",
       "        text-align: right;\n",
       "    }\n",
       "</style>\n",
       "<table border=\"1\" class=\"dataframe\">\n",
       "  <thead>\n",
       "    <tr style=\"text-align: right;\">\n",
       "      <th></th>\n",
       "      <th>PATIENT_ID</th>\n",
       "      <th>FIRST_LINE_TIMING</th>\n",
       "      <th>FIRST_LINE_TREATMENT</th>\n",
       "      <th>FIRST_LINE_TREATMENT_TYPE</th>\n",
       "      <th>TARGETED_THERAPY_GIVEN</th>\n",
       "      <th>INVESTIGATIONAL_THERAPY_GIVEN</th>\n",
       "    </tr>\n",
       "  </thead>\n",
       "  <tbody>\n",
       "    <tr>\n",
       "      <th>0</th>\n",
       "      <td>P-0000036</td>\n",
       "      <td>22</td>\n",
       "      <td>{CRIZOTINIB}</td>\n",
       "      <td>{Targeted}</td>\n",
       "      <td>True</td>\n",
       "      <td>False</td>\n",
       "    </tr>\n",
       "    <tr>\n",
       "      <th>1</th>\n",
       "      <td>P-0000058</td>\n",
       "      <td>288</td>\n",
       "      <td>{ADO-TRASTUZUMAB EMTANSINE}</td>\n",
       "      <td>{Biologic}</td>\n",
       "      <td>False</td>\n",
       "      <td>False</td>\n",
       "    </tr>\n",
       "    <tr>\n",
       "      <th>2</th>\n",
       "      <td>P-0000066</td>\n",
       "      <td>47</td>\n",
       "      <td>{INVESTIGATIONAL}</td>\n",
       "      <td>{Investigational}</td>\n",
       "      <td>False</td>\n",
       "      <td>True</td>\n",
       "    </tr>\n",
       "    <tr>\n",
       "      <th>3</th>\n",
       "      <td>P-0000093</td>\n",
       "      <td>147</td>\n",
       "      <td>{CAPECITABINE}</td>\n",
       "      <td>{Chemo}</td>\n",
       "      <td>False</td>\n",
       "      <td>False</td>\n",
       "    </tr>\n",
       "    <tr>\n",
       "      <th>4</th>\n",
       "      <td>P-0000098</td>\n",
       "      <td>81</td>\n",
       "      <td>{EXEMESTANE}</td>\n",
       "      <td>{Hormone}</td>\n",
       "      <td>False</td>\n",
       "      <td>False</td>\n",
       "    </tr>\n",
       "  </tbody>\n",
       "</table>\n",
       "</div>"
      ],
      "text/plain": [
       "  PATIENT_ID  FIRST_LINE_TIMING         FIRST_LINE_TREATMENT  \\\n",
       "0  P-0000036                 22                 {CRIZOTINIB}   \n",
       "1  P-0000058                288  {ADO-TRASTUZUMAB EMTANSINE}   \n",
       "2  P-0000066                 47            {INVESTIGATIONAL}   \n",
       "3  P-0000093                147               {CAPECITABINE}   \n",
       "4  P-0000098                 81                 {EXEMESTANE}   \n",
       "\n",
       "  FIRST_LINE_TREATMENT_TYPE  TARGETED_THERAPY_GIVEN  \\\n",
       "0                {Targeted}                    True   \n",
       "1                {Biologic}                   False   \n",
       "2         {Investigational}                   False   \n",
       "3                   {Chemo}                   False   \n",
       "4                 {Hormone}                   False   \n",
       "\n",
       "   INVESTIGATIONAL_THERAPY_GIVEN  \n",
       "0                          False  \n",
       "1                          False  \n",
       "2                           True  \n",
       "3                          False  \n",
       "4                          False  "
      ]
     },
     "execution_count": 6,
     "metadata": {},
     "output_type": "execute_result"
    }
   ],
   "source": [
    "'''\n",
    "we want to \n",
    "1. identify the \"first line treatment(s)\" received after msk-impact was administered.\n",
    "2. if the \"first line treatment(s)\" weren't targeted, filter out for now.\n",
    "3. if the \"first line treatment(s)\" were targeted, keep and save the agent(s) administered first. \n",
    "'''\n",
    "first_line_table = []\n",
    "for patient in tqdm(treatment_filtered.PATIENT_ID.unique()):\n",
    "    patient_treatments = treatment_filtered[treatment_filtered.PATIENT_ID == patient]\n",
    "    first_line_treatment = patient_treatments[patient_treatments.START_DATE == patient_treatments.START_DATE.min()]\n",
    "    agent_type = first_line_treatment.SUBTYPE.unique()\n",
    "    first_line_timing = first_line_treatment.START_DATE.tolist()[0]\n",
    "    first_line_treatment_agent = set(first_line_treatment.AGENT.tolist())\n",
    "    first_line_treatment_type = set(first_line_treatment.SUBTYPE.tolist())\n",
    "    first_line_table.append([patient, first_line_timing, first_line_treatment_agent, first_line_treatment_type])\n",
    "first_line_table = pd.DataFrame(first_line_table, columns=['PATIENT_ID', 'FIRST_LINE_TIMING', 'FIRST_LINE_TREATMENT', 'FIRST_LINE_TREATMENT_TYPE'])\n",
    "first_line_table['TARGETED_THERAPY_GIVEN'] = first_line_table['FIRST_LINE_TREATMENT_TYPE'].apply(lambda x: 'Targeted' in x)\n",
    "first_line_table['INVESTIGATIONAL_THERAPY_GIVEN'] = first_line_table['FIRST_LINE_TREATMENT_TYPE'].apply(lambda x: 'Investigational' in x)\n",
    "os.makedirs('reports/filtered-data', exist_ok=True)\n",
    "first_line_table.to_csv('reports/filtered-data/first_line_treatments_post_msk.csv', index=False)\n",
    "print(first_line_table.shape)\n",
    "first_line_table.head()"
   ]
  },
  {
   "cell_type": "code",
   "execution_count": 7,
   "id": "51751220",
   "metadata": {},
   "outputs": [
    {
     "data": {
      "text/plain": [
       "count    4202.000000\n",
       "mean      159.544741\n",
       "std       285.156167\n",
       "min         1.000000\n",
       "25%        14.000000\n",
       "50%        46.000000\n",
       "75%       172.000000\n",
       "max      2402.000000\n",
       "Name: FIRST_LINE_TIMING, dtype: float64"
      ]
     },
     "execution_count": 7,
     "metadata": {},
     "output_type": "execute_result"
    }
   ],
   "source": [
    "first_line_table.FIRST_LINE_TIMING.describe()\n",
    "#realistically, it's probably reasonable to cut off after 1 year"
   ]
  },
  {
   "cell_type": "code",
   "execution_count": 20,
   "id": "f3fe2d28",
   "metadata": {},
   "outputs": [
    {
     "name": "stdout",
     "output_type": "stream",
     "text": [
      "(3681, 6)\n"
     ]
    },
    {
     "data": {
      "text/html": [
       "<div>\n",
       "<style scoped>\n",
       "    .dataframe tbody tr th:only-of-type {\n",
       "        vertical-align: middle;\n",
       "    }\n",
       "\n",
       "    .dataframe tbody tr th {\n",
       "        vertical-align: top;\n",
       "    }\n",
       "\n",
       "    .dataframe thead th {\n",
       "        text-align: right;\n",
       "    }\n",
       "</style>\n",
       "<table border=\"1\" class=\"dataframe\">\n",
       "  <thead>\n",
       "    <tr style=\"text-align: right;\">\n",
       "      <th></th>\n",
       "      <th>PATIENT_ID</th>\n",
       "      <th>FIRST_LINE_TIMING</th>\n",
       "      <th>FIRST_LINE_TREATMENT</th>\n",
       "      <th>FIRST_LINE_TREATMENT_TYPE</th>\n",
       "      <th>TARGETED_THERAPY_GIVEN</th>\n",
       "      <th>INVESTIGATIONAL_THERAPY_GIVEN</th>\n",
       "    </tr>\n",
       "  </thead>\n",
       "  <tbody>\n",
       "    <tr>\n",
       "      <th>0</th>\n",
       "      <td>P-0000036</td>\n",
       "      <td>22</td>\n",
       "      <td>{CRIZOTINIB}</td>\n",
       "      <td>{Targeted}</td>\n",
       "      <td>True</td>\n",
       "      <td>False</td>\n",
       "    </tr>\n",
       "  </tbody>\n",
       "</table>\n",
       "</div>"
      ],
      "text/plain": [
       "  PATIENT_ID  FIRST_LINE_TIMING FIRST_LINE_TREATMENT  \\\n",
       "0  P-0000036                 22         {CRIZOTINIB}   \n",
       "\n",
       "  FIRST_LINE_TREATMENT_TYPE  TARGETED_THERAPY_GIVEN  \\\n",
       "0                {Targeted}                    True   \n",
       "\n",
       "   INVESTIGATIONAL_THERAPY_GIVEN  \n",
       "0                          False  "
      ]
     },
     "execution_count": 20,
     "metadata": {},
     "output_type": "execute_result"
    }
   ],
   "source": [
    "first_line_table = first_line_table[first_line_table.FIRST_LINE_TIMING <= 365]\n",
    "first_line_table.to_csv('reports/filtered-data/first_line_treatments_post_msk.csv', index=False)\n",
    "print(first_line_table.shape)\n",
    "first_line_table.head(1)"
   ]
  },
  {
   "cell_type": "code",
   "execution_count": 21,
   "id": "279c29a8",
   "metadata": {},
   "outputs": [
    {
     "data": {
      "text/plain": [
       "CANCER_TYPE\n",
       "Non-Small Cell Lung Cancer    1493\n",
       "Breast Cancer                 1470\n",
       "Colorectal Cancer              332\n",
       "Prostate Cancer                224\n",
       "Pancreatic Cancer              162\n",
       "Name: count, dtype: int64"
      ]
     },
     "execution_count": 21,
     "metadata": {},
     "output_type": "execute_result"
    }
   ],
   "source": [
    "sample[sample.PATIENT_ID.isin(first_line_table.PATIENT_ID.unique())].CANCER_TYPE.value_counts()"
   ]
  },
  {
   "cell_type": "code",
   "execution_count": 23,
   "id": "0fda2e9c",
   "metadata": {},
   "outputs": [
    {
     "data": {
      "text/html": [
       "<div>\n",
       "<style scoped>\n",
       "    .dataframe tbody tr th:only-of-type {\n",
       "        vertical-align: middle;\n",
       "    }\n",
       "\n",
       "    .dataframe tbody tr th {\n",
       "        vertical-align: top;\n",
       "    }\n",
       "\n",
       "    .dataframe thead th {\n",
       "        text-align: right;\n",
       "    }\n",
       "</style>\n",
       "<table border=\"1\" class=\"dataframe\">\n",
       "  <thead>\n",
       "    <tr style=\"text-align: right;\">\n",
       "      <th>INVESTIGATIONAL_THERAPY_GIVEN</th>\n",
       "      <th>False</th>\n",
       "      <th>True</th>\n",
       "    </tr>\n",
       "    <tr>\n",
       "      <th>TARGETED_THERAPY_GIVEN</th>\n",
       "      <th></th>\n",
       "      <th></th>\n",
       "    </tr>\n",
       "  </thead>\n",
       "  <tbody>\n",
       "    <tr>\n",
       "      <th>False</th>\n",
       "      <td>1803</td>\n",
       "      <td>316</td>\n",
       "    </tr>\n",
       "    <tr>\n",
       "      <th>True</th>\n",
       "      <td>1518</td>\n",
       "      <td>44</td>\n",
       "    </tr>\n",
       "  </tbody>\n",
       "</table>\n",
       "</div>"
      ],
      "text/plain": [
       "INVESTIGATIONAL_THERAPY_GIVEN  False  True \n",
       "TARGETED_THERAPY_GIVEN                     \n",
       "False                           1803    316\n",
       "True                            1518     44"
      ]
     },
     "execution_count": 23,
     "metadata": {},
     "output_type": "execute_result"
    }
   ],
   "source": [
    "pd.crosstab(first_line_table.TARGETED_THERAPY_GIVEN, first_line_table.INVESTIGATIONAL_THERAPY_GIVEN)"
   ]
  },
  {
   "cell_type": "markdown",
   "id": "eae6cfc3",
   "metadata": {},
   "source": [
    "we might want to remove the patients that were given investigational therapies, because of a lack of information."
   ]
  },
  {
   "cell_type": "code",
   "execution_count": 25,
   "id": "98ee44a6",
   "metadata": {},
   "outputs": [
    {
     "data": {
      "text/plain": [
       "FIRST_LINE_TREATMENT_TYPE\n",
       "{Targeted}                             1249\n",
       "{Chemo}                                 840\n",
       "{Hormone}                               484\n",
       "{Hormone, Targeted}                     233\n",
       "{Biologic, Chemo}                       119\n",
       "{Biologic}                              104\n",
       "{Immuno}                                 84\n",
       "{Bone Treatment}                         84\n",
       "{Immuno, Chemo}                          63\n",
       "{Chemo, Targeted}                        23\n",
       "{Hormone, Chemo}                          6\n",
       "{Biologic, Targeted}                      5\n",
       "{Chemo, Bone Treatment}                   4\n",
       "{Hormone, Bone Treatment}                 3\n",
       "{Hormone, Biologic}                       3\n",
       "{Chemo, Biologic, Immuno}                 2\n",
       "{Biologic, Chemo, Targeted}               2\n",
       "{Hormone, Bone Treatment, Targeted}       2\n",
       "{Bone Treatment, Targeted}                2\n",
       "{Biologic, Chemo, Bone Treatment}         2\n",
       "{Immuno, Bone Treatment}                  1\n",
       "{Hormone, Biologic, Chemo}                1\n",
       "{Other}                                   1\n",
       "{Other, Hormone}                          1\n",
       "{Hormone, Immuno, Targeted}               1\n",
       "{Biologic, Bone Treatment}                1\n",
       "{Immuno, Chemo, Targeted}                 1\n",
       "Name: count, dtype: int64"
      ]
     },
     "execution_count": 25,
     "metadata": {},
     "output_type": "execute_result"
    }
   ],
   "source": [
    "first_line_table[first_line_table.INVESTIGATIONAL_THERAPY_GIVEN == False]['FIRST_LINE_TREATMENT_TYPE'].value_counts()"
   ]
  },
  {
   "cell_type": "code",
   "execution_count": 26,
   "id": "c6af86ad",
   "metadata": {},
   "outputs": [
    {
     "data": {
      "text/plain": [
       "CANCER_TYPE\n",
       "Breast Cancer                 1343\n",
       "Non-Small Cell Lung Cancer    1320\n",
       "Colorectal Cancer              321\n",
       "Prostate Cancer                198\n",
       "Pancreatic Cancer              139\n",
       "Name: count, dtype: int64"
      ]
     },
     "execution_count": 26,
     "metadata": {},
     "output_type": "execute_result"
    }
   ],
   "source": [
    "sample[sample.PATIENT_ID.isin(first_line_table[first_line_table.INVESTIGATIONAL_THERAPY_GIVEN == False].PATIENT_ID.unique())].CANCER_TYPE.value_counts()"
   ]
  },
  {
   "cell_type": "code",
   "execution_count": null,
   "id": "391aaa92",
   "metadata": {},
   "outputs": [],
   "source": []
  }
 ],
 "metadata": {
  "kernelspec": {
   "display_name": "Python 3",
   "language": "python",
   "name": "python3"
  },
  "language_info": {
   "codemirror_mode": {
    "name": "ipython",
    "version": 3
   },
   "file_extension": ".py",
   "mimetype": "text/x-python",
   "name": "python",
   "nbconvert_exporter": "python",
   "pygments_lexer": "ipython3",
   "version": "3.10.11"
  }
 },
 "nbformat": 4,
 "nbformat_minor": 5
}
