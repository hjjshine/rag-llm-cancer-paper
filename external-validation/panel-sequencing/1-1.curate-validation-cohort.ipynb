{
 "cells": [
  {
   "cell_type": "code",
   "execution_count": 24,
   "id": "b9473175",
   "metadata": {},
   "outputs": [],
   "source": [
    "import pandas as pd\n",
    "import numpy as np\n",
    "from tqdm import tqdm\n",
    "import os\n",
    "import warnings\n",
    "warnings.filterwarnings('ignore')"
   ]
  },
  {
   "cell_type": "code",
   "execution_count": 25,
   "id": "6449cf1f",
   "metadata": {},
   "outputs": [],
   "source": [
    "from misc.extract_clinical_data import extract_clinical_data_minimum\n",
    "from misc.extract_molecular_data import extract_dna_variants, extract_cna, extract_structural_variants\n",
    "patient_data_path = 'msk_chord_2024/data_clinical_patient.txt'\n",
    "sample_data_path = 'msk_chord_2024/data_clinical_sample.txt'\n",
    "snv_data_path = 'msk_chord_2024/data_mutations.txt'\n",
    "cna_data_path = 'msk_chord_2024/data_cna.txt'\n",
    "sv_data_path = 'msk_chord_2024/data_sv.txt'"
   ]
  },
  {
   "cell_type": "markdown",
   "id": "8d38ffd7",
   "metadata": {},
   "source": [
    "----\n",
    "#### rough overview of report content\n",
    "- basic patient and sample info\n",
    "    - patient id, age, gender, birth date, \n",
    "    - test performed, test description, accession number, sample collection date, path diagnosis, % of tumor cells in sample\n",
    "- sequencing quality\n",
    "    - number of total reads, mean reads per taargeted exon, X% of exons with >30 reads\n",
    "- dna variants\n",
    "    - tiered list (tier 1-4) of \n",
    "        - `gene cHGV (pHGV) exon % of reads, total reads`\n",
    "        - eg. TP53 c.613T_>C (p.Y205H), exon 2 - in 50% of 73 reads**\n",
    "    - negative for mutations in genes with clinical relevance for tumor type\n",
    "- copy number variation\n",
    "    - list of `location gene copy number type`\n",
    "    - eg. 1p12 NOTCH2   Low copy number gain\n",
    "- chromosomal rearrangement\n",
    "\n",
    "----"
   ]
  },
  {
   "cell_type": "code",
   "execution_count": 26,
   "id": "0a3b8aaa",
   "metadata": {},
   "outputs": [
    {
     "name": "stdout",
     "output_type": "stream",
     "text": [
      "Number of unique patients receiving targeted therapy post test: 4202\n"
     ]
    }
   ],
   "source": [
    "patient = pd.read_csv('msk_chord_2024/data_clinical_patient.txt', sep='\\t', comment='#')\n",
    "treatment = pd.read_csv('msk_chord_2024/data_timeline_treatment.txt', sep='\\t', comment='#')\n",
    "sample = pd.read_csv('msk_chord_2024/data_clinical_sample.txt', sep='\\t', comment='#')\n",
    "\n",
    "targeted_tx_patients = treatment[\n",
    "    #select patients that have received targeted therapies after msk-impact\n",
    "    (treatment.SUBTYPE == 'Targeted')&(treatment.START_DATE > 0)&\n",
    "    #select patients that have only had one msk-impact test (for the sake of \"gold standard\", we'll think of ways to incorporate later)\n",
    "    (treatment['PATIENT_ID'].isin(sample['PATIENT_ID'].value_counts()[sample['PATIENT_ID'].value_counts() == 1].index))]\n",
    "print(f'Number of unique patients receiving targeted therapy post test: {len(targeted_tx_patients.PATIENT_ID.unique())}')"
   ]
  },
  {
   "cell_type": "code",
   "execution_count": 27,
   "id": "e87c37bf",
   "metadata": {},
   "outputs": [
    {
     "data": {
      "text/plain": [
       "PATIENT_ID\n",
       "P-0000036    1\n",
       "P-0044467    1\n",
       "P-0044824    1\n",
       "P-0044387    1\n",
       "P-0044848    1\n",
       "            ..\n",
       "P-0017422    1\n",
       "P-0017476    1\n",
       "P-0017466    1\n",
       "P-0017438    1\n",
       "P-0009406    1\n",
       "Name: count, Length: 4202, dtype: int64"
      ]
     },
     "execution_count": 27,
     "metadata": {},
     "output_type": "execute_result"
    }
   ],
   "source": [
    "#for now, it seems like we don't need to think about multiple samples per patient\n",
    "sample[sample.PATIENT_ID.isin(targeted_tx_patients.PATIENT_ID.unique())].PATIENT_ID.value_counts()"
   ]
  },
  {
   "cell_type": "code",
   "execution_count": 28,
   "id": "6e2478c7",
   "metadata": {},
   "outputs": [
    {
     "data": {
      "text/html": [
       "<div>\n",
       "<style scoped>\n",
       "    .dataframe tbody tr th:only-of-type {\n",
       "        vertical-align: middle;\n",
       "    }\n",
       "\n",
       "    .dataframe tbody tr th {\n",
       "        vertical-align: top;\n",
       "    }\n",
       "\n",
       "    .dataframe thead th {\n",
       "        text-align: right;\n",
       "    }\n",
       "</style>\n",
       "<table border=\"1\" class=\"dataframe\">\n",
       "  <thead>\n",
       "    <tr style=\"text-align: right;\">\n",
       "      <th></th>\n",
       "      <th>PATIENT_ID</th>\n",
       "      <th>START_DATE</th>\n",
       "      <th>STOP_DATE</th>\n",
       "      <th>EVENT_TYPE</th>\n",
       "      <th>SUBTYPE</th>\n",
       "      <th>AGENT</th>\n",
       "      <th>RX_INVESTIGATIVE</th>\n",
       "      <th>FLAG_OROTOPICAL</th>\n",
       "    </tr>\n",
       "  </thead>\n",
       "  <tbody>\n",
       "    <tr>\n",
       "      <th>30</th>\n",
       "      <td>P-0000036</td>\n",
       "      <td>22</td>\n",
       "      <td>931</td>\n",
       "      <td>Treatment</td>\n",
       "      <td>Targeted</td>\n",
       "      <td>CRIZOTINIB</td>\n",
       "      <td>N</td>\n",
       "      <td>1</td>\n",
       "    </tr>\n",
       "    <tr>\n",
       "      <th>31</th>\n",
       "      <td>P-0000036</td>\n",
       "      <td>931</td>\n",
       "      <td>3512</td>\n",
       "      <td>Treatment</td>\n",
       "      <td>Targeted</td>\n",
       "      <td>CRIZOTINIB</td>\n",
       "      <td>N</td>\n",
       "      <td>1</td>\n",
       "    </tr>\n",
       "    <tr>\n",
       "      <th>48</th>\n",
       "      <td>P-0000058</td>\n",
       "      <td>288</td>\n",
       "      <td>1255</td>\n",
       "      <td>Treatment</td>\n",
       "      <td>Biologic</td>\n",
       "      <td>ADO-TRASTUZUMAB EMTANSINE</td>\n",
       "      <td>N</td>\n",
       "      <td>0</td>\n",
       "    </tr>\n",
       "    <tr>\n",
       "      <th>49</th>\n",
       "      <td>P-0000058</td>\n",
       "      <td>624</td>\n",
       "      <td>708</td>\n",
       "      <td>Treatment</td>\n",
       "      <td>Bone Treatment</td>\n",
       "      <td>ZOLEDRONIC ACID</td>\n",
       "      <td>N</td>\n",
       "      <td>0</td>\n",
       "    </tr>\n",
       "    <tr>\n",
       "      <th>50</th>\n",
       "      <td>P-0000058</td>\n",
       "      <td>799</td>\n",
       "      <td>800</td>\n",
       "      <td>Treatment</td>\n",
       "      <td>Bone Treatment</td>\n",
       "      <td>ZOLEDRONIC ACID</td>\n",
       "      <td>N</td>\n",
       "      <td>0</td>\n",
       "    </tr>\n",
       "  </tbody>\n",
       "</table>\n",
       "</div>"
      ],
      "text/plain": [
       "   PATIENT_ID  START_DATE  STOP_DATE EVENT_TYPE         SUBTYPE  \\\n",
       "30  P-0000036          22        931  Treatment        Targeted   \n",
       "31  P-0000036         931       3512  Treatment        Targeted   \n",
       "48  P-0000058         288       1255  Treatment        Biologic   \n",
       "49  P-0000058         624        708  Treatment  Bone Treatment   \n",
       "50  P-0000058         799        800  Treatment  Bone Treatment   \n",
       "\n",
       "                        AGENT RX_INVESTIGATIVE  FLAG_OROTOPICAL  \n",
       "30                 CRIZOTINIB                N                1  \n",
       "31                 CRIZOTINIB                N                1  \n",
       "48  ADO-TRASTUZUMAB EMTANSINE                N                0  \n",
       "49            ZOLEDRONIC ACID                N                0  \n",
       "50            ZOLEDRONIC ACID                N                0  "
      ]
     },
     "execution_count": 28,
     "metadata": {},
     "output_type": "execute_result"
    }
   ],
   "source": [
    "treatment_filtered = treatment[(treatment.PATIENT_ID.isin(targeted_tx_patients.PATIENT_ID.unique()))&\n",
    "                               (treatment.START_DATE > 0)]\n",
    "treatment_filtered.head()"
   ]
  },
  {
   "cell_type": "code",
   "execution_count": null,
   "id": "013150d7",
   "metadata": {},
   "outputs": [
    {
     "name": "stderr",
     "output_type": "stream",
     "text": [
      "100%|██████████| 4202/4202 [00:03<00:00, 1082.13it/s]"
     ]
    },
    {
     "name": "stdout",
     "output_type": "stream",
     "text": [
      "(1853, 3)\n"
     ]
    },
    {
     "name": "stderr",
     "output_type": "stream",
     "text": [
      "\n"
     ]
    },
    {
     "data": {
      "text/html": [
       "<div>\n",
       "<style scoped>\n",
       "    .dataframe tbody tr th:only-of-type {\n",
       "        vertical-align: middle;\n",
       "    }\n",
       "\n",
       "    .dataframe tbody tr th {\n",
       "        vertical-align: top;\n",
       "    }\n",
       "\n",
       "    .dataframe thead th {\n",
       "        text-align: right;\n",
       "    }\n",
       "</style>\n",
       "<table border=\"1\" class=\"dataframe\">\n",
       "  <thead>\n",
       "    <tr style=\"text-align: right;\">\n",
       "      <th></th>\n",
       "      <th>PATIENT_ID</th>\n",
       "      <th>FIRST_LINE_TIMING</th>\n",
       "      <th>FIRST_LINE_TREATMENT</th>\n",
       "    </tr>\n",
       "  </thead>\n",
       "  <tbody>\n",
       "    <tr>\n",
       "      <th>0</th>\n",
       "      <td>P-0000036</td>\n",
       "      <td>22</td>\n",
       "      <td>[CRIZOTINIB]</td>\n",
       "    </tr>\n",
       "    <tr>\n",
       "      <th>1</th>\n",
       "      <td>P-0000242</td>\n",
       "      <td>98</td>\n",
       "      <td>[EVEROLIMUS, EXEMESTANE]</td>\n",
       "    </tr>\n",
       "    <tr>\n",
       "      <th>2</th>\n",
       "      <td>P-0000280</td>\n",
       "      <td>125</td>\n",
       "      <td>[ERLOTINIB]</td>\n",
       "    </tr>\n",
       "    <tr>\n",
       "      <th>3</th>\n",
       "      <td>P-0000288</td>\n",
       "      <td>6</td>\n",
       "      <td>[EVEROLIMUS, EXEMESTANE]</td>\n",
       "    </tr>\n",
       "    <tr>\n",
       "      <th>4</th>\n",
       "      <td>P-0000301</td>\n",
       "      <td>73</td>\n",
       "      <td>[ERLOTINIB]</td>\n",
       "    </tr>\n",
       "  </tbody>\n",
       "</table>\n",
       "</div>"
      ],
      "text/plain": [
       "  PATIENT_ID  FIRST_LINE_TIMING      FIRST_LINE_TREATMENT\n",
       "0  P-0000036                 22              [CRIZOTINIB]\n",
       "1  P-0000242                 98  [EVEROLIMUS, EXEMESTANE]\n",
       "2  P-0000280                125               [ERLOTINIB]\n",
       "3  P-0000288                  6  [EVEROLIMUS, EXEMESTANE]\n",
       "4  P-0000301                 73               [ERLOTINIB]"
      ]
     },
     "execution_count": 31,
     "metadata": {},
     "output_type": "execute_result"
    }
   ],
   "source": [
    "'''\n",
    "we want to \n",
    "1. identify the \"first line treatment(s)\" received after msk-impact was administered.\n",
    "2. if the \"first line treatment(s)\" weren't targeted, filter out for now.\n",
    "3. if the \"first line treatment(s)\" were targeted, keep and save the agent(s) administered first. \n",
    "'''\n",
    "first_line_table = []\n",
    "for patient in tqdm(treatment_filtered.PATIENT_ID.unique()):\n",
    "    patient_treatments = treatment_filtered[treatment_filtered.PATIENT_ID == patient]\n",
    "    first_line_treatment = patient_treatments[patient_treatments.START_DATE == patient_treatments.START_DATE.min()]\n",
    "    agent_type = first_line_treatment.SUBTYPE.unique()\n",
    "    if 'Targeted' in agent_type:\n",
    "        first_line_timing = first_line_treatment.START_DATE.tolist()[0]\n",
    "        first_line_treatment = first_line_treatment.AGENT.tolist()\n",
    "        first_line_table.append([patient, first_line_timing, first_line_treatment])\n",
    "first_line_table = pd.DataFrame(first_line_table, columns=['PATIENT_ID', 'FIRST_LINE_TIMING', 'FIRST_LINE_TREATMENT'])\n",
    "os.makedirs('reports/filtered-data', exist_ok=True)\n",
    "first_line_table.to_csv('reports/filtered-data/first_line_treatments_post_msk.csv', index=False)\n",
    "print(first_line_table.shape)\n",
    "first_line_table.head()"
   ]
  },
  {
   "cell_type": "code",
   "execution_count": null,
   "id": "51751220",
   "metadata": {},
   "outputs": [
    {
     "data": {
      "text/plain": [
       "count    1853.000000\n",
       "mean      193.860766\n",
       "std       336.460754\n",
       "min         1.000000\n",
       "25%        15.000000\n",
       "50%        55.000000\n",
       "75%       206.000000\n",
       "max      2402.000000\n",
       "Name: FIRST_LINE_TIMING, dtype: float64"
      ]
     },
     "execution_count": 38,
     "metadata": {},
     "output_type": "execute_result"
    }
   ],
   "source": [
    "first_line_table.FIRST_LINE_TIMING.describe()\n",
    "#realistically, it's probably reasonable to cut off after 1 year"
   ]
  },
  {
   "cell_type": "code",
   "execution_count": 41,
   "id": "f3fe2d28",
   "metadata": {},
   "outputs": [
    {
     "name": "stdout",
     "output_type": "stream",
     "text": [
      "(1562, 3)\n"
     ]
    },
    {
     "data": {
      "text/html": [
       "<div>\n",
       "<style scoped>\n",
       "    .dataframe tbody tr th:only-of-type {\n",
       "        vertical-align: middle;\n",
       "    }\n",
       "\n",
       "    .dataframe tbody tr th {\n",
       "        vertical-align: top;\n",
       "    }\n",
       "\n",
       "    .dataframe thead th {\n",
       "        text-align: right;\n",
       "    }\n",
       "</style>\n",
       "<table border=\"1\" class=\"dataframe\">\n",
       "  <thead>\n",
       "    <tr style=\"text-align: right;\">\n",
       "      <th></th>\n",
       "      <th>PATIENT_ID</th>\n",
       "      <th>FIRST_LINE_TIMING</th>\n",
       "      <th>FIRST_LINE_TREATMENT</th>\n",
       "    </tr>\n",
       "  </thead>\n",
       "  <tbody>\n",
       "    <tr>\n",
       "      <th>0</th>\n",
       "      <td>P-0000036</td>\n",
       "      <td>22</td>\n",
       "      <td>[CRIZOTINIB]</td>\n",
       "    </tr>\n",
       "  </tbody>\n",
       "</table>\n",
       "</div>"
      ],
      "text/plain": [
       "  PATIENT_ID  FIRST_LINE_TIMING FIRST_LINE_TREATMENT\n",
       "0  P-0000036                 22         [CRIZOTINIB]"
      ]
     },
     "execution_count": 41,
     "metadata": {},
     "output_type": "execute_result"
    }
   ],
   "source": [
    "first_line_table = first_line_table[first_line_table.FIRST_LINE_TIMING <= 365]\n",
    "first_line_table.to_csv('reports/filtered-data/first_line_treatments_post_msk.csv', index=False)\n",
    "print(first_line_table.shape)\n",
    "first_line_table.head(1)"
   ]
  },
  {
   "cell_type": "code",
   "execution_count": 42,
   "id": "279c29a8",
   "metadata": {},
   "outputs": [
    {
     "data": {
      "text/plain": [
       "CANCER_TYPE\n",
       "Non-Small Cell Lung Cancer    811\n",
       "Breast Cancer                 607\n",
       "Colorectal Cancer              63\n",
       "Pancreatic Cancer              48\n",
       "Prostate Cancer                33\n",
       "Name: count, dtype: int64"
      ]
     },
     "execution_count": 42,
     "metadata": {},
     "output_type": "execute_result"
    }
   ],
   "source": [
    "sample[sample.PATIENT_ID.isin(first_line_table.PATIENT_ID.unique())].CANCER_TYPE.value_counts()"
   ]
  },
  {
   "cell_type": "code",
   "execution_count": 50,
   "id": "98ee44a6",
   "metadata": {},
   "outputs": [
    {
     "data": {
      "text/html": [
       "<div>\n",
       "<style scoped>\n",
       "    .dataframe tbody tr th:only-of-type {\n",
       "        vertical-align: middle;\n",
       "    }\n",
       "\n",
       "    .dataframe tbody tr th {\n",
       "        vertical-align: top;\n",
       "    }\n",
       "\n",
       "    .dataframe thead th {\n",
       "        text-align: right;\n",
       "    }\n",
       "</style>\n",
       "<table border=\"1\" class=\"dataframe\">\n",
       "  <thead>\n",
       "    <tr style=\"text-align: right;\">\n",
       "      <th></th>\n",
       "      <th>PATIENT_ID</th>\n",
       "      <th>FIRST_LINE_TIMING</th>\n",
       "      <th>FIRST_LINE_TREATMENT</th>\n",
       "    </tr>\n",
       "  </thead>\n",
       "  <tbody>\n",
       "    <tr>\n",
       "      <th>0</th>\n",
       "      <td>P-0000036</td>\n",
       "      <td>22</td>\n",
       "      <td>[CRIZOTINIB]</td>\n",
       "    </tr>\n",
       "    <tr>\n",
       "      <th>1</th>\n",
       "      <td>P-0000242</td>\n",
       "      <td>98</td>\n",
       "      <td>[EVEROLIMUS, EXEMESTANE]</td>\n",
       "    </tr>\n",
       "    <tr>\n",
       "      <th>2</th>\n",
       "      <td>P-0000280</td>\n",
       "      <td>125</td>\n",
       "      <td>[ERLOTINIB]</td>\n",
       "    </tr>\n",
       "    <tr>\n",
       "      <th>3</th>\n",
       "      <td>P-0000288</td>\n",
       "      <td>6</td>\n",
       "      <td>[EVEROLIMUS, EXEMESTANE]</td>\n",
       "    </tr>\n",
       "    <tr>\n",
       "      <th>4</th>\n",
       "      <td>P-0000301</td>\n",
       "      <td>73</td>\n",
       "      <td>[ERLOTINIB]</td>\n",
       "    </tr>\n",
       "    <tr>\n",
       "      <th>...</th>\n",
       "      <td>...</td>\n",
       "      <td>...</td>\n",
       "      <td>...</td>\n",
       "    </tr>\n",
       "    <tr>\n",
       "      <th>1848</th>\n",
       "      <td>P-0088691</td>\n",
       "      <td>244</td>\n",
       "      <td>[ABEMACICLIB, ANASTROZOLE]</td>\n",
       "    </tr>\n",
       "    <tr>\n",
       "      <th>1849</th>\n",
       "      <td>P-0088753</td>\n",
       "      <td>5</td>\n",
       "      <td>[OSIMERTINIB]</td>\n",
       "    </tr>\n",
       "    <tr>\n",
       "      <th>1850</th>\n",
       "      <td>P-0088892</td>\n",
       "      <td>29</td>\n",
       "      <td>[ABEMACICLIB]</td>\n",
       "    </tr>\n",
       "    <tr>\n",
       "      <th>1851</th>\n",
       "      <td>P-0089490</td>\n",
       "      <td>22</td>\n",
       "      <td>[OSIMERTINIB]</td>\n",
       "    </tr>\n",
       "    <tr>\n",
       "      <th>1852</th>\n",
       "      <td>P-0089505</td>\n",
       "      <td>86</td>\n",
       "      <td>[RIBOCICLIB]</td>\n",
       "    </tr>\n",
       "  </tbody>\n",
       "</table>\n",
       "<p>1562 rows × 3 columns</p>\n",
       "</div>"
      ],
      "text/plain": [
       "     PATIENT_ID  FIRST_LINE_TIMING        FIRST_LINE_TREATMENT\n",
       "0     P-0000036                 22                [CRIZOTINIB]\n",
       "1     P-0000242                 98    [EVEROLIMUS, EXEMESTANE]\n",
       "2     P-0000280                125                 [ERLOTINIB]\n",
       "3     P-0000288                  6    [EVEROLIMUS, EXEMESTANE]\n",
       "4     P-0000301                 73                 [ERLOTINIB]\n",
       "...         ...                ...                         ...\n",
       "1848  P-0088691                244  [ABEMACICLIB, ANASTROZOLE]\n",
       "1849  P-0088753                  5               [OSIMERTINIB]\n",
       "1850  P-0088892                 29               [ABEMACICLIB]\n",
       "1851  P-0089490                 22               [OSIMERTINIB]\n",
       "1852  P-0089505                 86                [RIBOCICLIB]\n",
       "\n",
       "[1562 rows x 3 columns]"
      ]
     },
     "execution_count": 50,
     "metadata": {},
     "output_type": "execute_result"
    }
   ],
   "source": [
    "first_line_table"
   ]
  },
  {
   "cell_type": "code",
   "execution_count": null,
   "id": "c6af86ad",
   "metadata": {},
   "outputs": [],
   "source": []
  }
 ],
 "metadata": {
  "kernelspec": {
   "display_name": "Python 3",
   "language": "python",
   "name": "python3"
  },
  "language_info": {
   "codemirror_mode": {
    "name": "ipython",
    "version": 3
   },
   "file_extension": ".py",
   "mimetype": "text/x-python",
   "name": "python",
   "nbconvert_exporter": "python",
   "pygments_lexer": "ipython3",
   "version": "3.10.11"
  }
 },
 "nbformat": 4,
 "nbformat_minor": 5
}
