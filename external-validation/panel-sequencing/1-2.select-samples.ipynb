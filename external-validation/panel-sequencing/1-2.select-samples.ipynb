{
 "cells": [
  {
   "cell_type": "code",
   "execution_count": 9,
   "id": "07d8b037",
   "metadata": {},
   "outputs": [],
   "source": [
    "import pandas as pd\n",
    "import numpy as np\n",
    "import os\n",
    "import ast\n",
    "import warnings\n",
    "warnings.filterwarnings('ignore')"
   ]
  },
  {
   "cell_type": "code",
   "execution_count": 10,
   "id": "c618401e",
   "metadata": {},
   "outputs": [],
   "source": [
    "patient_data_path = 'msk_chord_2024/data_clinical_patient.txt'\n",
    "sample_data_path = 'msk_chord_2024/data_clinical_sample.txt'\n",
    "snv_data_path = 'msk_chord_2024/data_mutations.txt'\n",
    "cna_data_path = 'msk_chord_2024/data_cna.txt'\n",
    "sv_data_path = 'msk_chord_2024/data_sv.txt'"
   ]
  },
  {
   "cell_type": "code",
   "execution_count": 14,
   "id": "5ce6c80b",
   "metadata": {},
   "outputs": [],
   "source": [
    "patient = pd.read_csv('msk_chord_2024/data_clinical_patient.txt', sep='\\t', comment='#')\n",
    "treatment = pd.read_csv('msk_chord_2024/data_timeline_treatment.txt', sep='\\t', comment='#')\n",
    "sample = pd.read_csv('msk_chord_2024/data_clinical_sample.txt', sep='\\t', comment='#')"
   ]
  },
  {
   "cell_type": "markdown",
   "id": "078a3b1a",
   "metadata": {},
   "source": [
    "---\n",
    "aim : select X of the most clinically / genomically \"diverse\" samples from the patients selected in 1-1. \\\n",
    "reason : to alleviate the cost of this validation. we assume that a substantial portion of these patients present with relatively \"similar\" clinical / genomic phenotypes, in terms of treatments/genomic variants detected/clinical history."
   ]
  },
  {
   "cell_type": "code",
   "execution_count": 39,
   "id": "14be33a3",
   "metadata": {},
   "outputs": [
    {
     "data": {
      "text/html": [
       "<div>\n",
       "<style scoped>\n",
       "    .dataframe tbody tr th:only-of-type {\n",
       "        vertical-align: middle;\n",
       "    }\n",
       "\n",
       "    .dataframe tbody tr th {\n",
       "        vertical-align: top;\n",
       "    }\n",
       "\n",
       "    .dataframe thead th {\n",
       "        text-align: right;\n",
       "    }\n",
       "</style>\n",
       "<table border=\"1\" class=\"dataframe\">\n",
       "  <thead>\n",
       "    <tr style=\"text-align: right;\">\n",
       "      <th></th>\n",
       "      <th>PATIENT_ID</th>\n",
       "      <th>FIRST_LINE_TIMING</th>\n",
       "      <th>FIRST_LINE_TREATMENT</th>\n",
       "      <th>FIRST_LINE_TREATMENT_TYPE</th>\n",
       "      <th>TARGETED_THERAPY_GIVEN</th>\n",
       "      <th>INVESTIGATIONAL_THERAPY_GIVEN</th>\n",
       "      <th>CANCER_TYPE</th>\n",
       "      <th>TREATMENT_NUM</th>\n",
       "    </tr>\n",
       "  </thead>\n",
       "  <tbody>\n",
       "    <tr>\n",
       "      <th>0</th>\n",
       "      <td>P-0000036</td>\n",
       "      <td>22</td>\n",
       "      <td>{CRIZOTINIB}</td>\n",
       "      <td>{Targeted}</td>\n",
       "      <td>True</td>\n",
       "      <td>False</td>\n",
       "      <td>Non-Small Cell Lung Cancer</td>\n",
       "      <td>1</td>\n",
       "    </tr>\n",
       "  </tbody>\n",
       "</table>\n",
       "</div>"
      ],
      "text/plain": [
       "  PATIENT_ID  FIRST_LINE_TIMING FIRST_LINE_TREATMENT  \\\n",
       "0  P-0000036                 22         {CRIZOTINIB}   \n",
       "\n",
       "  FIRST_LINE_TREATMENT_TYPE  TARGETED_THERAPY_GIVEN  \\\n",
       "0                {Targeted}                    True   \n",
       "\n",
       "   INVESTIGATIONAL_THERAPY_GIVEN                 CANCER_TYPE  TREATMENT_NUM  \n",
       "0                          False  Non-Small Cell Lung Cancer              1  "
      ]
     },
     "execution_count": 39,
     "metadata": {},
     "output_type": "execute_result"
    }
   ],
   "source": [
    "cohort = pd.read_csv('reports/filtered-data/first_line_treatments_post_msk.csv')\n",
    "cohort['FIRST_LINE_TREATMENT'] = cohort['FIRST_LINE_TREATMENT'].apply(lambda x: ast.literal_eval(x))\n",
    "cohort['FIRST_LINE_TREATMENT_TYPE'] = cohort['FIRST_LINE_TREATMENT_TYPE'].apply(lambda x: ast.literal_eval(x))\n",
    "#filter out investigational first-line patients\n",
    "cohort = cohort[cohort.INVESTIGATIONAL_THERAPY_GIVEN == False]\n",
    "#select for cancer type\n",
    "cancer_type = dict(zip(sample.PATIENT_ID, sample.CANCER_TYPE))\n",
    "cohort['CANCER_TYPE'] = cohort.PATIENT_ID.map(cancer_type)\n",
    "#select for single / multi therapy\n",
    "cohort['TREATMENT_NUM'] = cohort.FIRST_LINE_TREATMENT.apply(lambda x: len(list(x)))\n",
    "cohort.head(1)"
   ]
  },
  {
   "cell_type": "code",
   "execution_count": 31,
   "id": "7d4239b5",
   "metadata": {},
   "outputs": [
    {
     "data": {
      "text/html": [
       "<div>\n",
       "<style scoped>\n",
       "    .dataframe tbody tr th:only-of-type {\n",
       "        vertical-align: middle;\n",
       "    }\n",
       "\n",
       "    .dataframe tbody tr th {\n",
       "        vertical-align: top;\n",
       "    }\n",
       "\n",
       "    .dataframe thead th {\n",
       "        text-align: right;\n",
       "    }\n",
       "</style>\n",
       "<table border=\"1\" class=\"dataframe\">\n",
       "  <thead>\n",
       "    <tr style=\"text-align: right;\">\n",
       "      <th>TARGETED_THERAPY_GIVEN</th>\n",
       "      <th>False</th>\n",
       "      <th>True</th>\n",
       "    </tr>\n",
       "    <tr>\n",
       "      <th>CANCER_TYPE</th>\n",
       "      <th></th>\n",
       "      <th></th>\n",
       "    </tr>\n",
       "  </thead>\n",
       "  <tbody>\n",
       "    <tr>\n",
       "      <th>Breast Cancer</th>\n",
       "      <td>750</td>\n",
       "      <td>593</td>\n",
       "    </tr>\n",
       "    <tr>\n",
       "      <th>Colorectal Cancer</th>\n",
       "      <td>259</td>\n",
       "      <td>62</td>\n",
       "    </tr>\n",
       "    <tr>\n",
       "      <th>Non-Small Cell Lung Cancer</th>\n",
       "      <td>534</td>\n",
       "      <td>786</td>\n",
       "    </tr>\n",
       "    <tr>\n",
       "      <th>Pancreatic Cancer</th>\n",
       "      <td>93</td>\n",
       "      <td>46</td>\n",
       "    </tr>\n",
       "    <tr>\n",
       "      <th>Prostate Cancer</th>\n",
       "      <td>167</td>\n",
       "      <td>31</td>\n",
       "    </tr>\n",
       "  </tbody>\n",
       "</table>\n",
       "</div>"
      ],
      "text/plain": [
       "TARGETED_THERAPY_GIVEN      False  True \n",
       "CANCER_TYPE                             \n",
       "Breast Cancer                 750    593\n",
       "Colorectal Cancer             259     62\n",
       "Non-Small Cell Lung Cancer    534    786\n",
       "Pancreatic Cancer              93     46\n",
       "Prostate Cancer               167     31"
      ]
     },
     "execution_count": 31,
     "metadata": {},
     "output_type": "execute_result"
    }
   ],
   "source": [
    "pd.crosstab(cohort.CANCER_TYPE, cohort.TARGETED_THERAPY_GIVEN)"
   ]
  },
  {
   "cell_type": "code",
   "execution_count": 54,
   "id": "154d6ec7",
   "metadata": {},
   "outputs": [
    {
     "name": "stdout",
     "output_type": "stream",
     "text": [
      "483\n",
      "24\n"
     ]
    }
   ],
   "source": [
    "#first, we stratify by cancer type - treatment combination. we estimate the number of patients to sample from each group.\n",
    "total_patients = 0\n",
    "num_of_randomly_sample_required_treatment_cancer_pairs = 0\n",
    "for cancer_type in cohort.CANCER_TYPE.unique():\n",
    "    df = cohort[(cohort.CANCER_TYPE == cancer_type)&(cohort.TARGETED_THERAPY_GIVEN == True)].FIRST_LINE_TREATMENT.value_counts().reset_index()\n",
    "    many_patients = df[df['count'] >= 10].shape[0] * 10 # we randomly sample 10 from the treatment types with many patients\n",
    "    few_patients = df[df['count'] < 10]['count'].sum() # we take all from the treatment types with few patients\n",
    "    total_patients += many_patients + few_patients\n",
    "    num_of_randomly_sample_required_treatment_cancer_pairs += int(many_patients / 10)\n",
    "print(total_patients)\n",
    "print(num_of_randomly_sample_required_treatment_cancer_pairs)"
   ]
  },
  {
   "cell_type": "code",
   "execution_count": 56,
   "id": "ac836e0b",
   "metadata": {},
   "outputs": [
    {
     "name": "stdout",
     "output_type": "stream",
     "text": [
      "867\n",
      "49\n"
     ]
    }
   ],
   "source": [
    "#first, we stratify by cancer type - treatment combination. we estimate the number of patients to sample from each group.\n",
    "total_patients = 0\n",
    "num_of_randomly_sample_required_treatment_cancer_pairs = 0\n",
    "for cancer_type in cohort.CANCER_TYPE.unique():\n",
    "    df = cohort[(cohort.CANCER_TYPE == cancer_type)&(cohort.TARGETED_THERAPY_GIVEN == False)].FIRST_LINE_TREATMENT.value_counts().reset_index()\n",
    "    many_patients = df[df['count'] >= 10].shape[0] * 10 # we randomly sample 10 from the treatment types with many patients\n",
    "    few_patients = df[df['count'] < 10]['count'].sum() # we take all from the treatment types with few patients\n",
    "    total_patients += many_patients + few_patients\n",
    "    num_of_randomly_sample_required_treatment_cancer_pairs += int(many_patients / 10)\n",
    "print(total_patients)\n",
    "print(num_of_randomly_sample_required_treatment_cancer_pairs)"
   ]
  },
  {
   "cell_type": "code",
   "execution_count": null,
   "id": "24ed8aed",
   "metadata": {},
   "outputs": [],
   "source": []
  }
 ],
 "metadata": {
  "kernelspec": {
   "display_name": "Python 3",
   "language": "python",
   "name": "python3"
  },
  "language_info": {
   "codemirror_mode": {
    "name": "ipython",
    "version": 3
   },
   "file_extension": ".py",
   "mimetype": "text/x-python",
   "name": "python",
   "nbconvert_exporter": "python",
   "pygments_lexer": "ipython3",
   "version": "3.10.11"
  }
 },
 "nbformat": 4,
 "nbformat_minor": 5
}
