{
 "cells": [
  {
   "cell_type": "code",
   "execution_count": 1,
   "id": "776a2198",
   "metadata": {},
   "outputs": [],
   "source": [
    "import pandas as pd\n",
    "import numpy as np"
   ]
  },
  {
   "cell_type": "markdown",
   "id": "484d8641",
   "metadata": {},
   "source": [
    "---"
   ]
  },
  {
   "cell_type": "code",
   "execution_count": 7,
   "id": "ac20f639",
   "metadata": {},
   "outputs": [
    {
     "data": {
      "text/plain": [
       "GENE_PANEL\n",
       "IMPACT468          12891\n",
       "IMPACT505           7155\n",
       "IMPACT410           3973\n",
       "IMPACT341           1019\n",
       "IMPACT-HEME-400        2\n",
       "Name: count, dtype: int64"
      ]
     },
     "execution_count": 7,
     "metadata": {},
     "output_type": "execute_result"
    }
   ],
   "source": [
    "sample = pd.read_csv('msk_chord_2024/data_clinical_sample.txt', sep='\\t', comment='#')\n",
    "sample['GENE_PANEL'].value_counts()"
   ]
  },
  {
   "cell_type": "markdown",
   "id": "5dffa2cd",
   "metadata": {},
   "source": [
    "----"
   ]
  },
  {
   "cell_type": "code",
   "execution_count": 8,
   "id": "9098bde8",
   "metadata": {},
   "outputs": [
    {
     "data": {
      "text/plain": [
       "505"
      ]
     },
     "execution_count": 8,
     "metadata": {},
     "output_type": "execute_result"
    }
   ],
   "source": [
    "gene_list = pd.read_csv('misc-data/cancerGeneList.tsv', sep = '\\t')\n",
    "gene_list[gene_list['MSK-IMPACT'] == 'Yes'].shape[0]"
   ]
  },
  {
   "cell_type": "code",
   "execution_count": 10,
   "id": "35bcd988",
   "metadata": {},
   "outputs": [
    {
     "data": {
      "text/plain": [
       "575"
      ]
     },
     "execution_count": 10,
     "metadata": {},
     "output_type": "execute_result"
    }
   ],
   "source": [
    "gene_list[gene_list['MSK-HEME'] == 'Yes'].shape[0]"
   ]
  },
  {
   "cell_type": "markdown",
   "id": "1f5ed235",
   "metadata": {},
   "source": [
    "this is a 505 gene list, the latest panel. need to find ones that match all panels. "
   ]
  },
  {
   "cell_type": "code",
   "execution_count": null,
   "id": "e1f80bdc",
   "metadata": {},
   "outputs": [],
   "source": []
  }
 ],
 "metadata": {
  "kernelspec": {
   "display_name": "Python 3",
   "language": "python",
   "name": "python3"
  },
  "language_info": {
   "codemirror_mode": {
    "name": "ipython",
    "version": 3
   },
   "file_extension": ".py",
   "mimetype": "text/x-python",
   "name": "python",
   "nbconvert_exporter": "python",
   "pygments_lexer": "ipython3",
   "version": "3.10.11"
  }
 },
 "nbformat": 4,
 "nbformat_minor": 5
}
