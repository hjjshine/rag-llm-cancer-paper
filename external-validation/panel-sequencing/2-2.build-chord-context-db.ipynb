{
 "cells": [
  {
   "cell_type": "code",
   "execution_count": 1,
   "id": "52f953c0",
   "metadata": {},
   "outputs": [],
   "source": [
    "import sys, os, pandas as pd, ast, json\n",
    "from glob import glob\n",
    "import warnings\n",
    "warnings.filterwarnings('ignore')\n"
   ]
  },
  {
   "cell_type": "code",
   "execution_count": 2,
   "id": "a492c550",
   "metadata": {},
   "outputs": [],
   "source": [
    "os.chdir('../..')"
   ]
  },
  {
   "cell_type": "code",
   "execution_count": 1,
   "id": "d797e96c",
   "metadata": {},
   "outputs": [
    {
     "ename": "ModuleNotFoundError",
     "evalue": "No module named 'utils'",
     "output_type": "error",
     "traceback": [
      "\u001b[0;31m---------------------------------------------------------------------------\u001b[0m",
      "\u001b[0;31mModuleNotFoundError\u001b[0m                       Traceback (most recent call last)",
      "Cell \u001b[0;32mIn[1], line 7\u001b[0m\n\u001b[1;32m      4\u001b[0m \u001b[38;5;28;01mfrom\u001b[39;00m\u001b[38;5;250m \u001b[39m\u001b[38;5;21;01mdotenv\u001b[39;00m\u001b[38;5;250m \u001b[39m\u001b[38;5;28;01mimport\u001b[39;00m load_dotenv\n\u001b[1;32m      6\u001b[0m \u001b[38;5;66;03m# ================== UTIL FUNCTIONS ==================\u001b[39;00m\n\u001b[0;32m----> 7\u001b[0m \u001b[38;5;28;01mfrom\u001b[39;00m\u001b[38;5;250m \u001b[39m\u001b[38;5;21;01mutils\u001b[39;00m\u001b[38;5;21;01m.\u001b[39;00m\u001b[38;5;21;01membedding\u001b[39;00m\u001b[38;5;250m \u001b[39m\u001b[38;5;28;01mimport\u001b[39;00m retrieve_context, get_text_embedding, store_embedding \u001b[38;5;66;03m#get_context_db,\u001b[39;00m\n\u001b[1;32m      8\u001b[0m \u001b[38;5;28;01mfrom\u001b[39;00m\u001b[38;5;250m \u001b[39m\u001b[38;5;21;01mutils\u001b[39;00m\u001b[38;5;21;01m.\u001b[39;00m\u001b[38;5;21;01mprompt\u001b[39;00m\u001b[38;5;250m \u001b[39m\u001b[38;5;28;01mimport\u001b[39;00m get_prompt\n\u001b[1;32m      9\u001b[0m \u001b[38;5;28;01mfrom\u001b[39;00m\u001b[38;5;250m \u001b[39m\u001b[38;5;21;01mllm\u001b[39;00m\u001b[38;5;21;01m.\u001b[39;00m\u001b[38;5;21;01mrun_RAGLLM\u001b[39;00m\u001b[38;5;250m \u001b[39m\u001b[38;5;28;01mimport\u001b[39;00m run_RAG\n",
      "\u001b[0;31mModuleNotFoundError\u001b[0m: No module named 'utils'"
     ]
    }
   ],
   "source": [
    "# ================== GENERAL IMPORTS ==================\n",
    "import os\n",
    "import json\n",
    "from dotenv import load_dotenv\n",
    "\n",
    "# ================== UTIL FUNCTIONS ==================\n",
    "from utils.embedding import retrieve_context, get_text_embedding, store_embedding #get_context_db,\n",
    "from utils.prompt import get_prompt\n",
    "from llm.run_RAGLLM import run_RAG\n",
    "\n",
    "# Generate context vector database\n",
    "def get_context_db(context_chunks, CLIENT, model_embed):\n",
    "    context_embeddings=np.array([get_text_embedding(chunk, CLIENT, model_embed) for chunk in context_chunks])\n",
    "    index=store_embedding(context_embeddings)\n",
    "    return(index)\n",
    "\n",
    "\n",
    "# ================== MODEL & API IMPORTS ==================\n",
    "from mistralai.client import MistralClient\n",
    "from openai import OpenAI\n",
    "from llm.inference import run_llm\n",
    "import faiss\n"
   ]
  },
  {
   "cell_type": "markdown",
   "id": "4d3dfcda",
   "metadata": {},
   "source": [
    "---"
   ]
  },
  {
   "cell_type": "code",
   "execution_count": 4,
   "id": "0d99e6c7",
   "metadata": {},
   "outputs": [],
   "source": [
    "# --- existing module state ---\n",
    "_READY = False\n",
    "_CLIENT = None\n",
    "_CONTEXT = None\n",
    "_INDEX = None\n",
    "_MODEL_TYPE = None\n",
    "_MODEL_NAME = None\n",
    "_MODEL_EMBED = None\n",
    "\n",
    "def _cache_paths(embed_name: str, version: str = \"v1\"):\n",
    "    os.makedirs(\"indexes\", exist_ok=True)\n",
    "    return (\n",
    "        f\"indexes/{embed_name}__{version}.faiss\",\n",
    "        f\"indexes/{embed_name}__{version}.context.json\",\n",
    "    )"
   ]
  },
  {
   "cell_type": "code",
   "execution_count": 5,
   "id": "1b57e5ac",
   "metadata": {},
   "outputs": [],
   "source": [
    "def init(\n",
    "    context_json_path: str = \"data/structured_context_chunks.json\",\n",
    "    model_type: str = \"gpt\",\n",
    "    model_api: str = \"gpt-4o-2024-05-13\",\n",
    "    *,\n",
    "    force_rebuild: bool = False,\n",
    "):\n",
    "    global _READY, _CLIENT, _CONTEXT, _INDEX, _MODEL_TYPE, _MODEL_NAME, _MODEL_EMBED\n",
    "    if _READY:\n",
    "        return\n",
    "\n",
    "    load_dotenv()\n",
    "    if model_type in [\"gpt\", \"gpt_reasoning\"]:\n",
    "        api_key = os.getenv(\"OPENAI_API_KEY\")\n",
    "        if not api_key: raise RuntimeError(\"OPENAI_API_KEY not set\")\n",
    "        _CLIENT = OpenAI(api_key=api_key)\n",
    "        _MODEL_EMBED = \"text-embedding-3-small\"\n",
    "    elif model_type in [\"mistral\", \"mistral-7b\"]:\n",
    "        api_key = os.getenv(\"MISTRAL_API_KEY\")\n",
    "        if not api_key: raise RuntimeError(\"MISTRAL_API_KEY not set\")\n",
    "        _CLIENT = MistralClient(api_key=api_key)\n",
    "        _MODEL_EMBED = \"mistral-embed\"\n",
    "    else:\n",
    "        raise ValueError(\"Invalid model_type. Please choose from: mistral-7b, mistral, gpt\")\n",
    "\n",
    "    _MODEL_TYPE = model_type\n",
    "    _MODEL_NAME = model_api\n",
    "\n",
    "    index_path, ctx_path = _cache_paths(_MODEL_EMBED)\n",
    "\n",
    "    if (not force_rebuild) and os.path.exists(index_path) and os.path.exists(ctx_path):\n",
    "        with open(ctx_path, \"r\") as f:\n",
    "            _CONTEXT = json.load(f)\n",
    "        _INDEX = faiss.read_index(index_path)\n",
    "    else:\n",
    "        with open(context_json_path, \"r\") as f:\n",
    "            _CONTEXT = json.load(f)\n",
    "        _INDEX = get_context_db(_CONTEXT, _CLIENT, _MODEL_EMBED)\n",
    "        faiss.write_index(_INDEX, index_path)\n",
    "        with open(ctx_path, \"w\") as f:\n",
    "            json.dump(_CONTEXT, f)\n",
    "\n",
    "    _READY = True\n"
   ]
  },
  {
   "cell_type": "code",
   "execution_count": 6,
   "id": "a30ed415",
   "metadata": {},
   "outputs": [],
   "source": [
    "context_db = pd.read_csv('data/moalmanac-draft.dereferenced.context_db.csv')\n",
    "with open('data/moalmanac-draft.dereferenced.context_db.json', 'w') as f:\n",
    "    json.dump(context_db['context'].tolist(), f, indent = 2)"
   ]
  },
  {
   "cell_type": "code",
   "execution_count": 7,
   "id": "6a4db2a3",
   "metadata": {},
   "outputs": [],
   "source": [
    "init(context_json_path=\"data/moalmanac-draft.dereferenced.context_db.json\",#\"data/structured_context_chunks.json\",\n",
    "     model_type=\"gpt\",\n",
    "     model_api=\"gpt-4.1-nano\",#\"gpt-4o-2024-05-13\",\n",
    "     force_rebuild=True)"
   ]
  },
  {
   "cell_type": "markdown",
   "id": "7c053214",
   "metadata": {},
   "source": [
    "---"
   ]
  },
  {
   "cell_type": "code",
   "execution_count": 8,
   "id": "6c5b48f1",
   "metadata": {},
   "outputs": [],
   "source": [
    "def answer(\n",
    "    text: str,\n",
    "    strategy: int = 0,\n",
    "    num_vec: int = 10,\n",
    "    max_len: int = 2048,\n",
    "    temp: float = 0.0,\n",
    "    random_seed: int = 2025,\n",
    "    *,\n",
    "    rag = True\n",
    "):\n",
    "    if not _READY:\n",
    "            raise RuntimeError(\"Call init(...) first.\")\n",
    "    if rag:\n",
    "        out, _ = run_RAG(\n",
    "            _CONTEXT,\n",
    "            text,\n",
    "            strategy,\n",
    "            _INDEX,\n",
    "            _CLIENT,\n",
    "            num_vec,\n",
    "            _MODEL_TYPE,\n",
    "            _MODEL_NAME,\n",
    "            _MODEL_EMBED,\n",
    "            max_len,\n",
    "            temp,\n",
    "            random_seed,\n",
    "        )\n",
    "    return out or \"\""
   ]
  },
  {
   "cell_type": "markdown",
   "id": "d2be57c6",
   "metadata": {},
   "source": [
    "-----"
   ]
  },
  {
   "cell_type": "code",
   "execution_count": 15,
   "id": "6333055a",
   "metadata": {},
   "outputs": [],
   "source": [
    "patient_list = ['P-0000495', 'P-0002861']"
   ]
  },
  {
   "cell_type": "code",
   "execution_count": 16,
   "id": "ffad5ba9",
   "metadata": {},
   "outputs": [
    {
     "data": {
      "text/html": [
       "<div>\n",
       "<style scoped>\n",
       "    .dataframe tbody tr th:only-of-type {\n",
       "        vertical-align: middle;\n",
       "    }\n",
       "\n",
       "    .dataframe tbody tr th {\n",
       "        vertical-align: top;\n",
       "    }\n",
       "\n",
       "    .dataframe thead th {\n",
       "        text-align: right;\n",
       "    }\n",
       "</style>\n",
       "<table border=\"1\" class=\"dataframe\">\n",
       "  <thead>\n",
       "    <tr style=\"text-align: right;\">\n",
       "      <th></th>\n",
       "      <th>PATIENT_ID</th>\n",
       "      <th>FIRST_LINE_TREATMENT</th>\n",
       "    </tr>\n",
       "  </thead>\n",
       "  <tbody>\n",
       "    <tr>\n",
       "      <th>42</th>\n",
       "      <td>P-0000495</td>\n",
       "      <td>{'TAMOXIFEN', 'EVEROLIMUS'}</td>\n",
       "    </tr>\n",
       "    <tr>\n",
       "      <th>252</th>\n",
       "      <td>P-0002861</td>\n",
       "      <td>{'BEVACIZUMAB', 'ERLOTINIB'}</td>\n",
       "    </tr>\n",
       "  </tbody>\n",
       "</table>\n",
       "</div>"
      ],
      "text/plain": [
       "    PATIENT_ID          FIRST_LINE_TREATMENT\n",
       "42   P-0000495   {'TAMOXIFEN', 'EVEROLIMUS'}\n",
       "252  P-0002861  {'BEVACIZUMAB', 'ERLOTINIB'}"
      ]
     },
     "execution_count": 16,
     "metadata": {},
     "output_type": "execute_result"
    }
   ],
   "source": [
    "#gold answer is\n",
    "df = pd.read_csv('external-validation/panel-sequencing/reports/filtered-data/first_line_treatments_post_msk.csv')\n",
    "treatment = df[df['PATIENT_ID'].isin(patient_list)][['PATIENT_ID', 'FIRST_LINE_TREATMENT']]\n",
    "treatment"
   ]
  },
  {
   "cell_type": "code",
   "execution_count": 17,
   "id": "7dadd43b",
   "metadata": {},
   "outputs": [],
   "source": [
    "for patient in patient_list:\n",
    "    report = 'external-validation/panel-sequencing/reports/test/{p}.txt'.format(p = patient)\n",
    "    with open(report, 'r') as f:\n",
    "        report = f.read()\n",
    "    format_input = \\\n",
    "    '''\n",
    "    The following is a summarized molecular profile from MSK-IMPACT.\n",
    "    Based on this profile, answer with the appropriate treatments for this patient in the format above.\n",
    "    {report}\n",
    "    '''.format(report=report)\n",
    "    os.makedirs('external-validation/panel-sequencing/reports/rag-test', exist_ok=True)\n",
    "    strategy = 0\n",
    "    prompt = get_prompt(strategy = strategy, prompt_chunk= format_input)\n",
    "    with open('external-validation/panel-sequencing/reports/rag-test/{p}_{s}_newretrieval.json'.format(p = patient, s = str(strategy)), 'w') as f:\n",
    "        json.dump({\"prompt\": prompt, \"response\": answer(prompt, strategy=strategy, rag=True)}, f, indent = 4)\n",
    "    strategy = 5\n",
    "    prompt = get_prompt(strategy = strategy, prompt_chunk= format_input)\n",
    "    with open('external-validation/panel-sequencing/reports/rag-test/{p}_{s}_newretrieval.json'.format(p = patient, s = str(strategy)), 'w') as f:\n",
    "        json.dump({\"prompt\": prompt, \"response\": answer(prompt, strategy=strategy, rag=True)}, f, indent = 4)"
   ]
  },
  {
   "cell_type": "markdown",
   "id": "ccf140be",
   "metadata": {},
   "source": [
    "each full input is approx 2,500 tokens"
   ]
  },
  {
   "cell_type": "code",
   "execution_count": 36,
   "id": "452dcf53",
   "metadata": {},
   "outputs": [
    {
     "name": "stdout",
     "output_type": "stream",
     "text": [
      "external-validation/panel-sequencing/reports/rag-test/P-0000495_0.json\n",
      "['Margetuximab-cmkb + Chemotherapy', 'Capivasertib + Fulvestrant']\n",
      "external-validation/panel-sequencing/reports/rag-test/P-0000495_0_newretrieval.json\n",
      "['Pembrolizumab', 'Avutometinib + Defactinib']\n",
      "external-validation/panel-sequencing/reports/rag-test/P-0000495_5.json\n",
      "[]\n",
      "external-validation/panel-sequencing/reports/rag-test/P-0000495_5_newretrieval.json\n",
      "[]\n",
      "external-validation/panel-sequencing/reports/rag-test/P-0002861_0.json\n",
      "['Osimertinib', 'Cisplatin + Osimertinib + Pemetrexed']\n",
      "external-validation/panel-sequencing/reports/rag-test/P-0002861_0_newretrieval.json\n",
      "['Gefitinib']\n",
      "external-validation/panel-sequencing/reports/rag-test/P-0002861_5.json\n",
      "['Osimertinib']\n",
      "external-validation/panel-sequencing/reports/rag-test/P-0002861_5_newretrieval.json\n",
      "['Gefitinib']\n"
     ]
    }
   ],
   "source": [
    "for f in sorted(glob('external-validation/panel-sequencing/reports/rag-test/*')):\n",
    "    print(f)\n",
    "    drugs = []\n",
    "    with open(f, 'r') as json_file:\n",
    "        data = json.load(json_file)['response']\n",
    "        data = ast.literal_eval(data)\n",
    "        keys = [i for i in data.keys() if 'Treatment' in i]\n",
    "        for key in keys:\n",
    "            drugs.append(data[key]['Drug Name'])\n",
    "    print(drugs)"
   ]
  },
  {
   "cell_type": "markdown",
   "id": "c5fcfd9f",
   "metadata": {},
   "source": [
    "---"
   ]
  },
  {
   "cell_type": "code",
   "execution_count": 17,
   "id": "6ca48948",
   "metadata": {},
   "outputs": [
    {
     "data": {
      "text/plain": [
       "['P-0038741-T01-IM6',\n",
       " 'P-0046847-T01-IM6',\n",
       " 'P-0048242-T01-IM6',\n",
       " 'P-0049059-T01-IM6',\n",
       " 'P-0083069-T01-IM7']"
      ]
     },
     "execution_count": 17,
     "metadata": {},
     "output_type": "execute_result"
    }
   ],
   "source": [
    "with open('external-validation/panel-sequencing/reports/test/selected-samples-no-previous-treatment.json') as f:\n",
    "    import json\n",
    "    patients = json.load(f)\n",
    "patient_list = patients[-5:]\n",
    "patient_list"
   ]
  },
  {
   "cell_type": "code",
   "execution_count": 18,
   "id": "e834753c",
   "metadata": {},
   "outputs": [
    {
     "data": {
      "text/html": [
       "<div>\n",
       "<style scoped>\n",
       "    .dataframe tbody tr th:only-of-type {\n",
       "        vertical-align: middle;\n",
       "    }\n",
       "\n",
       "    .dataframe tbody tr th {\n",
       "        vertical-align: top;\n",
       "    }\n",
       "\n",
       "    .dataframe thead th {\n",
       "        text-align: right;\n",
       "    }\n",
       "</style>\n",
       "<table border=\"1\" class=\"dataframe\">\n",
       "  <thead>\n",
       "    <tr style=\"text-align: right;\">\n",
       "      <th></th>\n",
       "      <th>PATIENT_ID</th>\n",
       "      <th>FIRST_LINE_TREATMENT</th>\n",
       "    </tr>\n",
       "  </thead>\n",
       "  <tbody>\n",
       "    <tr>\n",
       "      <th>2589</th>\n",
       "      <td>P-0038741</td>\n",
       "      <td>{'LAPATINIB', 'CAPECITABINE'}</td>\n",
       "    </tr>\n",
       "    <tr>\n",
       "      <th>2924</th>\n",
       "      <td>P-0046847</td>\n",
       "      <td>{'OLAPARIB'}</td>\n",
       "    </tr>\n",
       "    <tr>\n",
       "      <th>2988</th>\n",
       "      <td>P-0048242</td>\n",
       "      <td>{'ENCORAFENIB'}</td>\n",
       "    </tr>\n",
       "    <tr>\n",
       "      <th>3023</th>\n",
       "      <td>P-0049059</td>\n",
       "      <td>{'SUNITINIB'}</td>\n",
       "    </tr>\n",
       "    <tr>\n",
       "      <th>4109</th>\n",
       "      <td>P-0083069</td>\n",
       "      <td>{'CRIZOTINIB'}</td>\n",
       "    </tr>\n",
       "  </tbody>\n",
       "</table>\n",
       "</div>"
      ],
      "text/plain": [
       "     PATIENT_ID           FIRST_LINE_TREATMENT\n",
       "2589  P-0038741  {'LAPATINIB', 'CAPECITABINE'}\n",
       "2924  P-0046847                   {'OLAPARIB'}\n",
       "2988  P-0048242                {'ENCORAFENIB'}\n",
       "3023  P-0049059                  {'SUNITINIB'}\n",
       "4109  P-0083069                 {'CRIZOTINIB'}"
      ]
     },
     "execution_count": 18,
     "metadata": {},
     "output_type": "execute_result"
    }
   ],
   "source": [
    "#gold answer is\n",
    "df = pd.read_csv('external-validation/panel-sequencing/reports/filtered-data/first_line_treatments_post_msk.csv')\n",
    "treatment = df[df['PATIENT_ID'].isin([i.split('-T01')[0] for i in patient_list])][['PATIENT_ID', 'FIRST_LINE_TREATMENT']]\n",
    "treatment"
   ]
  },
  {
   "cell_type": "code",
   "execution_count": 11,
   "id": "5c37446b",
   "metadata": {},
   "outputs": [],
   "source": [
    "for patient in patient_list:\n",
    "    patient = patient.split('-T01')[0]\n",
    "    report = 'external-validation/panel-sequencing/reports/test/{p}.txt'.format(p = patient)\n",
    "    with open(report, 'r') as f:\n",
    "        report = f.read()\n",
    "    format_input = \\\n",
    "    '''\n",
    "    The following is a summarized molecular profile from MSK-IMPACT.\n",
    "    Based on this profile, answer with the appropriate treatments for this patient in the format above.\n",
    "    {report}\n",
    "    '''.format(report=report)\n",
    "    os.makedirs('external-validation/panel-sequencing/reports/rag-test', exist_ok=True)\n",
    "    strategy = 0\n",
    "    prompt = get_prompt(strategy = strategy, prompt_chunk= format_input)\n",
    "    with open('external-validation/panel-sequencing/reports/rag-test/{p}_{s}_newretrieval.json'.format(p = patient, s = str(strategy)), 'w') as f:\n",
    "        json.dump({\"prompt\": prompt, \"response\": answer(prompt, strategy=strategy, rag=True)}, f, indent = 4)\n",
    "    strategy = 5\n",
    "    prompt = get_prompt(strategy = strategy, prompt_chunk= format_input)\n",
    "    with open('external-validation/panel-sequencing/reports/rag-test/{p}_{s}_newretrieval.json'.format(p = patient, s = str(strategy)), 'w') as f:\n",
    "        json.dump({\"prompt\": prompt, \"response\": answer(prompt, strategy=strategy, rag=True)}, f, indent = 4)"
   ]
  },
  {
   "cell_type": "code",
   "execution_count": 14,
   "id": "eb6fd84e",
   "metadata": {},
   "outputs": [
    {
     "name": "stdout",
     "output_type": "stream",
     "text": [
      "P-0000495 _0\n",
      "['Margetuximab-cmkb + Chemotherapy', 'Capivasertib + Fulvestrant']\n",
      "P-0000495 _0_newretrieval\n",
      "['Pembrolizumab', 'Avutometinib + Defactinib']\n",
      "P-0000495 _5\n",
      "[]\n",
      "P-0000495 _5_newretrieval\n",
      "[]\n",
      "P-0000557 _0\n",
      "['Cisplatin + Durvalumab + Tremelimumab + Pemetrexed', 'Carboplatin + Durvalumab + Tremelimumab + Pemetrexed', 'Gemcitabine + Cisplatin or Carboplatin', 'Nab-paclitaxel + Carboplatin', 'Pembrolizumab in combination with Pemetrexed and Platinum chemotherapy', 'Pembrolizumab in combination with Pemetrexed and Platinum chemotherapy', 'Ipilimumab + Nivolumab + 2 cycles of platinum-doublet chemotherapy']\n",
      "P-0000557 _0_newretrieval\n",
      "['Cisplatin + Durvalumab + Tremelimumab + Pemetrexed', 'Carboplatin + Durvalumab + Tremelimumab + Pemetrexed', 'Gemcitabine + Cisplatin or Carboplatin + Durvalumab + Tremelimumab', 'Nab-paclitaxel + Carboplatin + Durvalumab + Tremelimumab', 'Pembrolizumab in combination with Pemetrexed and Platinum Chemotherapy', 'Pembrolizumab in combination with Pemetrexed and Platinum Chemotherapy', 'Ipilimumab + Nivolumab + 2 cycles of platinum-doublet chemotherapy']\n",
      "P-0000557 _5\n",
      "[]\n",
      "P-0000557 _5_newretrieval\n",
      "[]\n",
      "P-0001189 _0\n",
      "['Pembrolizumab', 'Tremelimumab-actl in combination with durvalumab and platinum-based chemotherapy', 'Pembrolizumab in combination with pemetrexed and platinum chemotherapy']\n",
      "P-0001189 _0_newretrieval\n",
      "['Pembrolizumab']\n",
      "P-0001189 _5\n",
      "['pembrolizumab in combination with pemetrexed and platinum chemotherapy']\n",
      "P-0001189 _5_newretrieval\n",
      "[]\n",
      "P-0002861 _0\n",
      "['Osimertinib', 'Cisplatin + Osimertinib + Pemetrexed']\n",
      "P-0002861 _0_newretrieval\n",
      "['Gefitinib']\n",
      "P-0002861 _5\n",
      "['Osimertinib']\n",
      "P-0002861 _5_newretrieval\n",
      "['Gefitinib']\n"
     ]
    }
   ],
   "source": [
    "for f in sorted(glob('external-validation/panel-sequencing/reports/rag-test/*')):\n",
    "    patient = f.split('/')[-1].split('_')[0]\n",
    "    print(patient, f.split('/')[-1].replace('.json', '').replace(patient, ''))\n",
    "    drugs = []\n",
    "    with open(f, 'r') as json_file:\n",
    "        data = json.load(json_file)['response']\n",
    "        data = ast.literal_eval(data)\n",
    "        keys = [i for i in data.keys() if 'Treatment' in i]\n",
    "        for key in keys:\n",
    "            drugs.append(data[key]['Drug Name'])\n",
    "    print(drugs)"
   ]
  },
  {
   "cell_type": "code",
   "execution_count": null,
   "id": "548ae30c",
   "metadata": {},
   "outputs": [],
   "source": []
  }
 ],
 "metadata": {
  "kernelspec": {
   "display_name": "Python 3",
   "language": "python",
   "name": "python3"
  },
  "language_info": {
   "codemirror_mode": {
    "name": "ipython",
    "version": 3
   },
   "file_extension": ".py",
   "mimetype": "text/x-python",
   "name": "python",
   "nbconvert_exporter": "python",
   "pygments_lexer": "ipython3",
   "version": "3.10.11"
  }
 },
 "nbformat": 4,
 "nbformat_minor": 5
}
