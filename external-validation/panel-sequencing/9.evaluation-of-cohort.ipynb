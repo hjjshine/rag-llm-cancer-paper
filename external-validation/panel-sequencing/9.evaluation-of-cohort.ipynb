{
 "cells": [
  {
   "cell_type": "code",
   "execution_count": 1,
   "id": "da4343a9",
   "metadata": {},
   "outputs": [],
   "source": [
    "import pandas as pd\n",
    "import numpy as np\n",
    "import os\n",
    "import ast\n",
    "import warnings\n",
    "warnings.filterwarnings('ignore')"
   ]
  },
  {
   "cell_type": "markdown",
   "id": "98859fdf",
   "metadata": {},
   "source": [
    "for some reason, initial efforts into the cohort analysis aren't working as well as hoped. \\\n",
    "so we try and dig into what proportion of these samples aren't following guidelines."
   ]
  },
  {
   "cell_type": "code",
   "execution_count": 20,
   "id": "1e57b5ec",
   "metadata": {},
   "outputs": [
    {
     "data": {
      "text/plain": [
       "CANCER_TYPE\n",
       "Non-Small Cell Lung Cancer    238\n",
       "Breast Cancer                  33\n",
       "Pancreatic Cancer               6\n",
       "Name: count, dtype: int64"
      ]
     },
     "execution_count": 20,
     "metadata": {},
     "output_type": "execute_result"
    }
   ],
   "source": [
    "cohort = pd.read_csv('reports/test/selected-samples-no-previous-treatment-metadata.csv')\n",
    "#received first line targeted therapy\n",
    "cohort['FIRST_LINE_TREATMENT_TYPE'] = cohort['FIRST_LINE_TREATMENT_TYPE'].apply(lambda x: ast.literal_eval(x) if pd.notnull(x) else [])\n",
    "cohort = cohort[cohort.FIRST_LINE_TREATMENT_TYPE.apply(lambda x: 'Targeted' in x)]\n",
    "cohort.CANCER_TYPE.value_counts()"
   ]
  },
  {
   "cell_type": "markdown",
   "id": "c7b7d140",
   "metadata": {},
   "source": [
    "----"
   ]
  },
  {
   "cell_type": "markdown",
   "id": "4f16b2e7",
   "metadata": {},
   "source": [
    "### pancreatic cancer"
   ]
  },
  {
   "cell_type": "markdown",
   "id": "05c2e0a3",
   "metadata": {},
   "source": [
    "the only FDA approved pancreatic cancer treatment is Olaparib (BRCA1/2 mut)/Zenocutuzumab (NRG1 fusion)"
   ]
  },
  {
   "cell_type": "code",
   "execution_count": 21,
   "id": "653a3a67",
   "metadata": {},
   "outputs": [
    {
     "data": {
      "text/html": [
       "<div>\n",
       "<style scoped>\n",
       "    .dataframe tbody tr th:only-of-type {\n",
       "        vertical-align: middle;\n",
       "    }\n",
       "\n",
       "    .dataframe tbody tr th {\n",
       "        vertical-align: top;\n",
       "    }\n",
       "\n",
       "    .dataframe thead th {\n",
       "        text-align: right;\n",
       "    }\n",
       "</style>\n",
       "<table border=\"1\" class=\"dataframe\">\n",
       "  <thead>\n",
       "    <tr style=\"text-align: right;\">\n",
       "      <th></th>\n",
       "      <th>PATIENT_ID</th>\n",
       "      <th>FIRST_LINE_TIMING</th>\n",
       "      <th>FIRST_LINE_TREATMENT</th>\n",
       "      <th>FIRST_LINE_TREATMENT_TYPE</th>\n",
       "      <th>TARGETED_THERAPY_GIVEN</th>\n",
       "      <th>INVESTIGATIONAL_THERAPY_GIVEN</th>\n",
       "      <th>CANCER_TYPE</th>\n",
       "      <th>TREATMENT_NUM</th>\n",
       "      <th>PRETREATED</th>\n",
       "      <th>PRIOR_SURGERY</th>\n",
       "      <th>PRIOR_RADIATION</th>\n",
       "      <th>PRIOR_MEDICATION</th>\n",
       "      <th>NO_PRIOR_TREATMENT</th>\n",
       "    </tr>\n",
       "  </thead>\n",
       "  <tbody>\n",
       "    <tr>\n",
       "      <th>41</th>\n",
       "      <td>P-0004364</td>\n",
       "      <td>25</td>\n",
       "      <td>EVEROLIMUS</td>\n",
       "      <td>{Targeted}</td>\n",
       "      <td>True</td>\n",
       "      <td>False</td>\n",
       "      <td>Pancreatic Cancer</td>\n",
       "      <td>1</td>\n",
       "      <td>False</td>\n",
       "      <td>False</td>\n",
       "      <td>False</td>\n",
       "      <td>False</td>\n",
       "      <td>True</td>\n",
       "    </tr>\n",
       "    <tr>\n",
       "      <th>175</th>\n",
       "      <td>P-0024508</td>\n",
       "      <td>61</td>\n",
       "      <td>EVEROLIMUS</td>\n",
       "      <td>{Targeted}</td>\n",
       "      <td>True</td>\n",
       "      <td>False</td>\n",
       "      <td>Pancreatic Cancer</td>\n",
       "      <td>1</td>\n",
       "      <td>False</td>\n",
       "      <td>False</td>\n",
       "      <td>False</td>\n",
       "      <td>False</td>\n",
       "      <td>True</td>\n",
       "    </tr>\n",
       "    <tr>\n",
       "      <th>256</th>\n",
       "      <td>P-0035552</td>\n",
       "      <td>41</td>\n",
       "      <td>LAROTRECTINIB</td>\n",
       "      <td>{Targeted}</td>\n",
       "      <td>True</td>\n",
       "      <td>False</td>\n",
       "      <td>Pancreatic Cancer</td>\n",
       "      <td>1</td>\n",
       "      <td>False</td>\n",
       "      <td>False</td>\n",
       "      <td>False</td>\n",
       "      <td>False</td>\n",
       "      <td>True</td>\n",
       "    </tr>\n",
       "    <tr>\n",
       "      <th>261</th>\n",
       "      <td>P-0036116</td>\n",
       "      <td>294</td>\n",
       "      <td>OLAPARIB</td>\n",
       "      <td>{Targeted}</td>\n",
       "      <td>True</td>\n",
       "      <td>False</td>\n",
       "      <td>Pancreatic Cancer</td>\n",
       "      <td>1</td>\n",
       "      <td>False</td>\n",
       "      <td>False</td>\n",
       "      <td>False</td>\n",
       "      <td>False</td>\n",
       "      <td>True</td>\n",
       "    </tr>\n",
       "    <tr>\n",
       "      <th>333</th>\n",
       "      <td>P-0049059</td>\n",
       "      <td>38</td>\n",
       "      <td>SUNITINIB</td>\n",
       "      <td>{Targeted}</td>\n",
       "      <td>True</td>\n",
       "      <td>False</td>\n",
       "      <td>Pancreatic Cancer</td>\n",
       "      <td>1</td>\n",
       "      <td>False</td>\n",
       "      <td>False</td>\n",
       "      <td>False</td>\n",
       "      <td>False</td>\n",
       "      <td>True</td>\n",
       "    </tr>\n",
       "    <tr>\n",
       "      <th>410</th>\n",
       "      <td>P-0064024</td>\n",
       "      <td>234</td>\n",
       "      <td>OLAPARIB</td>\n",
       "      <td>{Targeted}</td>\n",
       "      <td>True</td>\n",
       "      <td>False</td>\n",
       "      <td>Pancreatic Cancer</td>\n",
       "      <td>1</td>\n",
       "      <td>False</td>\n",
       "      <td>False</td>\n",
       "      <td>False</td>\n",
       "      <td>False</td>\n",
       "      <td>True</td>\n",
       "    </tr>\n",
       "  </tbody>\n",
       "</table>\n",
       "</div>"
      ],
      "text/plain": [
       "    PATIENT_ID  FIRST_LINE_TIMING FIRST_LINE_TREATMENT  \\\n",
       "41   P-0004364                 25           EVEROLIMUS   \n",
       "175  P-0024508                 61           EVEROLIMUS   \n",
       "256  P-0035552                 41        LAROTRECTINIB   \n",
       "261  P-0036116                294             OLAPARIB   \n",
       "333  P-0049059                 38            SUNITINIB   \n",
       "410  P-0064024                234             OLAPARIB   \n",
       "\n",
       "    FIRST_LINE_TREATMENT_TYPE  TARGETED_THERAPY_GIVEN  \\\n",
       "41                 {Targeted}                    True   \n",
       "175                {Targeted}                    True   \n",
       "256                {Targeted}                    True   \n",
       "261                {Targeted}                    True   \n",
       "333                {Targeted}                    True   \n",
       "410                {Targeted}                    True   \n",
       "\n",
       "     INVESTIGATIONAL_THERAPY_GIVEN        CANCER_TYPE  TREATMENT_NUM  \\\n",
       "41                           False  Pancreatic Cancer              1   \n",
       "175                          False  Pancreatic Cancer              1   \n",
       "256                          False  Pancreatic Cancer              1   \n",
       "261                          False  Pancreatic Cancer              1   \n",
       "333                          False  Pancreatic Cancer              1   \n",
       "410                          False  Pancreatic Cancer              1   \n",
       "\n",
       "     PRETREATED  PRIOR_SURGERY  PRIOR_RADIATION  PRIOR_MEDICATION  \\\n",
       "41        False          False            False             False   \n",
       "175       False          False            False             False   \n",
       "256       False          False            False             False   \n",
       "261       False          False            False             False   \n",
       "333       False          False            False             False   \n",
       "410       False          False            False             False   \n",
       "\n",
       "     NO_PRIOR_TREATMENT  \n",
       "41                 True  \n",
       "175                True  \n",
       "256                True  \n",
       "261                True  \n",
       "333                True  \n",
       "410                True  "
      ]
     },
     "execution_count": 21,
     "metadata": {},
     "output_type": "execute_result"
    }
   ],
   "source": [
    "cohort[cohort.CANCER_TYPE == 'Pancreatic Cancer']"
   ]
  },
  {
   "cell_type": "markdown",
   "id": "b821e70c",
   "metadata": {},
   "source": [
    "- Everolimus is approved only for Astrocytoma, and variants in TSC1/TSC2/FLCN or PTEN del\n",
    "- Larotrectinib is approved across all solid tumors, NTRK1/NTRK2/NTRK3 fusion\n",
    "- Sunitinib is approved for KIT mutated GIST tumors"
   ]
  },
  {
   "cell_type": "code",
   "execution_count": 22,
   "id": "12188ca9",
   "metadata": {},
   "outputs": [
    {
     "name": "stdout",
     "output_type": "stream",
     "text": [
      "Patient ID: P-0035552\n",
      "Age: 64\n",
      "Gender: Female\n",
      "Sample ID: P-0035552-T01-IM6\n",
      "Gene Panel: IMPACT468\n",
      "Cancer Type: Pancreatic Adenocarcinoma\n",
      "Sample Type: Primary\n",
      "Tumor Purity: 30.0%\n",
      "=============\n",
      "DNA Variants:\n",
      "GNAS c.602G>A (p.R201H) - in 38.00% of 776 reads\n",
      "KLF4 c.1225A>G (p.K409E) - in 18.00% of 1439 reads\n",
      "MSI1 c.896C>T (p.S299L) - in 25.00% of 925 reads\n",
      "PTCH1 c.49_51del (p.G17del) - in 11.00% of 88 reads\n",
      "RB1 c.200C>T (p.P67L) - in 15.00% of 433 reads\n",
      "RNF43 c.137C>G (p.A46G) - in 40.00% of 825 reads\n",
      "RRAS2 c.439C>T (p.R147W) - in 17.00% of 937 reads\n",
      "TGFBR2 c.946_948del (p.K316del) - in 18.00% of 653 reads\n",
      "CNA Data:\n",
      "CDKN2B - Homozygous Deletion\n",
      "CDKN2A - Homozygous Deletion\n",
      "CDKN2Ap14ARF - Homozygous Deletion\n",
      "CDKN2Ap16INK4A - Homozygous Deletion\n",
      "Structural Variants:\n",
      "ETV6 - NTRK3 (nan)\n",
      "ETV6 - NTRK3 (TRANSLOCATION)\n"
     ]
    }
   ],
   "source": [
    "with open('reports/test/P-0035552.txt', 'r') as f:\n",
    "    print(f.read())"
   ]
  },
  {
   "cell_type": "code",
   "execution_count": null,
   "id": "06c4cfcc",
   "metadata": {},
   "outputs": [],
   "source": []
  }
 ],
 "metadata": {
  "kernelspec": {
   "display_name": "Python 3",
   "language": "python",
   "name": "python3"
  },
  "language_info": {
   "codemirror_mode": {
    "name": "ipython",
    "version": 3
   },
   "file_extension": ".py",
   "mimetype": "text/x-python",
   "name": "python",
   "nbconvert_exporter": "python",
   "pygments_lexer": "ipython3",
   "version": "3.10.11"
  }
 },
 "nbformat": 4,
 "nbformat_minor": 5
}
