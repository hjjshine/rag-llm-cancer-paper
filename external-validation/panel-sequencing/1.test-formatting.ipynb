{
 "cells": [
  {
   "cell_type": "code",
   "execution_count": 1,
   "id": "b9473175",
   "metadata": {},
   "outputs": [],
   "source": [
    "import pandas as pd\n",
    "import numpy as np\n",
    "import os\n",
    "import warnings\n",
    "warnings.filterwarnings('ignore')"
   ]
  },
  {
   "cell_type": "code",
   "execution_count": 2,
   "id": "6449cf1f",
   "metadata": {},
   "outputs": [],
   "source": [
    "from misc.extract_clinical_data import extract_clinical_data_minimum\n",
    "from misc.extract_molecular_data import extract_dna_variants, extract_cna, extract_structural_variants\n",
    "patient_data_path = 'msk_chord_2024/data_clinical_patient.txt'\n",
    "sample_data_path = 'msk_chord_2024/data_clinical_sample.txt'\n",
    "snv_data_path = 'msk_chord_2024/data_mutations.txt'\n",
    "cna_data_path = 'msk_chord_2024/data_cna.txt'\n",
    "sv_data_path = 'msk_chord_2024/data_sv.txt'"
   ]
  },
  {
   "cell_type": "markdown",
   "id": "8d38ffd7",
   "metadata": {},
   "source": [
    "----\n",
    "#### rough overview of report content\n",
    "- basic patient and sample info\n",
    "    - patient id, age, gender, birth date, \n",
    "    - test performed, test description, accession number, sample collection date, path diagnosis, % of tumor cells in sample\n",
    "- sequencing quality\n",
    "    - number of total reads, mean reads per taargeted exon, X% of exons with >30 reads\n",
    "- dna variants\n",
    "    - tiered list (tier 1-4) of \n",
    "        - `gene cHGV (pHGV) exon % of reads, total reads`\n",
    "        - eg. TP53 c.613T_>C (p.Y205H), exon 2 - in 50% of 73 reads**\n",
    "    - negative for mutations in genes with clinical relevance for tumor type\n",
    "- copy number variation\n",
    "    - list of `location gene copy number type`\n",
    "    - eg. 1p12 NOTCH2   Low copy number gain\n",
    "- chromosomal rearrangement\n",
    "\n",
    "----"
   ]
  },
  {
   "cell_type": "code",
   "execution_count": 3,
   "id": "0a3b8aaa",
   "metadata": {},
   "outputs": [
    {
     "name": "stdout",
     "output_type": "stream",
     "text": [
      "Number of patients with targeted therapy: 4202\n"
     ]
    }
   ],
   "source": [
    "patient = pd.read_csv('msk_chord_2024/data_clinical_patient.txt', sep='\\t', comment='#')\n",
    "treatment = pd.read_csv('msk_chord_2024/data_timeline_treatment.txt', sep='\\t', comment='#')\n",
    "sample = pd.read_csv('msk_chord_2024/data_clinical_sample.txt', sep='\\t', comment='#')\n",
    "\n",
    "targeted_tx_patients = treatment[(treatment.SUBTYPE == 'Targeted')&(treatment.START_DATE > 0)&(treatment['PATIENT_ID'].isin(sample['PATIENT_ID'].value_counts()[sample['PATIENT_ID'].value_counts() == 1].index))]\n",
    "print(f'Number of patients with targeted therapy: {len(targeted_tx_patients.PATIENT_ID.unique())}')"
   ]
  },
  {
   "cell_type": "code",
   "execution_count": 4,
   "id": "e87c37bf",
   "metadata": {},
   "outputs": [
    {
     "data": {
      "text/plain": [
       "PATIENT_ID\n",
       "P-0000036    1\n",
       "P-0044467    1\n",
       "P-0044824    1\n",
       "P-0044387    1\n",
       "P-0044848    1\n",
       "            ..\n",
       "P-0017422    1\n",
       "P-0017476    1\n",
       "P-0017466    1\n",
       "P-0017438    1\n",
       "P-0009406    1\n",
       "Name: count, Length: 4202, dtype: int64"
      ]
     },
     "execution_count": 4,
     "metadata": {},
     "output_type": "execute_result"
    }
   ],
   "source": [
    "#for now, it seems like we don't need to think about multiple samples per patient\n",
    "sample[sample.PATIENT_ID.isin(targeted_tx_patients.PATIENT_ID.unique())].PATIENT_ID.value_counts()"
   ]
  },
  {
   "cell_type": "code",
   "execution_count": 5,
   "id": "9fcd8714",
   "metadata": {},
   "outputs": [],
   "source": [
    "def generate_report(patient_id):\n",
    "    '''\n",
    "    Generate a report for a given patient ID by extracting clinical and molecular data.\n",
    "    '''\n",
    "\n",
    "    report = ''\n",
    "\n",
    "    report_text = extract_clinical_data_minimum(\n",
    "        patient_data_path=patient_data_path,\n",
    "        sample_data_path=sample_data_path,\n",
    "        patient_id=patient_id\n",
    "    )\n",
    "    report += report_text\n",
    "\n",
    "    report += '\\n============='\n",
    "\n",
    "    report += '\\nDNA Variants:'\n",
    "    report_text = extract_dna_variants(\n",
    "        snv_data_path=snv_data_path,\n",
    "        sample_data_path=sample_data_path,\n",
    "        patient_id=patient_id\n",
    "    )\n",
    "    report += '\\n' + report_text\n",
    "\n",
    "    report += '\\nCNA Data:'\n",
    "    report_text = extract_cna(\n",
    "        cna_data_path=cna_data_path,\n",
    "        sample_data_path=sample_data_path,\n",
    "        patient_id=patient_id\n",
    "    )\n",
    "    report += '\\n' + report_text\n",
    "\n",
    "    report += '\\nStructural Variants:'\n",
    "    report_text = extract_structural_variants(\n",
    "        sv_data_path=sv_data_path,\n",
    "        sample_data_path=sample_data_path,\n",
    "        patient_id=patient_id\n",
    "    )\n",
    "    report += '\\n' + report_text\n",
    "\n",
    "    return report\n"
   ]
  },
  {
   "cell_type": "code",
   "execution_count": 6,
   "id": "6f728c1e",
   "metadata": {},
   "outputs": [
    {
     "name": "stderr",
     "output_type": "stream",
     "text": [
      "100%|██████████| 10/10 [00:37<00:00,  3.76s/it]\n"
     ]
    }
   ],
   "source": [
    "patients = sample[sample.PATIENT_ID.isin(targeted_tx_patients.PATIENT_ID.unique())].PATIENT_ID.tolist()[:10]\n",
    "os.makedirs('reports/test', exist_ok=True)\n",
    "from tqdm import tqdm\n",
    "for patient_id in tqdm(patients):\n",
    "    report = generate_report(patient_id)\n",
    "    with open(f'reports/test/{patient_id}.txt', 'w') as f:\n",
    "        f.write(report)"
   ]
  },
  {
   "cell_type": "code",
   "execution_count": null,
   "id": "1b1e795d",
   "metadata": {},
   "outputs": [],
   "source": []
  }
 ],
 "metadata": {
  "kernelspec": {
   "display_name": "Python 3",
   "language": "python",
   "name": "python3"
  },
  "language_info": {
   "codemirror_mode": {
    "name": "ipython",
    "version": 3
   },
   "file_extension": ".py",
   "mimetype": "text/x-python",
   "name": "python",
   "nbconvert_exporter": "python",
   "pygments_lexer": "ipython3",
   "version": "3.10.11"
  }
 },
 "nbformat": 4,
 "nbformat_minor": 5
}
