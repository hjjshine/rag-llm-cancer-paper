{
 "cells": [
  {
   "cell_type": "code",
   "execution_count": 1,
   "id": "52f953c0",
   "metadata": {},
   "outputs": [],
   "source": [
    "import sys, os, pandas as pd\n",
    "from glob import glob\n",
    "import warnings\n",
    "warnings.filterwarnings('ignore')"
   ]
  },
  {
   "cell_type": "code",
   "execution_count": 2,
   "id": "a492c550",
   "metadata": {},
   "outputs": [],
   "source": [
    "os.chdir('../..')"
   ]
  },
  {
   "cell_type": "code",
   "execution_count": null,
   "id": "d797e96c",
   "metadata": {},
   "outputs": [],
   "source": [
    "# ================== GENERAL IMPORTS ==================\n",
    "import os\n",
    "import json\n",
    "from dotenv import load_dotenv\n",
    "\n",
    "# ================== UTIL FUNCTIONS ==================\n",
    "from utils.embedding import get_context_db, retrieve_context\n",
    "from utils.prompt import get_prompt\n",
    "from llm.run_RAGLLM import run_RAG\n",
    "\n",
    "\n",
    "# ================== MODEL & API IMPORTS ==================\n",
    "from mistralai.client import MistralClient\n",
    "from openai import OpenAI\n",
    "from llm.inference import run_llm\n",
    "import faiss\n",
    "\n",
    "# import from "
   ]
  },
  {
   "cell_type": "code",
   "execution_count": 12,
   "id": "46f6cbe3",
   "metadata": {},
   "outputs": [],
   "source": [
    "#test input\n",
    "report = 'external-validation/panel-sequencing/reports/test/P-0000036.txt'\n",
    "with open(report, 'r') as f:\n",
    "    report = f.read()"
   ]
  },
  {
   "cell_type": "code",
   "execution_count": 15,
   "id": "196d9b27",
   "metadata": {},
   "outputs": [],
   "source": [
    "format_input = \\\n",
    "'''\n",
    "The following is a summarized molecular profile from MSK-IMPACT.\n",
    "Based on this profile, answer with the appropriate treatments for this patient in the format above.\n",
    "{report}\n",
    "'''.format(report=report)"
   ]
  },
  {
   "cell_type": "code",
   "execution_count": 17,
   "id": "82e0a56c",
   "metadata": {},
   "outputs": [
    {
     "name": "stdout",
     "output_type": "stream",
     "text": [
      "Please provide each treatment as a json format with the following JSON schema.\n",
      "    {\n",
      "        \"Treatment 1\": {\n",
      "            \"Disease Name\": ,\n",
      "            \"Disease Phase or Condition\": ,\n",
      "            \"Drug Name\": ,\n",
      "            \"Prior Treatment or Resistance Status\": ,\n",
      "            \"Genomic Features\":\n",
      "            \"Link to FDA-approved Label\": \n",
      "            }\n",
      "    }\n",
      "    Query: \n",
      "The following is a summarized molecular profile from MSK-IMPACT.\n",
      "Based on this profile, answer with the appropriate treatments for this patient in the format above.\n",
      "Patient ID: P-0000036\n",
      "Age: 68\n",
      "Gender: Female\n",
      "Sample ID: P-0000036-T01-IM3\n",
      "Gene Panel: IMPACT341\n",
      "Cancer Type: Lung Adenocarcinoma\n",
      "Sample Type: Primary\n",
      "Tumor Purity: 30.0%\n",
      "=============\n",
      "DNA Variants:\n",
      "AR c.676T>G (p.L226V) - in 14.000000000000002% of 584 reads\n",
      "ERBB2 c.3044G>A (p.G1015E) - in 42.0% of 354 reads\n",
      "FBXW7 c.336_344del (p.D112_E114del) - in 40.0% of 378 reads\n",
      "IRS1 c.1382A>G (p.E461G) - in 44.0% of 418 reads\n",
      "NOTCH4 c.2443T>G (p.C815G) - in 48.0% of 296 reads\n",
      "TP53 c.991C>T (p.Q331*) - in 6.0% of 311 reads\n",
      "TSHR c.202C>T (p.P68S) - in 50.0% of 516 reads\n",
      "CNA Data:\n",
      "No CNA data found for the specified patient ID.\n",
      "Structural Variants:\n",
      "ROS1 - SLC34A2 (TRANSLOCATION)\n",
      "\n",
      "    \n"
     ]
    }
   ],
   "source": [
    "prompt = get_prompt(strategy = 0, prompt_chunk= format_input)\n",
    "print(prompt)"
   ]
  },
  {
   "cell_type": "code",
   "execution_count": null,
   "id": "0d99e6c7",
   "metadata": {},
   "outputs": [],
   "source": []
  }
 ],
 "metadata": {
  "kernelspec": {
   "display_name": "Python 3",
   "language": "python",
   "name": "python3"
  },
  "language_info": {
   "codemirror_mode": {
    "name": "ipython",
    "version": 3
   },
   "file_extension": ".py",
   "mimetype": "text/x-python",
   "name": "python",
   "nbconvert_exporter": "python",
   "pygments_lexer": "ipython3",
   "version": "3.10.11"
  }
 },
 "nbformat": 4,
 "nbformat_minor": 5
}
