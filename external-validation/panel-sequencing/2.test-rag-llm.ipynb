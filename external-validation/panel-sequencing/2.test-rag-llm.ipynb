{
 "cells": [
  {
   "cell_type": "code",
   "execution_count": 1,
   "id": "52f953c0",
   "metadata": {},
   "outputs": [],
   "source": [
    "import sys, os, pandas as pd\n",
    "from glob import glob\n",
    "import warnings\n",
    "warnings.filterwarnings('ignore')"
   ]
  },
  {
   "cell_type": "code",
   "execution_count": 2,
   "id": "a492c550",
   "metadata": {},
   "outputs": [],
   "source": [
    "os.chdir('../..')"
   ]
  },
  {
   "cell_type": "code",
   "execution_count": 3,
   "id": "d797e96c",
   "metadata": {},
   "outputs": [],
   "source": [
    "# ================== GENERAL IMPORTS ==================\n",
    "import os\n",
    "import json\n",
    "from dotenv import load_dotenv\n",
    "\n",
    "# ================== UTIL FUNCTIONS ==================\n",
    "from utils.embedding import get_context_db, retrieve_context\n",
    "from utils.prompt import get_prompt\n",
    "from llm.run_RAGLLM import run_RAG\n",
    "\n",
    "\n",
    "# ================== MODEL & API IMPORTS ==================\n",
    "from mistralai.client import MistralClient\n",
    "from openai import OpenAI\n",
    "from llm.inference import run_llm\n",
    "import faiss\n",
    "\n",
    "# import from "
   ]
  },
  {
   "cell_type": "code",
   "execution_count": 4,
   "id": "46f6cbe3",
   "metadata": {},
   "outputs": [],
   "source": [
    "#test input\n",
    "report = 'external-validation/panel-sequencing/reports/test/P-0000036.txt'\n",
    "with open(report, 'r') as f:\n",
    "    report = f.read()"
   ]
  },
  {
   "cell_type": "code",
   "execution_count": 7,
   "id": "0d99e6c7",
   "metadata": {},
   "outputs": [],
   "source": [
    "# --- existing module state ---\n",
    "_READY = False\n",
    "_CLIENT = None\n",
    "_CONTEXT = None\n",
    "_INDEX = None\n",
    "_MODEL_TYPE = None\n",
    "_MODEL_NAME = None\n",
    "_MODEL_EMBED = None\n",
    "\n",
    "def _cache_paths(embed_name: str, version: str = \"v1\"):\n",
    "    os.makedirs(\"indexes\", exist_ok=True)\n",
    "    return (\n",
    "        f\"indexes/{embed_name}__{version}.faiss\",\n",
    "        f\"indexes/{embed_name}__{version}.context.json\",\n",
    "    )"
   ]
  },
  {
   "cell_type": "code",
   "execution_count": 8,
   "id": "1b57e5ac",
   "metadata": {},
   "outputs": [],
   "source": [
    "def init(\n",
    "    context_json_path: str = \"data/structured_context_chunks.json\",\n",
    "    model_type: str = \"gpt\",\n",
    "    model_api: str = \"gpt-4o-2024-05-13\",\n",
    "    *,\n",
    "    force_rebuild: bool = False,\n",
    "):\n",
    "    global _READY, _CLIENT, _CONTEXT, _INDEX, _MODEL_TYPE, _MODEL_NAME, _MODEL_EMBED\n",
    "    if _READY:\n",
    "        return\n",
    "\n",
    "    load_dotenv()\n",
    "    if model_type in [\"gpt\", \"gpt_reasoning\"]:\n",
    "        api_key = os.getenv(\"OPENAI_API_KEY\")\n",
    "        if not api_key: raise RuntimeError(\"OPENAI_API_KEY not set\")\n",
    "        _CLIENT = OpenAI(api_key=api_key)\n",
    "        _MODEL_EMBED = \"text-embedding-3-small\"\n",
    "    elif model_type in [\"mistral\", \"mistral-7b\"]:\n",
    "        api_key = os.getenv(\"MISTRAL_API_KEY\")\n",
    "        if not api_key: raise RuntimeError(\"MISTRAL_API_KEY not set\")\n",
    "        _CLIENT = MistralClient(api_key=api_key)\n",
    "        _MODEL_EMBED = \"mistral-embed\"\n",
    "    else:\n",
    "        raise ValueError(\"Invalid model_type. Please choose from: mistral-7b, mistral, gpt\")\n",
    "\n",
    "    _MODEL_TYPE = model_type\n",
    "    _MODEL_NAME = model_api\n",
    "\n",
    "    index_path, ctx_path = _cache_paths(_MODEL_EMBED)\n",
    "\n",
    "    if (not force_rebuild) and os.path.exists(index_path) and os.path.exists(ctx_path):\n",
    "        with open(ctx_path, \"r\") as f:\n",
    "            _CONTEXT = json.load(f)\n",
    "        _INDEX = faiss.read_index(index_path)\n",
    "    else:\n",
    "        with open(context_json_path, \"r\") as f:\n",
    "            _CONTEXT = json.load(f)\n",
    "        _INDEX = get_context_db(_CONTEXT, _CLIENT, _MODEL_EMBED)\n",
    "        faiss.write_index(_INDEX, index_path)\n",
    "        with open(ctx_path, \"w\") as f:\n",
    "            json.dump(_CONTEXT, f)\n",
    "\n",
    "    _READY = True\n"
   ]
  },
  {
   "cell_type": "code",
   "execution_count": 9,
   "id": "6a4db2a3",
   "metadata": {},
   "outputs": [],
   "source": [
    "init(context_json_path=\"data/structured_context_chunks.json\",\n",
    "     model_type=\"gpt\",\n",
    "     model_api=\"gpt-4o-2024-05-13\",\n",
    "     force_rebuild=False)"
   ]
  },
  {
   "cell_type": "code",
   "execution_count": 10,
   "id": "f58d7e4e",
   "metadata": {},
   "outputs": [
    {
     "name": "stdout",
     "output_type": "stream",
     "text": [
      "Please provide each treatment as a json format with the following JSON schema.\n",
      "    {\n",
      "        \"Treatment 1\": {\n",
      "            \"Disease Name\": ,\n",
      "            \"Disease Phase or Condition\": ,\n",
      "            \"Drug Name\": ,\n",
      "            \"Prior Treatment or Resistance Status\": ,\n",
      "            \"Genomic Features\":\n",
      "            \"Link to FDA-approved Label\": \n",
      "            }\n",
      "    }\n",
      "    Query: \n",
      "The following is a summarized molecular profile from MSK-IMPACT.\n",
      "Based on this profile, answer with the appropriate treatments for this patient in the format above.\n",
      "Patient ID: P-0000036\n",
      "Age: 68\n",
      "Gender: Female\n",
      "Sample ID: P-0000036-T01-IM3\n",
      "Gene Panel: IMPACT341\n",
      "Cancer Type: Lung Adenocarcinoma\n",
      "Sample Type: Primary\n",
      "Tumor Purity: 30.0%\n",
      "=============\n",
      "DNA Variants:\n",
      "AR c.676T>G (p.L226V) - in 14.000000000000002% of 584 reads\n",
      "ERBB2 c.3044G>A (p.G1015E) - in 42.0% of 354 reads\n",
      "FBXW7 c.336_344del (p.D112_E114del) - in 40.0% of 378 reads\n",
      "IRS1 c.1382A>G (p.E461G) - in 44.0% of 418 reads\n",
      "NOTCH4 c.2443T>G (p.C815G) - in 48.0% of 296 reads\n",
      "TP53 c.991C>T (p.Q331*) - in 6.0% of 311 reads\n",
      "TSHR c.202C>T (p.P68S) - in 50.0% of 516 reads\n",
      "CNA Data:\n",
      "No CNA data found for the specified patient ID.\n",
      "Structural Variants:\n",
      "ROS1 - SLC34A2 (TRANSLOCATION)\n",
      "\n",
      "    \n"
     ]
    }
   ],
   "source": [
    "format_input = \\\n",
    "'''\n",
    "The following is a summarized molecular profile from MSK-IMPACT.\n",
    "Based on this profile, answer with the appropriate treatments for this patient in the format above.\n",
    "{report}\n",
    "'''.format(report=report)\n",
    "prompt = get_prompt(strategy = 0, prompt_chunk= format_input)\n",
    "print(prompt)"
   ]
  },
  {
   "cell_type": "code",
   "execution_count": 13,
   "id": "6c5b48f1",
   "metadata": {},
   "outputs": [],
   "source": [
    "def answer(\n",
    "    text: str,\n",
    "    strategy: int = 0,\n",
    "    num_vec: int = 10,\n",
    "    max_len: int = 2048,\n",
    "    temp: float = 0.0,\n",
    "    random_seed: int = 2025,\n",
    "    *,\n",
    "    rag = True\n",
    "):\n",
    "    if not _READY:\n",
    "            raise RuntimeError(\"Call init(...) first.\")\n",
    "    if rag:\n",
    "        out, _ = run_RAG(\n",
    "            _CONTEXT,\n",
    "            text,\n",
    "            strategy,\n",
    "            _INDEX,\n",
    "            _CLIENT,\n",
    "            num_vec,\n",
    "            _MODEL_TYPE,\n",
    "            _MODEL_NAME,\n",
    "            _MODEL_EMBED,\n",
    "            max_len,\n",
    "            temp,\n",
    "            random_seed,\n",
    "        )\n",
    "    return out or \"\""
   ]
  },
  {
   "cell_type": "code",
   "execution_count": 14,
   "id": "e596d99a",
   "metadata": {},
   "outputs": [
    {
     "data": {
      "text/plain": [
       "'{\\n    \"Treatment 1\": {\\n        \"Disease Name\": \"Lung Adenocarcinoma\",\\n        \"Disease Phase or Condition\": \"Locally advanced or metastatic\",\\n        \"Drug Name\": \"Entrectinib\",\\n        \"Prior Treatment or Resistance Status\": \"No satisfactory standard therapy\",\\n        \"Genomic Features\": \"ROS1 - SLC34A2 (TRANSLOCATION)\",\\n        \"Link to FDA-approved Label\": \"https://www.accessdata.fda.gov/drugsatfda_docs/label/2023/212725Orig1s009lbl.pdf\"\\n    }\\n}'"
      ]
     },
     "execution_count": 14,
     "metadata": {},
     "output_type": "execute_result"
    }
   ],
   "source": [
    "answer(prompt, strategy=0, rag=True)"
   ]
  },
  {
   "cell_type": "code",
   "execution_count": null,
   "id": "f8d33a25",
   "metadata": {},
   "outputs": [],
   "source": [
    "{\\n    \n",
    " \"Treatment 1\": \n",
    " {\\n        \n",
    "  \"Disease Name\": \"Lung Adenocarcinoma\",\\n        \n",
    "  \"Disease Phase or Condition\": \"Locally advanced or metastatic\",\\n        \n",
    "  \"Drug Name\": \"Entrectinib\",\\n        \n",
    "  \"Prior Treatment or Resistance Status\": \"No satisfactory standard therapy\",\\n       \n",
    "  \"Genomic Features\": \"ROS1 - SLC34A2 (TRANSLOCATION)\",\\n       \n",
    "  \"Link to FDA-approved Label\": \"https://www.accessdata.fda.gov/drugsatfda_docs/label/2023/212725Orig1s009lbl.pdf\"\\n    \n",
    "  }\\n}'"
   ]
  },
  {
   "cell_type": "code",
   "execution_count": null,
   "id": "352ae2fb",
   "metadata": {},
   "outputs": [],
   "source": []
  }
 ],
 "metadata": {
  "kernelspec": {
   "display_name": "Python 3",
   "language": "python",
   "name": "python3"
  },
  "language_info": {
   "codemirror_mode": {
    "name": "ipython",
    "version": 3
   },
   "file_extension": ".py",
   "mimetype": "text/x-python",
   "name": "python",
   "nbconvert_exporter": "python",
   "pygments_lexer": "ipython3",
   "version": "3.10.11"
  }
 },
 "nbformat": 4,
 "nbformat_minor": 5
}
