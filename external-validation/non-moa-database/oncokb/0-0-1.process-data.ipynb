{
 "cells": [
  {
   "cell_type": "code",
   "execution_count": 1,
   "id": "fed79e8d",
   "metadata": {},
   "outputs": [],
   "source": [
    "import pandas as pd \n",
    "import numpy as np\n",
    "import os\n",
    "from tqdm import tqdm\n",
    "from glob import glob\n",
    "import requests\n",
    "import ast\n",
    "from bs4 import BeautifulSoup\n",
    "os.makedirs('processed-data', exist_ok=True)"
   ]
  },
  {
   "cell_type": "code",
   "execution_count": 19,
   "id": "42804487",
   "metadata": {},
   "outputs": [
    {
     "name": "stdout",
     "output_type": "stream",
     "text": [
      "(398, 12)\n"
     ]
    },
    {
     "data": {
      "text/plain": [
       "alterations\n",
       "Oncogenic Mutations                                                                   264\n",
       "Amplification                                                                         126\n",
       "Deletion                                                                                6\n",
       "Oncogenic Mutations (excluding Y646S, Y646H, Y646C, Y646F, Y646N, A682G and A692V)      2\n",
       "Name: count, dtype: int64"
      ]
     },
     "execution_count": 19,
     "metadata": {},
     "output_type": "execute_result"
    }
   ],
   "source": [
    "#copy number alterations\n",
    "df_all = pd.DataFrame()\n",
    "for f in glob('raw-data/cna/*.csv'):\n",
    "    df = pd.read_csv(f)\n",
    "    for c in df.columns:\n",
    "        df[c] = df[c].apply(lambda x: ast.literal_eval(x) if isinstance(x, str) and (x.startswith('[') and x.endswith(']')) or (x.startswith('{') and x.endswith('}')) else x)\n",
    "    df['gene'] = f.split('/')[-1].split('_')[0]\n",
    "    df['alterations'] = df['alterations'].apply(lambda x: ','.join(x))\n",
    "    df['drugs'] = df['drugs'].apply(lambda x: ','.join([i['drugName'] for i in x]))\n",
    "    df['approvedIndications'] = df['approvedIndications'].apply(lambda x: x[0] if len(x) > 0 else np.nan)\n",
    "    df['cancer_type_raw_text'] = df['levelAssociatedCancerType']\n",
    "    df['levelAssociatedCancerType'] = df['levelAssociatedCancerType'].apply(lambda x: x['name'] if x['name'] != '' else x['mainType']['name'])\n",
    "    df['levelExcludedCancerTypes'] = df['levelExcludedCancerTypes'].apply(lambda x: ','.join(x))\n",
    "    df['pmids'] = df['pmids'].apply(lambda x: ','.join(x))\n",
    "    df['abstracts'] = df['abstracts'].apply(lambda x: ','.join([i['link'] for i in x]))\n",
    "    df_all = pd.concat([df_all, df], axis=0)\n",
    "df_all = df_all.reset_index(drop = True).sort_values(by = ['level', 'gene'])\n",
    "print(df_all.shape)\n",
    "df_all.to_csv('processed-data/oncokb_cna.csv', index=False)\n",
    "df_all.alterations.value_counts()"
   ]
  },
  {
   "cell_type": "code",
   "execution_count": 20,
   "id": "56e64696",
   "metadata": {},
   "outputs": [
    {
     "name": "stdout",
     "output_type": "stream",
     "text": [
      "(1667, 13)\n"
     ]
    },
    {
     "data": {
      "text/plain": [
       "alterations\n",
       "Oncogenic Mutations                                                                                                                                                                                                              735\n",
       "D368N,D275V,D275G,D275A,A463V,A463T,A463D,A288V,S461L,K425R,V464A,V411L,P286R,P286S,P286H,S459F,L424V,L424I,F367S,S297F,S297Y,A456P,P436R,M295R,V411M,M444K,D368Y,F367V,S459Y,P286L,Y458H,Y458C,S461T,S461P,P436S,P436H,F367L    296\n",
       "Oncogenic Mutations (excluding V600)                                                                                                                                                                                              48\n",
       "R132S,R132L,R132C,R132H,R132G                                                                                                                                                                                                     35\n",
       "D402N,L474P,S478N,E318K                                                                                                                                                                                                           32\n",
       "                                                                                                                                                                                                                                ... \n",
       "T316A                                                                                                                                                                                                                              1\n",
       "C481F                                                                                                                                                                                                                              1\n",
       "C481R                                                                                                                                                                                                                              1\n",
       "Y220C                                                                                                                                                                                                                              1\n",
       "V422del                                                                                                                                                                                                                            1\n",
       "Name: count, Length: 106, dtype: int64"
      ]
     },
     "execution_count": 20,
     "metadata": {},
     "output_type": "execute_result"
    }
   ],
   "source": [
    "#protein change\n",
    "df_all = pd.DataFrame()\n",
    "for f in glob('raw-data/protein_change/*.csv'):\n",
    "    df = pd.read_csv(f)\n",
    "    for c in df.columns:\n",
    "        df[c] = df[c].apply(lambda x: ast.literal_eval(x) if isinstance(x, str) and (x.startswith('[') and x.endswith(']')) or (x.startswith('{') and x.endswith('}')) else x)\n",
    "    df['gene'] = f.split('/')[-1].split('_')[0]\n",
    "    df['change'] =  f.split('/')[-1].split('_')[1].replace('.csv', '')\n",
    "    df['alterations'] = df['alterations'].apply(lambda x: ','.join(x))\n",
    "    df['drugs'] = df['drugs'].apply(lambda x: ','.join([i['drugName'] for i in x]))\n",
    "    df['approvedIndications'] = df['approvedIndications'].apply(lambda x: x[0] if len(x) > 0 else np.nan)\n",
    "    df['cancer_type_raw_text'] = df['levelAssociatedCancerType']\n",
    "    df['levelAssociatedCancerType'] = df['levelAssociatedCancerType'].apply(lambda x: x['name'] if x['name'] != '' else x['mainType']['name'])\n",
    "    df['levelExcludedCancerTypes'] = df['levelExcludedCancerTypes'].apply(lambda x: x)\n",
    "    df['pmids'] = df['pmids'].apply(lambda x: ','.join(x))\n",
    "    df['abstracts'] = df['abstracts'].apply(lambda x: ','.join([i['link'] for i in x]))\n",
    "    df_all = pd.concat([df_all, df], axis=0)\n",
    "df_all = df_all.reset_index(drop = True).sort_values(by = ['level', 'gene'])\n",
    "print(df_all.shape)\n",
    "df_all.to_csv('processed-data/oncokb_protein_change.csv', index=False)\n",
    "df_all.alterations.value_counts()"
   ]
  },
  {
   "cell_type": "code",
   "execution_count": 21,
   "id": "4f0a9bb4",
   "metadata": {},
   "outputs": [
    {
     "name": "stdout",
     "output_type": "stream",
     "text": [
      "(714, 12)\n"
     ]
    },
    {
     "data": {
      "text/plain": [
       "alterations\n",
       "Fusions                                 427\n",
       "Oncogenic Mutations                     119\n",
       "BCR-ABL1 Fusion                          70\n",
       "Oncogenic Mutations (excluding V600)     56\n",
       "PML-RARA Fusion                          21\n",
       "EWSR1-FLI1 Fusion                        14\n",
       "COL1A1-PDGFB Fusion                       7\n",
       "Name: count, dtype: int64"
      ]
     },
     "execution_count": 21,
     "metadata": {},
     "output_type": "execute_result"
    }
   ],
   "source": [
    "#structural variants\n",
    "df_all = pd.DataFrame()\n",
    "for f in glob('raw-data/sv/*.csv'):\n",
    "    df = pd.read_csv(f)\n",
    "    for c in df.columns:\n",
    "        df[c] = df[c].apply(lambda x: ast.literal_eval(x) if isinstance(x, str) and (x.startswith('[') and x.endswith(']')) or (x.startswith('{') and x.endswith('}')) else x)\n",
    "    df['gene'] = f.split('/')[-1].split('_')[0].replace('.csv','')\n",
    "    #df['change'] =  f.split('/')[-1].split('_')[1].replace('.csv', '')\n",
    "    df['alterations'] = df['alterations'].apply(lambda x: ','.join(x))\n",
    "    df['drugs'] = df['drugs'].apply(lambda x: ','.join([i['drugName'] for i in x]))\n",
    "    df['approvedIndications'] = df['approvedIndications'].apply(lambda x: x[0] if len(x) > 0 else np.nan)\n",
    "    df['cancer_type_raw_text'] = df['levelAssociatedCancerType']\n",
    "    df['levelAssociatedCancerType'] = df['levelAssociatedCancerType'].apply(lambda x: x['name'] if x['name'] != '' else x['mainType']['name'])\n",
    "    df['levelExcludedCancerTypes'] = df['levelExcludedCancerTypes'].apply(lambda x: x[0]['name'] if len(x) > 0 else np.nan)#x['name'] != '' else x['mainType']['name'])\n",
    "    df['pmids'] = df['pmids'].apply(lambda x: ','.join(x))\n",
    "    df['abstracts'] = df['abstracts'].apply(lambda x: ','.join([i['link'] for i in x]))\n",
    "    df_all = pd.concat([df_all, df], axis=0)\n",
    "df_all = df_all.reset_index(drop = True).sort_values(by = ['level', 'gene'])\n",
    "print(df_all.shape)\n",
    "df_all.to_csv('processed-data/oncokb_structural_variants.csv', index=False)\n",
    "df_all.alterations.value_counts()"
   ]
  },
  {
   "cell_type": "code",
   "execution_count": 22,
   "id": "dfe5f15e",
   "metadata": {},
   "outputs": [
    {
     "name": "stdout",
     "output_type": "stream",
     "text": [
      "(625, 13)\n"
     ]
    },
    {
     "data": {
      "text/html": [
       "<div>\n",
       "<style scoped>\n",
       "    .dataframe tbody tr th:only-of-type {\n",
       "        vertical-align: middle;\n",
       "    }\n",
       "\n",
       "    .dataframe tbody tr th {\n",
       "        vertical-align: top;\n",
       "    }\n",
       "\n",
       "    .dataframe thead th {\n",
       "        text-align: right;\n",
       "    }\n",
       "</style>\n",
       "<table border=\"1\" class=\"dataframe\">\n",
       "  <thead>\n",
       "    <tr style=\"text-align: right;\">\n",
       "      <th></th>\n",
       "      <th>alterations</th>\n",
       "      <th>drugs</th>\n",
       "      <th>approvedIndications</th>\n",
       "      <th>level</th>\n",
       "      <th>fdaLevel</th>\n",
       "      <th>levelAssociatedCancerType</th>\n",
       "      <th>levelExcludedCancerTypes</th>\n",
       "      <th>pmids</th>\n",
       "      <th>abstracts</th>\n",
       "      <th>description</th>\n",
       "      <th>gene</th>\n",
       "      <th>change</th>\n",
       "      <th>cancer_type_raw_text</th>\n",
       "    </tr>\n",
       "  </thead>\n",
       "  <tbody>\n",
       "    <tr>\n",
       "      <th>0</th>\n",
       "      <td>T315I</td>\n",
       "      <td>Ponatinib</td>\n",
       "      <td>NaN</td>\n",
       "      <td>LEVEL_1</td>\n",
       "      <td>LEVEL_Fda2</td>\n",
       "      <td>B-Lymphoblastic Leukemia/Lymphoma</td>\n",
       "      <td>[]</td>\n",
       "      <td>24180494,23190221,29567798</td>\n",
       "      <td>NaN</td>\n",
       "      <td>Ponatinib is a small molecule kinase inhibitor...</td>\n",
       "      <td>ABL1</td>\n",
       "      <td>t315i</td>\n",
       "      <td>{'id': 95, 'code': 'BLL', 'color': 'LimeGreen'...</td>\n",
       "    </tr>\n",
       "    <tr>\n",
       "      <th>1</th>\n",
       "      <td>T315I</td>\n",
       "      <td>Ponatinib</td>\n",
       "      <td>NaN</td>\n",
       "      <td>LEVEL_1</td>\n",
       "      <td>LEVEL_Fda2</td>\n",
       "      <td>Chronic Myelogenous Leukemia</td>\n",
       "      <td>[]</td>\n",
       "      <td>24180494,23190221,19878872</td>\n",
       "      <td>NaN</td>\n",
       "      <td>Ponatinib is a small molecule kinase inhibitor...</td>\n",
       "      <td>ABL1</td>\n",
       "      <td>t315i</td>\n",
       "      <td>{'id': 560, 'code': 'CML', 'color': 'LightSalm...</td>\n",
       "    </tr>\n",
       "    <tr>\n",
       "      <th>2</th>\n",
       "      <td>T315I</td>\n",
       "      <td>Asciminib</td>\n",
       "      <td>NaN</td>\n",
       "      <td>LEVEL_1</td>\n",
       "      <td>LEVEL_Fda2</td>\n",
       "      <td>Chronic Myelogenous Leukemia</td>\n",
       "      <td>[]</td>\n",
       "      <td>NaN</td>\n",
       "      <td>https://ash.confex.com/ash/2020/webprogram/Pap...</td>\n",
       "      <td>Asciminib is a STAMP (Specifically Targeting t...</td>\n",
       "      <td>ABL1</td>\n",
       "      <td>t315i</td>\n",
       "      <td>{'id': 560, 'code': 'CML', 'color': 'LightSalm...</td>\n",
       "    </tr>\n",
       "    <tr>\n",
       "      <th>3</th>\n",
       "      <td>E17K</td>\n",
       "      <td>Capivasertib,Fulvestrant</td>\n",
       "      <td>NaN</td>\n",
       "      <td>LEVEL_1</td>\n",
       "      <td>LEVEL_Fda2</td>\n",
       "      <td>Breast Cancer</td>\n",
       "      <td>[]</td>\n",
       "      <td>37256976</td>\n",
       "      <td>NaN</td>\n",
       "      <td>Capivasertib is an orally available, ATP-compe...</td>\n",
       "      <td>AKT1</td>\n",
       "      <td>e17k</td>\n",
       "      <td>{'id': 873, 'code': '', 'color': 'HotPink', 'n...</td>\n",
       "    </tr>\n",
       "    <tr>\n",
       "      <th>4</th>\n",
       "      <td>V600E</td>\n",
       "      <td>Dabrafenib</td>\n",
       "      <td>Dabrafenib is FDA-approved for BRAF V600E muta...</td>\n",
       "      <td>LEVEL_1</td>\n",
       "      <td>LEVEL_Fda2</td>\n",
       "      <td>Melanoma</td>\n",
       "      <td>[]</td>\n",
       "      <td>22608338,23051966,22735384</td>\n",
       "      <td>NaN</td>\n",
       "      <td>Dabrafenib is an orally bioavailable RAF inhib...</td>\n",
       "      <td>BRAF</td>\n",
       "      <td>v600e</td>\n",
       "      <td>{'id': 453, 'code': 'MEL', 'color': 'Black', '...</td>\n",
       "    </tr>\n",
       "  </tbody>\n",
       "</table>\n",
       "</div>"
      ],
      "text/plain": [
       "  alterations                     drugs  \\\n",
       "0       T315I                 Ponatinib   \n",
       "1       T315I                 Ponatinib   \n",
       "2       T315I                 Asciminib   \n",
       "3        E17K  Capivasertib,Fulvestrant   \n",
       "4       V600E                Dabrafenib   \n",
       "\n",
       "                                 approvedIndications    level    fdaLevel  \\\n",
       "0                                                NaN  LEVEL_1  LEVEL_Fda2   \n",
       "1                                                NaN  LEVEL_1  LEVEL_Fda2   \n",
       "2                                                NaN  LEVEL_1  LEVEL_Fda2   \n",
       "3                                                NaN  LEVEL_1  LEVEL_Fda2   \n",
       "4  Dabrafenib is FDA-approved for BRAF V600E muta...  LEVEL_1  LEVEL_Fda2   \n",
       "\n",
       "           levelAssociatedCancerType levelExcludedCancerTypes  \\\n",
       "0  B-Lymphoblastic Leukemia/Lymphoma                       []   \n",
       "1       Chronic Myelogenous Leukemia                       []   \n",
       "2       Chronic Myelogenous Leukemia                       []   \n",
       "3                      Breast Cancer                       []   \n",
       "4                           Melanoma                       []   \n",
       "\n",
       "                        pmids  \\\n",
       "0  24180494,23190221,29567798   \n",
       "1  24180494,23190221,19878872   \n",
       "2                         NaN   \n",
       "3                    37256976   \n",
       "4  22608338,23051966,22735384   \n",
       "\n",
       "                                           abstracts  \\\n",
       "0                                                NaN   \n",
       "1                                                NaN   \n",
       "2  https://ash.confex.com/ash/2020/webprogram/Pap...   \n",
       "3                                                NaN   \n",
       "4                                                NaN   \n",
       "\n",
       "                                         description  gene change  \\\n",
       "0  Ponatinib is a small molecule kinase inhibitor...  ABL1  t315i   \n",
       "1  Ponatinib is a small molecule kinase inhibitor...  ABL1  t315i   \n",
       "2  Asciminib is a STAMP (Specifically Targeting t...  ABL1  t315i   \n",
       "3  Capivasertib is an orally available, ATP-compe...  AKT1   e17k   \n",
       "4  Dabrafenib is an orally bioavailable RAF inhib...  BRAF  v600e   \n",
       "\n",
       "                                cancer_type_raw_text  \n",
       "0  {'id': 95, 'code': 'BLL', 'color': 'LimeGreen'...  \n",
       "1  {'id': 560, 'code': 'CML', 'color': 'LightSalm...  \n",
       "2  {'id': 560, 'code': 'CML', 'color': 'LightSalm...  \n",
       "3  {'id': 873, 'code': '', 'color': 'HotPink', 'n...  \n",
       "4  {'id': 453, 'code': 'MEL', 'color': 'Black', '...  "
      ]
     },
     "execution_count": 22,
     "metadata": {},
     "output_type": "execute_result"
    }
   ],
   "source": [
    "aggr_df = pd.concat([\n",
    "    pd.read_csv('processed-data/oncokb_protein_change.csv'),\n",
    "    pd.read_csv('processed-data/oncokb_structural_variants.csv'),\n",
    "    pd.read_csv('processed-data/oncokb_cna.csv')], axis=0)\n",
    "aggr_df = aggr_df.drop_duplicates(subset = ['alterations', 'drugs', 'approvedIndications', 'level', 'levelAssociatedCancerType', 'levelExcludedCancerTypes', 'abstracts','pmids', 'description', 'fdaLevel'], keep = 'first')\n",
    "aggr_df.to_csv('processed-data/oncokb_all.csv', index=False)\n",
    "print(aggr_df.shape)\n",
    "aggr_df.head()"
   ]
  },
  {
   "cell_type": "code",
   "execution_count": 23,
   "id": "3cb7ce86",
   "metadata": {},
   "outputs": [
    {
     "data": {
      "text/plain": [
       "level\n",
       "LEVEL_1     221\n",
       "LEVEL_2     140\n",
       "LEVEL_3A    104\n",
       "LEVEL_4      71\n",
       "LEVEL_R2     61\n",
       "LEVEL_R1     28\n",
       "Name: count, dtype: int64"
      ]
     },
     "execution_count": 23,
     "metadata": {},
     "output_type": "execute_result"
    }
   ],
   "source": [
    "aggr_df.level.value_counts()"
   ]
  },
  {
   "cell_type": "code",
   "execution_count": null,
   "id": "89d181ab",
   "metadata": {},
   "outputs": [],
   "source": []
  }
 ],
 "metadata": {
  "kernelspec": {
   "display_name": "Python 3",
   "language": "python",
   "name": "python3"
  },
  "language_info": {
   "codemirror_mode": {
    "name": "ipython",
    "version": 3
   },
   "file_extension": ".py",
   "mimetype": "text/x-python",
   "name": "python",
   "nbconvert_exporter": "python",
   "pygments_lexer": "ipython3",
   "version": "3.10.11"
  }
 },
 "nbformat": 4,
 "nbformat_minor": 5
}
