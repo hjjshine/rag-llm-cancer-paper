{
 "cells": [
  {
   "cell_type": "code",
   "execution_count": 35,
   "id": "fed79e8d",
   "metadata": {},
   "outputs": [],
   "source": [
    "import pandas as pd \n",
    "import numpy as np\n",
    "import os\n",
    "from tqdm import tqdm\n",
    "from glob import glob\n",
    "import requests\n",
    "import ast\n",
    "from bs4 import BeautifulSoup\n",
    "os.makedirs('processed-data', exist_ok=True)"
   ]
  },
  {
   "cell_type": "code",
   "execution_count": 36,
   "id": "42804487",
   "metadata": {},
   "outputs": [
    {
     "name": "stdout",
     "output_type": "stream",
     "text": [
      "(398, 12)\n"
     ]
    },
    {
     "data": {
      "text/plain": [
       "alterations\n",
       "Oncogenic Mutations                                                                   264\n",
       "Amplification                                                                         126\n",
       "Deletion                                                                                6\n",
       "Oncogenic Mutations (excluding Y646S, Y646H, Y646C, Y646F, Y646N, A682G and A692V)      2\n",
       "Name: count, dtype: int64"
      ]
     },
     "execution_count": 36,
     "metadata": {},
     "output_type": "execute_result"
    }
   ],
   "source": [
    "#copy number alterations\n",
    "df_all = pd.DataFrame()\n",
    "for f in glob('raw-data/cna/*.csv'):\n",
    "    df = pd.read_csv(f)\n",
    "    for c in df.columns:\n",
    "        df[c] = df[c].apply(lambda x: ast.literal_eval(x) if isinstance(x, str) and (x.startswith('[') and x.endswith(']')) or (x.startswith('{') and x.endswith('}')) else x)\n",
    "    df['gene'] = f.split('/')[-1].split('_')[0]\n",
    "    df['alterations'] = df['alterations'].apply(lambda x: ','.join(x))\n",
    "    df['drugs'] = df['drugs'].apply(lambda x: ','.join([i['drugName'] for i in x]))\n",
    "    df['approvedIndications'] = df['approvedIndications'].apply(lambda x: x[0] if len(x) > 0 else np.nan)\n",
    "    df['cancer_type_raw_text'] = df['levelAssociatedCancerType']\n",
    "    df['levelAssociatedCancerType'] = df['levelAssociatedCancerType'].apply(lambda x: x['name'] if x['name'] != '' else x['mainType']['name'])\n",
    "    df['levelExcludedCancerTypes'] = df['levelExcludedCancerTypes'].apply(lambda x: ','.join(x))\n",
    "    df['pmids'] = df['pmids'].apply(lambda x: ','.join(x))\n",
    "    df['abstracts'] = df['abstracts'].apply(lambda x: ','.join([i['link'] for i in x]))\n",
    "    df_all = pd.concat([df_all, df], axis=0)\n",
    "df_all = df_all.reset_index(drop = True).sort_values(by = ['level', 'gene'])\n",
    "print(df_all.shape)\n",
    "df_all.to_csv('processed-data/oncokb_cna.csv', index=False)\n",
    "df_all.alterations.value_counts()"
   ]
  },
  {
   "cell_type": "code",
   "execution_count": 38,
   "id": "56e64696",
   "metadata": {},
   "outputs": [
    {
     "name": "stdout",
     "output_type": "stream",
     "text": [
      "(398, 13)\n"
     ]
    },
    {
     "data": {
      "text/plain": [
       "alterations\n",
       "Oncogenic Mutations                                                                   264\n",
       "Amplification                                                                         126\n",
       "Deletion                                                                                6\n",
       "Oncogenic Mutations (excluding Y646S, Y646H, Y646C, Y646F, Y646N, A682G and A692V)      2\n",
       "Name: count, dtype: int64"
      ]
     },
     "execution_count": 38,
     "metadata": {},
     "output_type": "execute_result"
    }
   ],
   "source": [
    "#protein change\n",
    "df_all = pd.DataFrame()\n",
    "for f in glob('raw-data/cna/*.csv'):\n",
    "    df = pd.read_csv(f)\n",
    "    for c in df.columns:\n",
    "        df[c] = df[c].apply(lambda x: ast.literal_eval(x) if isinstance(x, str) and (x.startswith('[') and x.endswith(']')) or (x.startswith('{') and x.endswith('}')) else x)\n",
    "    df['gene'] = f.split('/')[-1].split('_')[0]\n",
    "    df['change'] =  f.split('/')[-1].split('_')[1].replace('.csv', '')\n",
    "    df['alterations'] = df['alterations'].apply(lambda x: ','.join(x))\n",
    "    df['drugs'] = df['drugs'].apply(lambda x: ','.join([i['drugName'] for i in x]))\n",
    "    df['approvedIndications'] = df['approvedIndications'].apply(lambda x: x[0] if len(x) > 0 else np.nan)\n",
    "    df['cancer_type_raw_text'] = df['levelAssociatedCancerType']\n",
    "    df['levelAssociatedCancerType'] = df['levelAssociatedCancerType'].apply(lambda x: x['name'] if x['name'] != '' else x['mainType']['name'])\n",
    "    df['levelExcludedCancerTypes'] = df['levelExcludedCancerTypes'].apply(lambda x: ','.join(x))\n",
    "    df['pmids'] = df['pmids'].apply(lambda x: ','.join(x))\n",
    "    df['abstracts'] = df['abstracts'].apply(lambda x: ','.join([i['link'] for i in x]))\n",
    "    df_all = pd.concat([df_all, df], axis=0)\n",
    "df_all = df_all.reset_index(drop = True).sort_values(by = ['level', 'gene'])\n",
    "print(df_all.shape)\n",
    "df_all.to_csv('processed-data/oncokb_protein_change.csv', index=False)\n",
    "df_all.alterations.value_counts()"
   ]
  },
  {
   "cell_type": "code",
   "execution_count": 41,
   "id": "4f0a9bb4",
   "metadata": {},
   "outputs": [
    {
     "name": "stdout",
     "output_type": "stream",
     "text": [
      "(714, 12)\n"
     ]
    },
    {
     "data": {
      "text/plain": [
       "alterations\n",
       "Fusions                                 427\n",
       "Oncogenic Mutations                     119\n",
       "BCR-ABL1 Fusion                          70\n",
       "Oncogenic Mutations (excluding V600)     56\n",
       "PML-RARA Fusion                          21\n",
       "EWSR1-FLI1 Fusion                        14\n",
       "COL1A1-PDGFB Fusion                       7\n",
       "Name: count, dtype: int64"
      ]
     },
     "execution_count": 41,
     "metadata": {},
     "output_type": "execute_result"
    }
   ],
   "source": [
    "#structural variants\n",
    "df_all = pd.DataFrame()\n",
    "for f in glob('raw-data/sv/*.csv'):\n",
    "    df = pd.read_csv(f)\n",
    "    for c in df.columns:\n",
    "        df[c] = df[c].apply(lambda x: ast.literal_eval(x) if isinstance(x, str) and (x.startswith('[') and x.endswith(']')) or (x.startswith('{') and x.endswith('}')) else x)\n",
    "    df['gene'] = f.split('/')[-1].split('_')[0].replace('.csv','')\n",
    "    #df['change'] =  f.split('/')[-1].split('_')[1].replace('.csv', '')\n",
    "    df['alterations'] = df['alterations'].apply(lambda x: ','.join(x))\n",
    "    df['drugs'] = df['drugs'].apply(lambda x: ','.join([i['drugName'] for i in x]))\n",
    "    df['approvedIndications'] = df['approvedIndications'].apply(lambda x: x[0] if len(x) > 0 else np.nan)\n",
    "    df['cancer_type_raw_text'] = df['levelAssociatedCancerType']\n",
    "    df['levelAssociatedCancerType'] = df['levelAssociatedCancerType'].apply(lambda x: x['name'] if x['name'] != '' else x['mainType']['name'])\n",
    "    df['levelExcludedCancerTypes'] = df['levelExcludedCancerTypes'].apply(lambda x: x[0]['name'] if len(x) > 0 else np.nan)#x['name'] != '' else x['mainType']['name'])\n",
    "    df['pmids'] = df['pmids'].apply(lambda x: ','.join(x))\n",
    "    df['abstracts'] = df['abstracts'].apply(lambda x: ','.join([i['link'] for i in x]))\n",
    "    df_all = pd.concat([df_all, df], axis=0)\n",
    "df_all = df_all.reset_index(drop = True).sort_values(by = ['level', 'gene'])\n",
    "print(df_all.shape)\n",
    "df_all.to_csv('processed-data/oncokb_structural_variants.csv', index=False)\n",
    "df_all.alterations.value_counts()"
   ]
  },
  {
   "cell_type": "code",
   "execution_count": 43,
   "id": "dfe5f15e",
   "metadata": {},
   "outputs": [
    {
     "name": "stdout",
     "output_type": "stream",
     "text": [
      "(291, 13)\n"
     ]
    },
    {
     "data": {
      "text/html": [
       "<div>\n",
       "<style scoped>\n",
       "    .dataframe tbody tr th:only-of-type {\n",
       "        vertical-align: middle;\n",
       "    }\n",
       "\n",
       "    .dataframe tbody tr th {\n",
       "        vertical-align: top;\n",
       "    }\n",
       "\n",
       "    .dataframe thead th {\n",
       "        text-align: right;\n",
       "    }\n",
       "</style>\n",
       "<table border=\"1\" class=\"dataframe\">\n",
       "  <thead>\n",
       "    <tr style=\"text-align: right;\">\n",
       "      <th></th>\n",
       "      <th>alterations</th>\n",
       "      <th>drugs</th>\n",
       "      <th>approvedIndications</th>\n",
       "      <th>level</th>\n",
       "      <th>fdaLevel</th>\n",
       "      <th>levelAssociatedCancerType</th>\n",
       "      <th>levelExcludedCancerTypes</th>\n",
       "      <th>pmids</th>\n",
       "      <th>abstracts</th>\n",
       "      <th>description</th>\n",
       "      <th>gene</th>\n",
       "      <th>change</th>\n",
       "      <th>cancer_type_raw_text</th>\n",
       "    </tr>\n",
       "  </thead>\n",
       "  <tbody>\n",
       "    <tr>\n",
       "      <th>0</th>\n",
       "      <td>Oncogenic Mutations</td>\n",
       "      <td>Olaparib</td>\n",
       "      <td>NaN</td>\n",
       "      <td>LEVEL_1</td>\n",
       "      <td>LEVEL_Fda2</td>\n",
       "      <td>Prostate Cancer, NOS</td>\n",
       "      <td>NaN</td>\n",
       "      <td>32343890</td>\n",
       "      <td>NaN</td>\n",
       "      <td>Olaparib is a PARP inhibitor that is FDA-appro...</td>\n",
       "      <td>ATM</td>\n",
       "      <td>LOSS</td>\n",
       "      <td>{'id': 944, 'code': '', 'color': 'Cyan', 'name...</td>\n",
       "    </tr>\n",
       "    <tr>\n",
       "      <th>1</th>\n",
       "      <td>Oncogenic Mutations</td>\n",
       "      <td>Olaparib</td>\n",
       "      <td>NaN</td>\n",
       "      <td>LEVEL_1</td>\n",
       "      <td>LEVEL_Fda2</td>\n",
       "      <td>Prostate Cancer</td>\n",
       "      <td>NaN</td>\n",
       "      <td>32343890</td>\n",
       "      <td>NaN</td>\n",
       "      <td>Olaparib is a PARP inhibitor that is FDA-appro...</td>\n",
       "      <td>ATM</td>\n",
       "      <td>LOSS</td>\n",
       "      <td>{'id': 936, 'code': '', 'color': 'Cyan', 'name...</td>\n",
       "    </tr>\n",
       "    <tr>\n",
       "      <th>2</th>\n",
       "      <td>Oncogenic Mutations</td>\n",
       "      <td>Talazoparib,Enzalutamide</td>\n",
       "      <td>NaN</td>\n",
       "      <td>LEVEL_1</td>\n",
       "      <td>LEVEL_Fda2</td>\n",
       "      <td>Prostate Cancer, NOS</td>\n",
       "      <td>NaN</td>\n",
       "      <td>37285865</td>\n",
       "      <td>NaN</td>\n",
       "      <td>Talazoparib, a small molecule PARP inhibitor, ...</td>\n",
       "      <td>ATM</td>\n",
       "      <td>LOSS</td>\n",
       "      <td>{'id': 944, 'code': '', 'color': 'Cyan', 'name...</td>\n",
       "    </tr>\n",
       "    <tr>\n",
       "      <th>3</th>\n",
       "      <td>Oncogenic Mutations</td>\n",
       "      <td>Talazoparib,Enzalutamide</td>\n",
       "      <td>NaN</td>\n",
       "      <td>LEVEL_1</td>\n",
       "      <td>LEVEL_Fda2</td>\n",
       "      <td>Prostate Cancer</td>\n",
       "      <td>NaN</td>\n",
       "      <td>37285865</td>\n",
       "      <td>NaN</td>\n",
       "      <td>Talazoparib, a small molecule PARP inhibitor, ...</td>\n",
       "      <td>ATM</td>\n",
       "      <td>LOSS</td>\n",
       "      <td>{'id': 936, 'code': '', 'color': 'Cyan', 'name...</td>\n",
       "    </tr>\n",
       "    <tr>\n",
       "      <th>8</th>\n",
       "      <td>Oncogenic Mutations</td>\n",
       "      <td>Talazoparib,Enzalutamide</td>\n",
       "      <td>NaN</td>\n",
       "      <td>LEVEL_1</td>\n",
       "      <td>LEVEL_Fda2</td>\n",
       "      <td>Prostate Cancer, NOS</td>\n",
       "      <td>NaN</td>\n",
       "      <td>37285865</td>\n",
       "      <td>NaN</td>\n",
       "      <td>Talazoparib, a small molecule PARP inhibitor, ...</td>\n",
       "      <td>ATR</td>\n",
       "      <td>LOSS</td>\n",
       "      <td>{'id': 944, 'code': '', 'color': 'Cyan', 'name...</td>\n",
       "    </tr>\n",
       "  </tbody>\n",
       "</table>\n",
       "</div>"
      ],
      "text/plain": [
       "           alterations                     drugs approvedIndications    level  \\\n",
       "0  Oncogenic Mutations                  Olaparib                 NaN  LEVEL_1   \n",
       "1  Oncogenic Mutations                  Olaparib                 NaN  LEVEL_1   \n",
       "2  Oncogenic Mutations  Talazoparib,Enzalutamide                 NaN  LEVEL_1   \n",
       "3  Oncogenic Mutations  Talazoparib,Enzalutamide                 NaN  LEVEL_1   \n",
       "8  Oncogenic Mutations  Talazoparib,Enzalutamide                 NaN  LEVEL_1   \n",
       "\n",
       "     fdaLevel levelAssociatedCancerType  levelExcludedCancerTypes     pmids  \\\n",
       "0  LEVEL_Fda2      Prostate Cancer, NOS                       NaN  32343890   \n",
       "1  LEVEL_Fda2           Prostate Cancer                       NaN  32343890   \n",
       "2  LEVEL_Fda2      Prostate Cancer, NOS                       NaN  37285865   \n",
       "3  LEVEL_Fda2           Prostate Cancer                       NaN  37285865   \n",
       "8  LEVEL_Fda2      Prostate Cancer, NOS                       NaN  37285865   \n",
       "\n",
       "  abstracts                                        description gene change  \\\n",
       "0       NaN  Olaparib is a PARP inhibitor that is FDA-appro...  ATM   LOSS   \n",
       "1       NaN  Olaparib is a PARP inhibitor that is FDA-appro...  ATM   LOSS   \n",
       "2       NaN  Talazoparib, a small molecule PARP inhibitor, ...  ATM   LOSS   \n",
       "3       NaN  Talazoparib, a small molecule PARP inhibitor, ...  ATM   LOSS   \n",
       "8       NaN  Talazoparib, a small molecule PARP inhibitor, ...  ATR   LOSS   \n",
       "\n",
       "                                cancer_type_raw_text  \n",
       "0  {'id': 944, 'code': '', 'color': 'Cyan', 'name...  \n",
       "1  {'id': 936, 'code': '', 'color': 'Cyan', 'name...  \n",
       "2  {'id': 944, 'code': '', 'color': 'Cyan', 'name...  \n",
       "3  {'id': 936, 'code': '', 'color': 'Cyan', 'name...  \n",
       "8  {'id': 944, 'code': '', 'color': 'Cyan', 'name...  "
      ]
     },
     "execution_count": 43,
     "metadata": {},
     "output_type": "execute_result"
    }
   ],
   "source": [
    "aggr_df = pd.concat([\n",
    "    pd.read_csv('processed-data/oncokb_protein_change.csv'),\n",
    "    pd.read_csv('processed-data/oncokb_structural_variants.csv'),\n",
    "    pd.read_csv('processed-data/oncokb_cna.csv')], axis=0)\n",
    "aggr_df = aggr_df.drop_duplicates(subset = ['alterations', 'drugs', 'approvedIndications', 'level', 'levelAssociatedCancerType', 'levelExcludedCancerTypes', 'abstracts','pmids', 'description', 'fdaLevel'], keep = 'first')\n",
    "aggr_df.to_csv('processed-data/oncokb_all.csv', index=False)\n",
    "print(aggr_df.shape)\n",
    "aggr_df.head()"
   ]
  },
  {
   "cell_type": "code",
   "execution_count": null,
   "id": "3cb7ce86",
   "metadata": {},
   "outputs": [],
   "source": []
  }
 ],
 "metadata": {
  "kernelspec": {
   "display_name": "Python 3",
   "language": "python",
   "name": "python3"
  },
  "language_info": {
   "codemirror_mode": {
    "name": "ipython",
    "version": 3
   },
   "file_extension": ".py",
   "mimetype": "text/x-python",
   "name": "python",
   "nbconvert_exporter": "python",
   "pygments_lexer": "ipython3",
   "version": "3.10.11"
  }
 },
 "nbformat": 4,
 "nbformat_minor": 5
}
