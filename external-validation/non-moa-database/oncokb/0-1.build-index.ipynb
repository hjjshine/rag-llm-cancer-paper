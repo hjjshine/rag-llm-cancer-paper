{
 "cells": [
  {
   "cell_type": "code",
   "execution_count": 1,
   "id": "05739c02",
   "metadata": {},
   "outputs": [],
   "source": [
    "import pandas as pd \n",
    "import numpy as np\n",
    "import os, sys\n",
    "from tqdm import tqdm\n",
    "import warnings\n",
    "warnings.filterwarnings('ignore')\n",
    "while os.getcwd().split('/')[-1] != 'rag-llm-cancer-paper':\n",
    "    os.chdir('..')"
   ]
  },
  {
   "cell_type": "code",
   "execution_count": 2,
   "id": "4b96549c",
   "metadata": {},
   "outputs": [],
   "source": [
    "# ================== GENERAL IMPORTS ==================\n",
    "import os\n",
    "import json\n",
    "from dotenv import load_dotenv\n",
    "\n",
    "# ================== UTIL FUNCTIONS ==================\n",
    "from utils.embedding import retrieve_context, get_text_embedding, store_embedding #get_context_db,\n",
    "from utils.prompt import get_prompt\n",
    "from llm.run_RAGLLM import run_RAG\n",
    "\n",
    "# Generate context vector database\n",
    "def get_context_db(context_chunks, CLIENT, model_embed):\n",
    "    context_embeddings=np.array([get_text_embedding(chunk, CLIENT, model_embed) for chunk in context_chunks])\n",
    "    index=store_embedding(context_embeddings)\n",
    "    return(index)\n",
    "\n",
    "\n",
    "# ================== MODEL & API IMPORTS ==================\n",
    "from mistralai.client import MistralClient\n",
    "from openai import OpenAI\n",
    "from llm.inference import run_llm\n",
    "import faiss"
   ]
  },
  {
   "cell_type": "code",
   "execution_count": 3,
   "id": "6af3e25b",
   "metadata": {},
   "outputs": [],
   "source": [
    "# --- existing module state ---\n",
    "_READY = False\n",
    "_CLIENT = None\n",
    "_CONTEXT = None\n",
    "_INDEX = None\n",
    "_MODEL_TYPE = None\n",
    "_MODEL_NAME = None\n",
    "_MODEL_EMBED = None\n",
    "\n",
    "def _cache_paths(embed_name: str, version: str = \"v1\"):\n",
    "    os.makedirs(\"indexes\", exist_ok=True)\n",
    "    return (\n",
    "        f\"indexes/{embed_name}__{version}.faiss\",\n",
    "        f\"indexes/{embed_name}__{version}.context.json\",\n",
    "    )"
   ]
  },
  {
   "cell_type": "code",
   "execution_count": 4,
   "id": "bdba6ee8",
   "metadata": {},
   "outputs": [
    {
     "name": "stderr",
     "output_type": "stream",
     "text": [
      "625it [00:00, 56337.50it/s]\n"
     ]
    }
   ],
   "source": [
    "#make a quick first pass at building the context db\n",
    "structured_db = pd.read_csv('external-validation/non-moa-database/oncokb/oncokb-db/oncokb_core__2025-09.csv')\n",
    "statements = pd.read_csv('external-validation/non-moa-database/oncokb/oncokb-db/oncokb-draft.dereferenced.unique.context_db.csv')\n",
    "statement_dict = dict(zip(statements['statement_id'], statements['context']))\n",
    "import ast\n",
    "def build_context_chunks():\n",
    "    context_chunks = []\n",
    "    for _, row in tqdm(structured_db.iterrows()):\n",
    "        # biomarker = ast.literal_eval(row['biomarker'])\n",
    "        # cancer = row['raw_cancer']\n",
    "        # therapy = ast.literal_eval(row['therapy'])\n",
    "        # level = row['level']\n",
    "        statement_id = row['statement_id']\n",
    "        statement = statement_dict.get(statement_id, \"No statement available.\")\n",
    "\n",
    "        # text = (\n",
    "        #     'Biomarker: {biomarker}\\nCancer: {cancer}\\n'\\\n",
    "        #     'Therapy: {therapy}\\nLevel: {level}\\nEvidence Statement: {statement}'.format(\n",
    "        #         biomarker=biomarker,\n",
    "        #         cancer=cancer,\n",
    "        #         therapy=therapy,\n",
    "        #         level=level,\n",
    "        #         statement=statement\n",
    "        #     )\n",
    "        # )\n",
    "\n",
    "        context_chunks.append(statement)\n",
    "    return context_chunks\n",
    "\n",
    "context_chunks = build_context_chunks()\n",
    "context_db = pd.DataFrame(context_chunks, columns=['context'])\n",
    "context_db.to_csv('external-validation/non-moa-database/oncokb/oncokb-db/context_db.csv', index=False)\n",
    "with open('external-validation/non-moa-database/oncokb/oncokb-db/context_db.json', 'w') as f:\n",
    "    json.dump(context_db['context'].tolist(), f, indent=2)"
   ]
  },
  {
   "cell_type": "code",
   "execution_count": 5,
   "id": "450146dc",
   "metadata": {},
   "outputs": [],
   "source": [
    "def build_index(context_json_path, index_path, ctx_path):\n",
    "    global _READY, _CLIENT, _CONTEXT, _INDEX, _MODEL_TYPE, _MODEL_NAME, _MODEL_EMBED\n",
    " \n",
    "    load_dotenv()\n",
    "    api_key = os.getenv(\"OPENAI_API_KEY\")\n",
    "    _CLIENT = OpenAI(api_key=api_key)\n",
    "    _MODEL_EMBED = \"text-embedding-3-small\"\n",
    "    \n",
    "    with open(context_json_path, \"r\") as f:\n",
    "            _CONTEXT = json.load(f)\n",
    "    _INDEX = get_context_db(_CONTEXT, _CLIENT, _MODEL_EMBED)\n",
    "    faiss.write_index(_INDEX, index_path)\n",
    "    with open(ctx_path, \"w\") as f:\n",
    "        json.dump(_CONTEXT, f)\n",
    "\n",
    "os.makedirs('external-validation/non-moa-database/oncokb/oncokb-db/index', exist_ok=True)\n",
    "index_path = 'external-validation/non-moa-database/oncokb/oncokb-db/index/oncokb_2025-09.faiss'\n",
    "ctx_path = 'external-validation/non-moa-database/oncokb/oncokb-db/index/oncokb_2025-09.json'\n",
    "context_json_path = 'external-validation/non-moa-database/oncokb/oncokb-db/context_db.json'\n",
    "build_index(context_json_path, index_path, ctx_path)"
   ]
  },
  {
   "cell_type": "code",
   "execution_count": null,
   "id": "ecffbee6",
   "metadata": {},
   "outputs": [],
   "source": []
  }
 ],
 "metadata": {
  "kernelspec": {
   "display_name": "Python 3",
   "language": "python",
   "name": "python3"
  },
  "language_info": {
   "codemirror_mode": {
    "name": "ipython",
    "version": 3
   },
   "file_extension": ".py",
   "mimetype": "text/x-python",
   "name": "python",
   "nbconvert_exporter": "python",
   "pygments_lexer": "ipython3",
   "version": "3.10.11"
  }
 },
 "nbformat": 4,
 "nbformat_minor": 5
}
