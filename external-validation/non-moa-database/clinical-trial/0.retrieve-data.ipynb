{
 "cells": [
  {
   "cell_type": "code",
   "execution_count": 32,
   "id": "abee9335",
   "metadata": {},
   "outputs": [],
   "source": [
    "import pandas as pd \n",
    "import numpy as np\n",
    "import os, requests, json"
   ]
  },
  {
   "cell_type": "code",
   "execution_count": 35,
   "id": "bdfda216",
   "metadata": {},
   "outputs": [],
   "source": [
    "query = \"https://clinicaltrials.gov/api/v2/studies?pageSize=1000&format=json&markupFormat=markdown&filter.overallStatus=ENROLLING_BY_INVITATION,AVAILABLE,RECRUITING&query.locn=%22Dana-Farber+Cancer+Institute%22&countTotal=true\"\n",
    "response = requests.get(query)\n",
    "data = response.json()\n",
    "with open(os.path.join('dfci-open-all-clinical-trials.json'), 'w') as f:\n",
    "    json.dump(data, f, indent=2)"
   ]
  },
  {
   "cell_type": "code",
   "execution_count": 36,
   "id": "898e8c4c",
   "metadata": {},
   "outputs": [
    {
     "data": {
      "text/plain": [
       "645"
      ]
     },
     "execution_count": 36,
     "metadata": {},
     "output_type": "execute_result"
    }
   ],
   "source": [
    "data['totalCount']"
   ]
  },
  {
   "cell_type": "code",
   "execution_count": 37,
   "id": "3d4597ba",
   "metadata": {},
   "outputs": [
    {
     "name": "stdout",
     "output_type": "stream",
     "text": [
      "identificationModule\n",
      "nctId\n",
      "orgStudyIdInfo\n",
      "secondaryIdInfos\n",
      "organization\n",
      "briefTitle\n",
      "officialTitle\n",
      "=========\n",
      "statusModule\n",
      "statusVerifiedDate\n",
      "overallStatus\n",
      "expandedAccessInfo\n",
      "startDateStruct\n",
      "primaryCompletionDateStruct\n",
      "completionDateStruct\n",
      "studyFirstSubmitDate\n",
      "studyFirstSubmitQcDate\n",
      "studyFirstPostDateStruct\n",
      "lastUpdateSubmitDate\n",
      "lastUpdatePostDateStruct\n",
      "=========\n",
      "sponsorCollaboratorsModule\n",
      "responsibleParty\n",
      "leadSponsor\n",
      "=========\n",
      "oversightModule\n",
      "oversightHasDmc\n",
      "isFdaRegulatedDrug\n",
      "isFdaRegulatedDevice\n",
      "isUsExport\n",
      "=========\n",
      "descriptionModule\n",
      "briefSummary\n",
      "detailedDescription\n",
      "=========\n",
      "conditionsModule\n",
      "conditions\n",
      "=========\n",
      "designModule\n",
      "studyType\n",
      "phases\n",
      "designInfo\n",
      "enrollmentInfo\n",
      "=========\n",
      "armsInterventionsModule\n",
      "armGroups\n",
      "interventions\n",
      "=========\n",
      "outcomesModule\n",
      "primaryOutcomes\n",
      "secondaryOutcomes\n",
      "=========\n",
      "eligibilityModule\n",
      "eligibilityCriteria\n",
      "healthyVolunteers\n",
      "sex\n",
      "minimumAge\n",
      "stdAges\n",
      "=========\n",
      "contactsLocationsModule\n",
      "overallOfficials\n",
      "locations\n",
      "=========\n",
      "ipdSharingStatementModule\n",
      "ipdSharing\n",
      "description\n",
      "url\n",
      "=========\n"
     ]
    }
   ],
   "source": [
    "for i in data['studies'][0]['protocolSection'].keys():\n",
    "    print(i)\n",
    "    for k in data['studies'][0]['protocolSection'][i].keys():\n",
    "        print(k)\n",
    "    print('=========')"
   ]
  },
  {
   "cell_type": "markdown",
   "id": "0e85df18",
   "metadata": {},
   "source": [
    "---"
   ]
  },
  {
   "cell_type": "code",
   "execution_count": null,
   "id": "cb4678d0",
   "metadata": {},
   "outputs": [
    {
     "name": "stdout",
     "output_type": "stream",
     "text": [
      "NCT05111574 CLINICAL TRIAL - National Cancer Institute (NCI)\n",
      "This phase III trial compares the effect of adding tivozanib to standard therapy pembrolizumab versus pembrolizumab alone for the treatment of patients with high-risk renal cell carcinoma (RCC). Immunotherapy with monoclonal antibodies, such as pembrolizumab, may help the body's immune system attack the cancer, and may interfere with the ability of tumor cells to grow and spread. Tivozanib is in a class of medications called kinase inhibitors. It works by blocking the action of the abnormal protein that signals tumor cells to multiply. This helps stop the spread of tumor cells. Giving pembrolizumab and tivozanib together may work better than pembrolizumab alone in treating patients with RCC.\n",
      "['Clear Cell Renal Cell Carcinoma', 'Renal Cell Carcinoma (RCC)', 'Stage II Renal Pelvis Cancer AJCC v8', 'Stage III Renal Pelvis Cancer AJCC v8']\n"
     ]
    }
   ],
   "source": [
    "indication_id = data['studies'][0]['protocolSection']['identificationModule']['nctId']\n",
    "agency = 'CLINICAL TRIAL - ' + data['studies'][0]['protocolSection']['sponsorCollaboratorsModule']['leadSponsor']['name']\n",
    "description = data['studies'][1]['protocolSection']['descriptionModule']['briefSummary']\n",
    "cancer_type = data['studies'][1]['protocolSection']['conditionsModule']['conditions']\n",
    "url = data['studies'][0]['protocolSection']['identificationModule']['officialTitle']\n",
    "print(indication_id, agency)\n",
    "print(description)\n",
    "print(cancer_type)\n",
    "p\n"
   ]
  },
  {
   "cell_type": "code",
   "execution_count": 52,
   "id": "6a0dc1e8",
   "metadata": {},
   "outputs": [
    {
     "name": "stdout",
     "output_type": "stream",
     "text": [
      "{'nctId': 'NCT06661720', 'orgStudyIdInfo': {'id': 'A032201'}, 'secondaryIdInfos': [{'id': 'NCI-2024-08233', 'type': 'REGISTRY', 'domain': 'NCI Clinical Trial Reporting Program'}], 'organization': {'fullName': 'Alliance for Clinical Trials in Oncology', 'class': 'OTHER'}, 'briefTitle': 'Testing the Addition of the Anti-Cancer Drug Tivozanib to Immunotherapy (Pembrolizumab) After Surgery to Remove All Known Sites of Kidney Cancer', 'officialTitle': 'Short TeRm Intensified Pembrolizumab (KEytruda) and Tivozanib for High-Risk Renal Cell Carcinoma - STRIKE', 'acronym': 'STRIKE'}\n"
     ]
    }
   ],
   "source": [
    "print(data['studies'][1]['protocolSection']['identificationModule'])"
   ]
  },
  {
   "cell_type": "code",
   "execution_count": null,
   "id": "daddfb0f",
   "metadata": {},
   "outputs": [],
   "source": [
    "query.locn=%22Dana-Farber+Cancer+Institute%22&postFilter.overallStatus=ENROLLING_BY_INVITATION&"
   ]
  }
 ],
 "metadata": {
  "kernelspec": {
   "display_name": "Python 3",
   "language": "python",
   "name": "python3"
  },
  "language_info": {
   "codemirror_mode": {
    "name": "ipython",
    "version": 3
   },
   "file_extension": ".py",
   "mimetype": "text/x-python",
   "name": "python",
   "nbconvert_exporter": "python",
   "pygments_lexer": "ipython3",
   "version": "3.10.11"
  }
 },
 "nbformat": 4,
 "nbformat_minor": 5
}
