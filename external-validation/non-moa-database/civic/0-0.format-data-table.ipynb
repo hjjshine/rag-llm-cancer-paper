{
 "cells": [
  {
   "cell_type": "code",
   "execution_count": 1,
   "id": "05739c02",
   "metadata": {},
   "outputs": [],
   "source": [
    "import pandas as pd \n",
    "import numpy as np\n",
    "import os\n",
    "data_folder = 'sep-2025-release'"
   ]
  },
  {
   "cell_type": "code",
   "execution_count": 2,
   "id": "8905126b",
   "metadata": {},
   "outputs": [
    {
     "name": "stdout",
     "output_type": "stream",
     "text": [
      "(4587, 25)\n",
      "(1509, 25)\n"
     ]
    },
    {
     "data": {
      "text/plain": [
       "Index(['molecular_profile', 'molecular_profile_id', 'disease', 'doid',\n",
       "       'phenotypes', 'therapies', 'therapy_interaction_type', 'evidence_type',\n",
       "       'evidence_direction', 'evidence_level', 'significance',\n",
       "       'evidence_statement', 'citation_id', 'source_type', 'asco_abstract_id',\n",
       "       'citation', 'nct_ids', 'rating', 'evidence_status', 'evidence_id',\n",
       "       'variant_origin', 'last_review_date', 'evidence_civic_url',\n",
       "       'molecular_profile_civic_url', 'is_flagged', 'statement_id'],\n",
       "      dtype='object')"
      ]
     },
     "execution_count": 2,
     "metadata": {},
     "output_type": "execute_result"
    }
   ],
   "source": [
    "clinical_evidence = os.path.join(data_folder, '01-Sep-2025-ClinicalEvidenceSummaries.tsv')\n",
    "clinical_evidence = pd.read_csv(clinical_evidence, sep='\\t')\n",
    "print(clinical_evidence.shape)\n",
    "clinical_evidence = clinical_evidence[(clinical_evidence.therapies.notna())&\n",
    "                                      (clinical_evidence.evidence_direction == 'Supports')&\n",
    "                                      (clinical_evidence.significance == 'Sensitivity/Response')].reset_index(drop = True)\n",
    "print(clinical_evidence.shape)\n",
    "os.makedirs('civic-db', exist_ok=True)\n",
    "clinical_evidence['statement_id'] = clinical_evidence['evidence_civic_url'].apply(lambda x: x.split('/')[-1])\n",
    "clinical_evidence.columns"
   ]
  },
  {
   "cell_type": "code",
   "execution_count": 3,
   "id": "82b24cb7",
   "metadata": {},
   "outputs": [
    {
     "data": {
      "text/plain": [
       "molecular_profile                                                     ARAF S214C\n",
       "molecular_profile_id                                                          10\n",
       "disease                                            Lung Non-small Cell Carcinoma\n",
       "doid                                                                      3908.0\n",
       "phenotypes                                                                   NaN\n",
       "therapies                                                              Sorafenib\n",
       "therapy_interaction_type                                                     NaN\n",
       "evidence_type                                                         Predictive\n",
       "evidence_direction                                                      Supports\n",
       "evidence_level                                                                 C\n",
       "significance                                                Sensitivity/Response\n",
       "evidence_statement             In one patient with S214C mutation, the use of...\n",
       "citation_id                                                             24569458\n",
       "source_type                                                               PubMed\n",
       "asco_abstract_id                                                             NaN\n",
       "citation                                                 Imielinski et al., 2014\n",
       "nct_ids                                                                      NaN\n",
       "rating                                                                       2.0\n",
       "evidence_status                                                         accepted\n",
       "evidence_id                                                                   17\n",
       "variant_origin                                                           Somatic\n",
       "last_review_date                                         2023-01-09 21:46:24 UTC\n",
       "evidence_civic_url                   https://civicdb.org/links/evidence_items/17\n",
       "molecular_profile_civic_url      https://civicdb.org/links/molecular_profiles/10\n",
       "is_flagged                                                                 False\n",
       "statement_id                                                                  17\n",
       "Name: 0, dtype: object"
      ]
     },
     "execution_count": 3,
     "metadata": {},
     "output_type": "execute_result"
    }
   ],
   "source": [
    "clinical_evidence.iloc[0]"
   ]
  },
  {
   "cell_type": "code",
   "execution_count": 6,
   "id": "869afd3f",
   "metadata": {},
   "outputs": [
    {
     "data": {
      "text/plain": [
       "evidence_level\n",
       "D    553\n",
       "B    424\n",
       "C    361\n",
       "A    148\n",
       "E     23\n",
       "Name: count, dtype: int64"
      ]
     },
     "execution_count": 6,
     "metadata": {},
     "output_type": "execute_result"
    }
   ],
   "source": [
    "clinical_evidence['evidence_level'].value_counts()"
   ]
  },
  {
   "cell_type": "code",
   "execution_count": 7,
   "id": "3c5bfd0b",
   "metadata": {},
   "outputs": [
    {
     "name": "stdout",
     "output_type": "stream",
     "text": [
      "(1509, 2)\n"
     ]
    },
    {
     "data": {
      "text/plain": [
       "'In one patient with S214C mutation, the use of sorafenib has led to more than 5 years of survival and near remission.'"
      ]
     },
     "execution_count": 7,
     "metadata": {},
     "output_type": "execute_result"
    }
   ],
   "source": [
    "#save descriptions\n",
    "statements = clinical_evidence[['statement_id', 'evidence_statement']]\n",
    "print(statements.shape)\n",
    "statements.to_csv('civic-db/evidence_statements.csv', index=False)\n",
    "statements['evidence_statement'].iloc[0]"
   ]
  },
  {
   "cell_type": "markdown",
   "id": "93871487",
   "metadata": {},
   "source": [
    "----"
   ]
  },
  {
   "cell_type": "code",
   "execution_count": 32,
   "id": "31d81dac",
   "metadata": {},
   "outputs": [
    {
     "data": {
      "text/html": [
       "<div>\n",
       "<style scoped>\n",
       "    .dataframe tbody tr th:only-of-type {\n",
       "        vertical-align: middle;\n",
       "    }\n",
       "\n",
       "    .dataframe tbody tr th {\n",
       "        vertical-align: top;\n",
       "    }\n",
       "\n",
       "    .dataframe thead th {\n",
       "        text-align: right;\n",
       "    }\n",
       "</style>\n",
       "<table border=\"1\" class=\"dataframe\">\n",
       "  <thead>\n",
       "    <tr style=\"text-align: right;\">\n",
       "      <th></th>\n",
       "      <th>statement_id</th>\n",
       "      <th>approval_status</th>\n",
       "      <th>publication_date</th>\n",
       "      <th>approval_org</th>\n",
       "      <th>raw_cancer</th>\n",
       "      <th>evidence_statement</th>\n",
       "    </tr>\n",
       "  </thead>\n",
       "  <tbody>\n",
       "    <tr>\n",
       "      <th>0</th>\n",
       "      <td>17</td>\n",
       "      <td>C</td>\n",
       "      <td>2023-01-09 21:46:24 UTC</td>\n",
       "      <td>CIVIC</td>\n",
       "      <td>Lung Non-small Cell Carcinoma</td>\n",
       "      <td>In one patient with S214C mutation, the use of...</td>\n",
       "    </tr>\n",
       "  </tbody>\n",
       "</table>\n",
       "</div>"
      ],
      "text/plain": [
       "  statement_id approval_status         publication_date approval_org  \\\n",
       "0           17               C  2023-01-09 21:46:24 UTC        CIVIC   \n",
       "\n",
       "                      raw_cancer  \\\n",
       "0  Lung Non-small Cell Carcinoma   \n",
       "\n",
       "                                  evidence_statement  \n",
       "0  In one patient with S214C mutation, the use of...  "
      ]
     },
     "execution_count": 32,
     "metadata": {},
     "output_type": "execute_result"
    }
   ],
   "source": [
    "formatted_df = pd.DataFrame()\n",
    "formatted_df['statement_id'] = clinical_evidence['statement_id']\n",
    "formatted_df['approval_status'] = clinical_evidence['evidence_level']\n",
    "formatted_df['publication_date'] = clinical_evidence['last_review_date']\n",
    "formatted_df['approval_org'] = 'CIVIC'\n",
    "formatted_df['raw_cancer'] = clinical_evidence['disease']\n",
    "formatted_df['evidence_statement'] = clinical_evidence['evidence_statement']\n",
    "formatted_df.head(1)"
   ]
  },
  {
   "cell_type": "code",
   "execution_count": 33,
   "id": "9f5aac83",
   "metadata": {},
   "outputs": [
    {
     "data": {
      "text/html": [
       "<div>\n",
       "<style scoped>\n",
       "    .dataframe tbody tr th:only-of-type {\n",
       "        vertical-align: middle;\n",
       "    }\n",
       "\n",
       "    .dataframe tbody tr th {\n",
       "        vertical-align: top;\n",
       "    }\n",
       "\n",
       "    .dataframe thead th {\n",
       "        text-align: right;\n",
       "    }\n",
       "</style>\n",
       "<table border=\"1\" class=\"dataframe\">\n",
       "  <thead>\n",
       "    <tr style=\"text-align: right;\">\n",
       "      <th></th>\n",
       "      <th>statement_id</th>\n",
       "      <th>approval_status</th>\n",
       "      <th>publication_date</th>\n",
       "      <th>approval_org</th>\n",
       "      <th>raw_cancer</th>\n",
       "      <th>evidence_statement</th>\n",
       "      <th>therapy</th>\n",
       "    </tr>\n",
       "  </thead>\n",
       "  <tbody>\n",
       "    <tr>\n",
       "      <th>0</th>\n",
       "      <td>17</td>\n",
       "      <td>C</td>\n",
       "      <td>2023-01-09 21:46:24 UTC</td>\n",
       "      <td>CIVIC</td>\n",
       "      <td>Lung Non-small Cell Carcinoma</td>\n",
       "      <td>In one patient with S214C mutation, the use of...</td>\n",
       "      <td>[Sorafenib]</td>\n",
       "    </tr>\n",
       "  </tbody>\n",
       "</table>\n",
       "</div>"
      ],
      "text/plain": [
       "  statement_id approval_status         publication_date approval_org  \\\n",
       "0           17               C  2023-01-09 21:46:24 UTC        CIVIC   \n",
       "\n",
       "                      raw_cancer  \\\n",
       "0  Lung Non-small Cell Carcinoma   \n",
       "\n",
       "                                  evidence_statement      therapy  \n",
       "0  In one patient with S214C mutation, the use of...  [Sorafenib]  "
      ]
     },
     "execution_count": 33,
     "metadata": {},
     "output_type": "execute_result"
    }
   ],
   "source": [
    "#format therapies\n",
    "def format_drug(x):\n",
    "    if '2,4' not in x:\n",
    "        return [i.strip() for i in x.split(',')]\n",
    "    else:\n",
    "        return [x]\n",
    "formatted_df['therapy'] = clinical_evidence['therapies']\n",
    "formatted_df['therapy'] = formatted_df['therapy'].apply(format_drug)\n",
    "formatted_df.head(1)"
   ]
  },
  {
   "cell_type": "code",
   "execution_count": 34,
   "id": "b4b82e31",
   "metadata": {},
   "outputs": [
    {
     "data": {
      "text/plain": [
       "standardized_cancer\n",
       "Non-Small Cell Lung Cancer       285\n",
       "                                 262\n",
       "Melanoma                         115\n",
       "Cancer                            92\n",
       "Colorectal Cancer                 89\n",
       "                                ... \n",
       "Chordoma                           1\n",
       "mucosal melanoma                   1\n",
       "hematologic                        1\n",
       "cervix                             1\n",
       "Spindle Cell Rhabdomyosarcoma      1\n",
       "Name: count, Length: 94, dtype: int64"
      ]
     },
     "execution_count": 34,
     "metadata": {},
     "output_type": "execute_result"
    }
   ],
   "source": [
    "import requests\n",
    "import json\n",
    "oncotree = requests.get('https://oncotree.mskcc.org:443/api/tumorTypes').json()\n",
    "oncotree = pd.json_normalize(oncotree)\n",
    "oncotree['name'] = oncotree['name'].apply(lambda x: x.lower())\n",
    "oncotree_dict = dict(zip(oncotree['name'], oncotree['mainType']))\n",
    "#major cancer names\n",
    "cancer_dict = {'Lung Non-small Cell Carcinoma':'Non-Small Cell Lung Cancer', 'Chronic Myeloid Leukemia':'Chronic Myelogenous Leukemia',\n",
    "               'Low Grade Glioma':'Low-Grade Glioma, NOS', 'Skin Melanoma':'Melanoma',\n",
    "               }\n",
    "#map to standardized cancer\n",
    "def map_to_standardized_cancer(x):\n",
    "    if x in cancer_dict:\n",
    "        x = cancer_dict[x]\n",
    "        return x\n",
    "    elif x.lower() in oncotree_dict:\n",
    "        return x\n",
    "    elif x.lower() in ['cancer', 'solid tumor', 'sarcoma']:\n",
    "        return x\n",
    "    elif x in oncotree['mainType'].values:\n",
    "        return x\n",
    "    else:\n",
    "        try:\n",
    "            x = x.lower().replace('cancer','').replace('carcinoma','').replace('tumor','').replace('tumour','').replace('neoplasm','').split('With')[0].strip()\n",
    "            if x in oncotree_dict:\n",
    "                return x\n",
    "            elif oncotree[oncotree['name'].str.contains(x)].shape[0] > 0:\n",
    "                if oncotree[oncotree['name'].str.contains(x)]['mainType'].nunique() == 1:\n",
    "                    return x\n",
    "                else:\n",
    "                    return ''\n",
    "            else:\n",
    "                return ''\n",
    "        except:\n",
    "            return ''\n",
    "formatted_df['standardized_cancer'] = formatted_df['raw_cancer'].apply(map_to_standardized_cancer)\n",
    "formatted_df['standardized_cancer'].value_counts()"
   ]
  },
  {
   "cell_type": "code",
   "execution_count": 35,
   "id": "dde4e67b",
   "metadata": {},
   "outputs": [
    {
     "data": {
      "text/plain": [
       "raw_cancer\n",
       "Her2-receptor Positive Breast Cancer                45\n",
       "B-lymphoblastic Leukemia/lymphoma, BCR-ABL1–like    12\n",
       "Castration-resistant Prostate Carcinoma             12\n",
       "Transitional Cell Carcinoma                         12\n",
       "High Grade Glioma                                   10\n",
       "                                                    ..\n",
       "Skin Squamous Cell Carcinoma                         1\n",
       "Renal Carcinoma                                      1\n",
       "Endometrioid Ovary Carcinoma                         1\n",
       "Ureter Small Cell Carcinoma                          1\n",
       "Brain Glioblastoma Multiforme                        1\n",
       "Name: count, Length: 79, dtype: int64"
      ]
     },
     "execution_count": 35,
     "metadata": {},
     "output_type": "execute_result"
    }
   ],
   "source": [
    "formatted_df[formatted_df['standardized_cancer'] == ''].raw_cancer.value_counts()"
   ]
  },
  {
   "cell_type": "code",
   "execution_count": 36,
   "id": "41762649",
   "metadata": {},
   "outputs": [
    {
     "data": {
      "text/plain": [
       "biomarker\n",
       "[BRAF V600E]                                   61\n",
       "[ERBB2 Amplification]                          50\n",
       "[EGFR L858R]                                   45\n",
       "[v::ALK Fusion]                                37\n",
       "[EGFR Exon 19 Deletion]                        27\n",
       "                                               ..\n",
       "[MTOR E2014K, MTOR E2419K]                      1\n",
       "[SF3B1 K666N]                                   1\n",
       "[EGFR T790M, EGFR Exon 19 Deletion]             1\n",
       "[CDK4 R24C]                                     1\n",
       "[FUS::TFCP2 Fusion, ALK Exon 2-18 Deletion]     1\n",
       "Name: count, Length: 670, dtype: int64"
      ]
     },
     "execution_count": 36,
     "metadata": {},
     "output_type": "execute_result"
    }
   ],
   "source": [
    "def format_biomarker(x):\n",
    "    if 'AND' in x:\n",
    "        return x.split(' AND ')\n",
    "    else:\n",
    "        return [x]\n",
    "formatted_df['biomarker'] = clinical_evidence['molecular_profile'].apply(lambda x: x.split(' OR '))\n",
    "formatted_df = formatted_df.explode('biomarker')\n",
    "formatted_df['biomarker'] = formatted_df['biomarker'].apply(lambda x: format_biomarker(x) if type(x) == str else [x])\n",
    "formatted_df['biomarker'].value_counts()"
   ]
  },
  {
   "cell_type": "code",
   "execution_count": 37,
   "id": "0ccf8abb",
   "metadata": {},
   "outputs": [
    {
     "data": {
      "text/html": [
       "<div>\n",
       "<style scoped>\n",
       "    .dataframe tbody tr th:only-of-type {\n",
       "        vertical-align: middle;\n",
       "    }\n",
       "\n",
       "    .dataframe tbody tr th {\n",
       "        vertical-align: top;\n",
       "    }\n",
       "\n",
       "    .dataframe thead th {\n",
       "        text-align: right;\n",
       "    }\n",
       "</style>\n",
       "<table border=\"1\" class=\"dataframe\">\n",
       "  <thead>\n",
       "    <tr style=\"text-align: right;\">\n",
       "      <th></th>\n",
       "      <th>statement_id</th>\n",
       "      <th>approval_status</th>\n",
       "      <th>publication_date</th>\n",
       "      <th>approval_org</th>\n",
       "      <th>raw_cancer</th>\n",
       "      <th>evidence_statement</th>\n",
       "      <th>therapy</th>\n",
       "      <th>standardized_cancer</th>\n",
       "      <th>biomarker</th>\n",
       "    </tr>\n",
       "  </thead>\n",
       "  <tbody>\n",
       "    <tr>\n",
       "      <th>0</th>\n",
       "      <td>17</td>\n",
       "      <td>C</td>\n",
       "      <td>2023-01-09 21:46:24 UTC</td>\n",
       "      <td>CIVIC</td>\n",
       "      <td>Lung Non-small Cell Carcinoma</td>\n",
       "      <td>In one patient with S214C mutation, the use of...</td>\n",
       "      <td>[Sorafenib]</td>\n",
       "      <td>Non-Small Cell Lung Cancer</td>\n",
       "      <td>[ARAF S214C]</td>\n",
       "    </tr>\n",
       "  </tbody>\n",
       "</table>\n",
       "</div>"
      ],
      "text/plain": [
       "  statement_id approval_status         publication_date approval_org  \\\n",
       "0           17               C  2023-01-09 21:46:24 UTC        CIVIC   \n",
       "\n",
       "                      raw_cancer  \\\n",
       "0  Lung Non-small Cell Carcinoma   \n",
       "\n",
       "                                  evidence_statement      therapy  \\\n",
       "0  In one patient with S214C mutation, the use of...  [Sorafenib]   \n",
       "\n",
       "          standardized_cancer     biomarker  \n",
       "0  Non-Small Cell Lung Cancer  [ARAF S214C]  "
      ]
     },
     "execution_count": 37,
     "metadata": {},
     "output_type": "execute_result"
    }
   ],
   "source": [
    "formatted_df.head(1)"
   ]
  },
  {
   "cell_type": "code",
   "execution_count": 45,
   "id": "c8451ef1",
   "metadata": {},
   "outputs": [],
   "source": [
    "def format_context(x):\n",
    "    summary = ''\n",
    "    summary += 'Approval level: ' + x['approval_status'] + '\\n'\n",
    "    summary += 'Database: ' + x['approval_org'] + '\\n'\n",
    "    summary += 'Description: ' + x['evidence_statement'] + '\\n'\n",
    "    summary += 'Cancer type: ' + x['raw_cancer'] + '\\n'\n",
    "    summary += 'Biomarkers: ' + ', '.join(x['biomarker']) if type(x['biomarker']) == list else x['biomarker'] + '\\n'\n",
    "    summary += 'Therapy: ' + ', '.join(x['therapy']) if type(x['therapy']) == list else x['therapy'] + '\\n'\n",
    "    summary += 'Approval url: https://civicdb.org/links/evidence_items/' + x['statement_id'] + '\\n'\n",
    "    summary += 'Updated date: ' + x['publication_date']\n",
    "    return summary\n",
    "formatted_df['context'] = formatted_df.apply(format_context, axis=1)"
   ]
  },
  {
   "cell_type": "code",
   "execution_count": 50,
   "id": "5cb0d3d2",
   "metadata": {},
   "outputs": [
    {
     "data": {
      "text/html": [
       "<div>\n",
       "<style scoped>\n",
       "    .dataframe tbody tr th:only-of-type {\n",
       "        vertical-align: middle;\n",
       "    }\n",
       "\n",
       "    .dataframe tbody tr th {\n",
       "        vertical-align: top;\n",
       "    }\n",
       "\n",
       "    .dataframe thead th {\n",
       "        text-align: right;\n",
       "    }\n",
       "</style>\n",
       "<table border=\"1\" class=\"dataframe\">\n",
       "  <thead>\n",
       "    <tr style=\"text-align: right;\">\n",
       "      <th></th>\n",
       "      <th>statement_id</th>\n",
       "      <th>approval_status</th>\n",
       "      <th>publication_date</th>\n",
       "      <th>approval_org</th>\n",
       "      <th>raw_cancer</th>\n",
       "      <th>evidence_statement</th>\n",
       "      <th>therapy</th>\n",
       "      <th>standardized_cancer</th>\n",
       "      <th>biomarker</th>\n",
       "      <th>context</th>\n",
       "    </tr>\n",
       "  </thead>\n",
       "  <tbody>\n",
       "    <tr>\n",
       "      <th>0</th>\n",
       "      <td>17</td>\n",
       "      <td>C</td>\n",
       "      <td>2023-01-09 21:46:24 UTC</td>\n",
       "      <td>CIVIC</td>\n",
       "      <td>Lung Non-small Cell Carcinoma</td>\n",
       "      <td>In one patient with S214C mutation, the use of...</td>\n",
       "      <td>[Sorafenib]</td>\n",
       "      <td>Non-Small Cell Lung Cancer</td>\n",
       "      <td>[ARAF S214C]</td>\n",
       "      <td>Approval level: C\\nDatabase: CIVIC\\nDescriptio...</td>\n",
       "    </tr>\n",
       "    <tr>\n",
       "      <th>1</th>\n",
       "      <td>18</td>\n",
       "      <td>B</td>\n",
       "      <td>2023-01-09 21:46:25 UTC</td>\n",
       "      <td>CIVIC</td>\n",
       "      <td>Acute Myeloid Leukemia</td>\n",
       "      <td>Idarubicin increases the overall survival and ...</td>\n",
       "      <td>[Idarubicin]</td>\n",
       "      <td>Acute Myeloid Leukemia</td>\n",
       "      <td>[DNMT3A R882]</td>\n",
       "      <td>Approval level: B\\nDatabase: CIVIC\\nDescriptio...</td>\n",
       "    </tr>\n",
       "    <tr>\n",
       "      <th>2</th>\n",
       "      <td>19</td>\n",
       "      <td>B</td>\n",
       "      <td>2023-01-09 21:46:26 UTC</td>\n",
       "      <td>CIVIC</td>\n",
       "      <td>Polycythemia Vera</td>\n",
       "      <td>In patients with JAK2 V617F, the use of pegyla...</td>\n",
       "      <td>[Peginterferon Alfa-2b]</td>\n",
       "      <td>Polycythemia Vera</td>\n",
       "      <td>[JAK2 V617F]</td>\n",
       "      <td>Approval level: B\\nDatabase: CIVIC\\nDescriptio...</td>\n",
       "    </tr>\n",
       "    <tr>\n",
       "      <th>3</th>\n",
       "      <td>20</td>\n",
       "      <td>D</td>\n",
       "      <td>2023-01-09 21:46:26 UTC</td>\n",
       "      <td>CIVIC</td>\n",
       "      <td>Polycythemia Vera</td>\n",
       "      <td>TG101348 effectively inhibits STAT5 signaling ...</td>\n",
       "      <td>[Fedratinib]</td>\n",
       "      <td>Polycythemia Vera</td>\n",
       "      <td>[JAK2 V617F]</td>\n",
       "      <td>Approval level: D\\nDatabase: CIVIC\\nDescriptio...</td>\n",
       "    </tr>\n",
       "    <tr>\n",
       "      <th>4</th>\n",
       "      <td>21</td>\n",
       "      <td>C</td>\n",
       "      <td>2023-01-09 21:46:27 UTC</td>\n",
       "      <td>CIVIC</td>\n",
       "      <td>Melanoma</td>\n",
       "      <td>Likely due to increased reliance of mutant NRA...</td>\n",
       "      <td>[Tanespimycin]</td>\n",
       "      <td>Melanoma</td>\n",
       "      <td>[NRAS G13D]</td>\n",
       "      <td>Approval level: C\\nDatabase: CIVIC\\nDescriptio...</td>\n",
       "    </tr>\n",
       "    <tr>\n",
       "      <th>...</th>\n",
       "      <td>...</td>\n",
       "      <td>...</td>\n",
       "      <td>...</td>\n",
       "      <td>...</td>\n",
       "      <td>...</td>\n",
       "      <td>...</td>\n",
       "      <td>...</td>\n",
       "      <td>...</td>\n",
       "      <td>...</td>\n",
       "      <td>...</td>\n",
       "    </tr>\n",
       "    <tr>\n",
       "      <th>1504</th>\n",
       "      <td>12371</td>\n",
       "      <td>C</td>\n",
       "      <td>2025-06-10 20:44:50 UTC</td>\n",
       "      <td>CIVIC</td>\n",
       "      <td>Lung Non-small Cell Carcinoma</td>\n",
       "      <td>A 37-year-old never smoker was diagnosed of pu...</td>\n",
       "      <td>[Gefitinib]</td>\n",
       "      <td>Non-Small Cell Lung Cancer</td>\n",
       "      <td>[EGFR::RAD51 Fusion]</td>\n",
       "      <td>Approval level: C\\nDatabase: CIVIC\\nDescriptio...</td>\n",
       "    </tr>\n",
       "    <tr>\n",
       "      <th>1505</th>\n",
       "      <td>12372</td>\n",
       "      <td>C</td>\n",
       "      <td>2025-06-10 21:01:24 UTC</td>\n",
       "      <td>CIVIC</td>\n",
       "      <td>Lung Adenocarcinoma</td>\n",
       "      <td>This is a case report of a 45-year-old male ne...</td>\n",
       "      <td>[Osimertinib]</td>\n",
       "      <td>Lung Adenocarcinoma</td>\n",
       "      <td>[EGFR::RAD51 Fusion]</td>\n",
       "      <td>Approval level: C\\nDatabase: CIVIC\\nDescriptio...</td>\n",
       "    </tr>\n",
       "    <tr>\n",
       "      <th>1506</th>\n",
       "      <td>12406</td>\n",
       "      <td>C</td>\n",
       "      <td>2025-05-20 21:42:45 UTC</td>\n",
       "      <td>CIVIC</td>\n",
       "      <td>Spindle Cell Rhabdomyosarcoma</td>\n",
       "      <td>A 31 year old male initially thought to have a...</td>\n",
       "      <td>[Alectinib]</td>\n",
       "      <td>Spindle Cell Rhabdomyosarcoma</td>\n",
       "      <td>[FUS::TFCP2 Fusion, ALK Exon 2-18 Deletion]</td>\n",
       "      <td>Approval level: C\\nDatabase: CIVIC\\nDescriptio...</td>\n",
       "    </tr>\n",
       "    <tr>\n",
       "      <th>1507</th>\n",
       "      <td>12469</td>\n",
       "      <td>B</td>\n",
       "      <td>2025-08-04 13:04:11 UTC</td>\n",
       "      <td>CIVIC</td>\n",
       "      <td>Breast Cancer</td>\n",
       "      <td>Fibroblast Growth Factor Receptor 1 (FGFR1) am...</td>\n",
       "      <td>[Erdafitinib]</td>\n",
       "      <td>Breast Cancer</td>\n",
       "      <td>[FGFR1 Amplification]</td>\n",
       "      <td>Approval level: B\\nDatabase: CIVIC\\nDescriptio...</td>\n",
       "    </tr>\n",
       "    <tr>\n",
       "      <th>1508</th>\n",
       "      <td>12478</td>\n",
       "      <td>B</td>\n",
       "      <td>2025-08-13 19:15:51 UTC</td>\n",
       "      <td>CIVIC</td>\n",
       "      <td>Breast Cancer</td>\n",
       "      <td>Dovitinib, a pan-FGFR small molecular inhibito...</td>\n",
       "      <td>[Dovitinib]</td>\n",
       "      <td>Breast Cancer</td>\n",
       "      <td>[FGFR1 Amplification]</td>\n",
       "      <td>Approval level: B\\nDatabase: CIVIC\\nDescriptio...</td>\n",
       "    </tr>\n",
       "  </tbody>\n",
       "</table>\n",
       "<p>1569 rows × 10 columns</p>\n",
       "</div>"
      ],
      "text/plain": [
       "     statement_id approval_status         publication_date approval_org  \\\n",
       "0              17               C  2023-01-09 21:46:24 UTC        CIVIC   \n",
       "1              18               B  2023-01-09 21:46:25 UTC        CIVIC   \n",
       "2              19               B  2023-01-09 21:46:26 UTC        CIVIC   \n",
       "3              20               D  2023-01-09 21:46:26 UTC        CIVIC   \n",
       "4              21               C  2023-01-09 21:46:27 UTC        CIVIC   \n",
       "...           ...             ...                      ...          ...   \n",
       "1504        12371               C  2025-06-10 20:44:50 UTC        CIVIC   \n",
       "1505        12372               C  2025-06-10 21:01:24 UTC        CIVIC   \n",
       "1506        12406               C  2025-05-20 21:42:45 UTC        CIVIC   \n",
       "1507        12469               B  2025-08-04 13:04:11 UTC        CIVIC   \n",
       "1508        12478               B  2025-08-13 19:15:51 UTC        CIVIC   \n",
       "\n",
       "                         raw_cancer  \\\n",
       "0     Lung Non-small Cell Carcinoma   \n",
       "1            Acute Myeloid Leukemia   \n",
       "2                 Polycythemia Vera   \n",
       "3                 Polycythemia Vera   \n",
       "4                          Melanoma   \n",
       "...                             ...   \n",
       "1504  Lung Non-small Cell Carcinoma   \n",
       "1505            Lung Adenocarcinoma   \n",
       "1506  Spindle Cell Rhabdomyosarcoma   \n",
       "1507                  Breast Cancer   \n",
       "1508                  Breast Cancer   \n",
       "\n",
       "                                     evidence_statement  \\\n",
       "0     In one patient with S214C mutation, the use of...   \n",
       "1     Idarubicin increases the overall survival and ...   \n",
       "2     In patients with JAK2 V617F, the use of pegyla...   \n",
       "3     TG101348 effectively inhibits STAT5 signaling ...   \n",
       "4     Likely due to increased reliance of mutant NRA...   \n",
       "...                                                 ...   \n",
       "1504  A 37-year-old never smoker was diagnosed of pu...   \n",
       "1505  This is a case report of a 45-year-old male ne...   \n",
       "1506  A 31 year old male initially thought to have a...   \n",
       "1507  Fibroblast Growth Factor Receptor 1 (FGFR1) am...   \n",
       "1508  Dovitinib, a pan-FGFR small molecular inhibito...   \n",
       "\n",
       "                      therapy            standardized_cancer  \\\n",
       "0                 [Sorafenib]     Non-Small Cell Lung Cancer   \n",
       "1                [Idarubicin]         Acute Myeloid Leukemia   \n",
       "2     [Peginterferon Alfa-2b]              Polycythemia Vera   \n",
       "3                [Fedratinib]              Polycythemia Vera   \n",
       "4              [Tanespimycin]                       Melanoma   \n",
       "...                       ...                            ...   \n",
       "1504              [Gefitinib]     Non-Small Cell Lung Cancer   \n",
       "1505            [Osimertinib]            Lung Adenocarcinoma   \n",
       "1506              [Alectinib]  Spindle Cell Rhabdomyosarcoma   \n",
       "1507            [Erdafitinib]                  Breast Cancer   \n",
       "1508              [Dovitinib]                  Breast Cancer   \n",
       "\n",
       "                                        biomarker  \\\n",
       "0                                    [ARAF S214C]   \n",
       "1                                   [DNMT3A R882]   \n",
       "2                                    [JAK2 V617F]   \n",
       "3                                    [JAK2 V617F]   \n",
       "4                                     [NRAS G13D]   \n",
       "...                                           ...   \n",
       "1504                         [EGFR::RAD51 Fusion]   \n",
       "1505                         [EGFR::RAD51 Fusion]   \n",
       "1506  [FUS::TFCP2 Fusion, ALK Exon 2-18 Deletion]   \n",
       "1507                        [FGFR1 Amplification]   \n",
       "1508                        [FGFR1 Amplification]   \n",
       "\n",
       "                                                context  \n",
       "0     Approval level: C\\nDatabase: CIVIC\\nDescriptio...  \n",
       "1     Approval level: B\\nDatabase: CIVIC\\nDescriptio...  \n",
       "2     Approval level: B\\nDatabase: CIVIC\\nDescriptio...  \n",
       "3     Approval level: D\\nDatabase: CIVIC\\nDescriptio...  \n",
       "4     Approval level: C\\nDatabase: CIVIC\\nDescriptio...  \n",
       "...                                                 ...  \n",
       "1504  Approval level: C\\nDatabase: CIVIC\\nDescriptio...  \n",
       "1505  Approval level: C\\nDatabase: CIVIC\\nDescriptio...  \n",
       "1506  Approval level: C\\nDatabase: CIVIC\\nDescriptio...  \n",
       "1507  Approval level: B\\nDatabase: CIVIC\\nDescriptio...  \n",
       "1508  Approval level: B\\nDatabase: CIVIC\\nDescriptio...  \n",
       "\n",
       "[1569 rows x 10 columns]"
      ]
     },
     "execution_count": 50,
     "metadata": {},
     "output_type": "execute_result"
    }
   ],
   "source": [
    "df = formatted_df.copy()\n",
    "df.to_csv('civic-db/civic-draft.dereferenced.unique.context_db.csv', index=False)\n",
    "df"
   ]
  },
  {
   "cell_type": "code",
   "execution_count": 47,
   "id": "af6278cf",
   "metadata": {},
   "outputs": [],
   "source": [
    "import tiktoken\n",
    "encoding = tiktoken.encoding_for_model(\"gpt-4o\")"
   ]
  },
  {
   "cell_type": "code",
   "execution_count": 48,
   "id": "66d2e269",
   "metadata": {},
   "outputs": [
    {
     "name": "stdout",
     "output_type": "stream",
     "text": [
      "# chunks: 1569\n",
      "Min: 83\n",
      "Max: 579\n",
      "Mean: 204.54811982154237\n",
      "Median: 187.0\n",
      "IQR: 149.0-245.0\n"
     ]
    }
   ],
   "source": [
    "def calc_iqr(chunk_size_list):\n",
    "    q1 = np.percentile(chunk_size_list, 25)\n",
    "    q3 = np.percentile(chunk_size_list, 75)\n",
    "    iqr = f'{q1}-{q3}'\n",
    "    return(iqr)\n",
    "\n",
    "struc_context_size = [len(encoding.encode(context)) for context in df['context']]\n",
    "print(\"# chunks: \"+str(len(struc_context_size)))\n",
    "print(\"Min: \"+str(np.min(struc_context_size)))\n",
    "print(\"Max: \"+str(np.max(struc_context_size)))\n",
    "print(\"Mean: \"+str(np.mean(struc_context_size)))\n",
    "print(\"Median: \"+str(np.median(struc_context_size)))\n",
    "print(\"IQR: \"+str(calc_iqr(struc_context_size)))\n"
   ]
  },
  {
   "cell_type": "code",
   "execution_count": 52,
   "id": "09cbe679",
   "metadata": {},
   "outputs": [
    {
     "data": {
      "text/html": [
       "<div>\n",
       "<style scoped>\n",
       "    .dataframe tbody tr th:only-of-type {\n",
       "        vertical-align: middle;\n",
       "    }\n",
       "\n",
       "    .dataframe tbody tr th {\n",
       "        vertical-align: top;\n",
       "    }\n",
       "\n",
       "    .dataframe thead th {\n",
       "        text-align: right;\n",
       "    }\n",
       "</style>\n",
       "<table border=\"1\" class=\"dataframe\">\n",
       "  <thead>\n",
       "    <tr style=\"text-align: right;\">\n",
       "      <th></th>\n",
       "      <th>statement_id</th>\n",
       "      <th>approval_status</th>\n",
       "      <th>publication_date</th>\n",
       "      <th>approval_org</th>\n",
       "      <th>raw_cancer</th>\n",
       "      <th>evidence_statement</th>\n",
       "      <th>therapy</th>\n",
       "      <th>standardized_cancer</th>\n",
       "      <th>biomarker</th>\n",
       "      <th>context</th>\n",
       "    </tr>\n",
       "  </thead>\n",
       "  <tbody>\n",
       "    <tr>\n",
       "      <th>0</th>\n",
       "      <td>17</td>\n",
       "      <td>C</td>\n",
       "      <td>2023-01-09 21:46:24 UTC</td>\n",
       "      <td>CIVIC</td>\n",
       "      <td>Lung Non-small Cell Carcinoma</td>\n",
       "      <td>In one patient with S214C mutation, the use of...</td>\n",
       "      <td>['Sorafenib']</td>\n",
       "      <td>Non-Small Cell Lung Cancer</td>\n",
       "      <td>['ARAF S214C']</td>\n",
       "      <td>Approval level: C\\nDatabase: CIVIC\\nDescriptio...</td>\n",
       "    </tr>\n",
       "  </tbody>\n",
       "</table>\n",
       "</div>"
      ],
      "text/plain": [
       "   statement_id approval_status         publication_date approval_org  \\\n",
       "0            17               C  2023-01-09 21:46:24 UTC        CIVIC   \n",
       "\n",
       "                      raw_cancer  \\\n",
       "0  Lung Non-small Cell Carcinoma   \n",
       "\n",
       "                                  evidence_statement        therapy  \\\n",
       "0  In one patient with S214C mutation, the use of...  ['Sorafenib']   \n",
       "\n",
       "          standardized_cancer       biomarker  \\\n",
       "0  Non-Small Cell Lung Cancer  ['ARAF S214C']   \n",
       "\n",
       "                                             context  \n",
       "0  Approval level: C\\nDatabase: CIVIC\\nDescriptio...  "
      ]
     },
     "execution_count": 52,
     "metadata": {},
     "output_type": "execute_result"
    }
   ],
   "source": [
    "#for now, as we don't have the core dataframe, we save the formatted dataframe as df\n",
    "df = pd.read_csv('civic-db/civic-draft.dereferenced.unique.context_db.csv')\n",
    "df.head(1)"
   ]
  },
  {
   "cell_type": "code",
   "execution_count": 54,
   "id": "af763df9",
   "metadata": {},
   "outputs": [
    {
     "name": "stderr",
     "output_type": "stream",
     "text": [
      "/var/folders/n_/hh_by1z91yd4l5wmkyclq4r00000gn/T/ipykernel_82781/1541998985.py:3: SettingWithCopyWarning: \n",
      "A value is trying to be set on a copy of a slice from a DataFrame.\n",
      "Try using .loc[row_indexer,col_indexer] = value instead\n",
      "\n",
      "See the caveats in the documentation: https://pandas.pydata.org/pandas-docs/stable/user_guide/indexing.html#returning-a-view-versus-a-copy\n",
      "  standardized_to_raw_mapping['modified_standard_cancer'] = standardized_to_raw_mapping['standardized_cancer']\n"
     ]
    },
    {
     "data": {
      "text/html": [
       "<div>\n",
       "<style scoped>\n",
       "    .dataframe tbody tr th:only-of-type {\n",
       "        vertical-align: middle;\n",
       "    }\n",
       "\n",
       "    .dataframe tbody tr th {\n",
       "        vertical-align: top;\n",
       "    }\n",
       "\n",
       "    .dataframe thead th {\n",
       "        text-align: right;\n",
       "    }\n",
       "</style>\n",
       "<table border=\"1\" class=\"dataframe\">\n",
       "  <thead>\n",
       "    <tr style=\"text-align: right;\">\n",
       "      <th></th>\n",
       "      <th>statement_id</th>\n",
       "      <th>standardized_cancer</th>\n",
       "      <th>raw_cancer</th>\n",
       "      <th>biomarker</th>\n",
       "      <th>therapy</th>\n",
       "      <th>modified_standard_cancer</th>\n",
       "    </tr>\n",
       "  </thead>\n",
       "  <tbody>\n",
       "    <tr>\n",
       "      <th>0</th>\n",
       "      <td>17</td>\n",
       "      <td>Non-Small Cell Lung Cancer</td>\n",
       "      <td>Lung Non-small Cell Carcinoma</td>\n",
       "      <td>['ARAF S214C']</td>\n",
       "      <td>['Sorafenib']</td>\n",
       "      <td>Non-Small Cell Lung Cancer</td>\n",
       "    </tr>\n",
       "  </tbody>\n",
       "</table>\n",
       "</div>"
      ],
      "text/plain": [
       "   statement_id         standardized_cancer                     raw_cancer  \\\n",
       "0            17  Non-Small Cell Lung Cancer  Lung Non-small Cell Carcinoma   \n",
       "\n",
       "        biomarker        therapy    modified_standard_cancer  \n",
       "0  ['ARAF S214C']  ['Sorafenib']  Non-Small Cell Lung Cancer  "
      ]
     },
     "execution_count": 54,
     "metadata": {},
     "output_type": "execute_result"
    }
   ],
   "source": [
    "standardized_to_raw_mapping = df[['statement_id', 'standardized_cancer', 'raw_cancer', 'biomarker', 'therapy']]\n",
    "\n",
    "standardized_to_raw_mapping['modified_standard_cancer'] = standardized_to_raw_mapping['standardized_cancer']\n",
    "standardized_to_raw_mapping.to_csv(f\"civic-db/civic_core__2025-09.csv\", index=False)\n",
    "standardized_to_raw_mapping.head(1)"
   ]
  },
  {
   "cell_type": "code",
   "execution_count": null,
   "id": "877ed416",
   "metadata": {},
   "outputs": [],
   "source": []
  }
 ],
 "metadata": {
  "kernelspec": {
   "display_name": "Python 3",
   "language": "python",
   "name": "python3"
  },
  "language_info": {
   "codemirror_mode": {
    "name": "ipython",
    "version": 3
   },
   "file_extension": ".py",
   "mimetype": "text/x-python",
   "name": "python",
   "nbconvert_exporter": "python",
   "pygments_lexer": "ipython3",
   "version": "3.10.11"
  }
 },
 "nbformat": 4,
 "nbformat_minor": 5
}
