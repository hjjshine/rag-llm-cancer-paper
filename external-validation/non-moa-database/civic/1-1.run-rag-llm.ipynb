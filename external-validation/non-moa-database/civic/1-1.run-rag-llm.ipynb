{
 "cells": [
  {
   "cell_type": "code",
   "execution_count": 1,
   "id": "40db9eaf",
   "metadata": {},
   "outputs": [],
   "source": [
    "import pandas as pd \n",
    "import numpy as np\n",
    "import os, sys\n",
    "from tqdm import tqdm\n",
    "import warnings\n",
    "warnings.filterwarnings('ignore')"
   ]
  },
  {
   "cell_type": "code",
   "execution_count": null,
   "id": "81ef377c",
   "metadata": {},
   "outputs": [],
   "source": [
    "'''\n",
    "~/rag-llm-cancer-paper$ python main.py \\\n",
    "--mode=rag-llm \\\n",
    "--csv_path=data/moa_fda_queries_answers.csv \\\n",
    "--model_type=gpt \\\n",
    "--model_api=gpt-4o-2024-05-13 \\\n",
    "--strategy=0 \\\n",
    "--context_chunks=data/structured_context_chunks.json \\\n",
    "--num_iter=1 \\\n",
    "--output_dir=output/RAG_res_gpt4o \\\n",
    "--temp=0.0 \\\n",
    "--max_len=2048 \\\n",
    "--random_seed=2025 \n",
    "'''"
   ]
  }
 ],
 "metadata": {
  "kernelspec": {
   "display_name": "Python 3",
   "language": "python",
   "name": "python3"
  },
  "language_info": {
   "codemirror_mode": {
    "name": "ipython",
    "version": 3
   },
   "file_extension": ".py",
   "mimetype": "text/x-python",
   "name": "python",
   "nbconvert_exporter": "python",
   "pygments_lexer": "ipython3",
   "version": "3.10.11"
  }
 },
 "nbformat": 4,
 "nbformat_minor": 5
}
